{
 "cells": [
  {
   "cell_type": "markdown",
   "metadata": {
    "cell_id": "00000-23f81991-5f57-4a78-aae5-b19962b334e1",
    "deepnote_cell_type": "markdown"
   },
   "source": [
    "# Outline\n",
    "\n",
    "## 1. Data Cleaning\n",
    "## 2. Data Exploration\n",
    "## 3. Feature Engineering\n",
    "## 4. Data Preprocessing\n",
    "## 5. Model Building"
   ]
  },
  {
   "cell_type": "code",
   "execution_count": 1,
   "metadata": {
    "cell_id": "00001-9e627fe7-d643-4aca-90d8-92cb0fe0c434",
    "deepnote_cell_type": "code",
    "execution_millis": 3100,
    "execution_start": 1606190067266,
    "output_cleared": false,
    "source_hash": "4797d186"
   },
   "outputs": [],
   "source": [
    "import pandas as pd\n",
    "import matplotlib.pyplot as plt\n",
    "import numpy as np\n",
    "import pickle\n",
    "import seaborn as sns\n",
    "import math\n",
    "from sklearn.model_selection import train_test_split\n",
    "import random\n",
    "%matplotlib inline"
   ]
  },
  {
   "cell_type": "markdown",
   "metadata": {
    "cell_id": "00002-28bbf3a9-6e62-482e-9d69-f10eec049149",
    "deepnote_cell_type": "markdown"
   },
   "source": [
    "### Data Cleaning"
   ]
  },
  {
   "cell_type": "code",
   "execution_count": 2,
   "metadata": {
    "cell_id": "00003-d068e018-70d6-4d84-abb2-67e8625687fa",
    "deepnote_cell_type": "code",
    "execution_millis": 303,
    "execution_start": 1606190070371,
    "output_cleared": false,
    "source_hash": "d0012488"
   },
   "outputs": [],
   "source": [
    "data = pd.read_csv('owid-covid-data.csv')\n",
    "data.dropna(subset=['iso_code'],inplace=True)\n",
    "pd.set_option(\"max_rows\",10)"
   ]
  },
  {
   "cell_type": "code",
   "execution_count": 3,
   "metadata": {
    "cell_id": "00004-c684794c-9c33-4af5-b79b-f5877a698003",
    "deepnote_cell_type": "code",
    "execution_millis": 7,
    "execution_start": 1606190070681,
    "output_cleared": false,
    "scrolled": false,
    "source_hash": "c8a8c27a"
   },
   "outputs": [
    {
     "data": {
      "text/plain": [
       "Index(['iso_code', 'continent', 'location', 'date', 'total_cases', 'new_cases',\n",
       "       'new_cases_smoothed', 'total_deaths', 'new_deaths',\n",
       "       'new_deaths_smoothed', 'total_cases_per_million',\n",
       "       'new_cases_per_million', 'new_cases_smoothed_per_million',\n",
       "       'total_deaths_per_million', 'new_deaths_per_million',\n",
       "       'new_deaths_smoothed_per_million', 'reproduction_rate', 'icu_patients',\n",
       "       'icu_patients_per_million', 'hosp_patients',\n",
       "       'hosp_patients_per_million', 'weekly_icu_admissions',\n",
       "       'weekly_icu_admissions_per_million', 'weekly_hosp_admissions',\n",
       "       'weekly_hosp_admissions_per_million', 'new_tests', 'total_tests',\n",
       "       'total_tests_per_thousand', 'new_tests_per_thousand',\n",
       "       'new_tests_smoothed', 'new_tests_smoothed_per_thousand',\n",
       "       'positive_rate', 'tests_per_case', 'tests_units', 'total_vaccinations',\n",
       "       'total_vaccinations_per_hundred', 'stringency_index', 'population',\n",
       "       'population_density', 'median_age', 'aged_65_older', 'aged_70_older',\n",
       "       'gdp_per_capita', 'extreme_poverty', 'cardiovasc_death_rate',\n",
       "       'diabetes_prevalence', 'female_smokers', 'male_smokers',\n",
       "       'handwashing_facilities', 'hospital_beds_per_thousand',\n",
       "       'life_expectancy', 'human_development_index'],\n",
       "      dtype='object')"
      ]
     },
     "execution_count": 3,
     "metadata": {},
     "output_type": "execute_result"
    }
   ],
   "source": [
    "data.columns"
   ]
  },
  {
   "cell_type": "code",
   "execution_count": 4,
   "metadata": {
    "cell_id": "00005-7ec31ada-497f-433a-a7e0-43d58b74f178",
    "deepnote_cell_type": "code",
    "execution_millis": 24,
    "execution_start": 1606190070694,
    "output_cleared": false,
    "source_hash": "bb0e71bf"
   },
   "outputs": [
    {
     "name": "stderr",
     "output_type": "stream",
     "text": [
      "/opt/anaconda3/lib/python3.7/site-packages/ipykernel_launcher.py:14: SettingWithCopyWarning: \n",
      "A value is trying to be set on a copy of a slice from a DataFrame.\n",
      "Try using .loc[row_indexer,col_indexer] = value instead\n",
      "\n",
      "See the caveats in the documentation: http://pandas.pydata.org/pandas-docs/stable/user_guide/indexing.html#returning-a-view-versus-a-copy\n",
      "  \n"
     ]
    }
   ],
   "source": [
    "newData = data[['iso_code','continent','location',\n",
    "                'population','human_development_index','gdp_per_capita',\n",
    "                'date','total_cases','total_deaths',\n",
    "                'new_cases','new_deaths','new_cases_smoothed',\n",
    "                'new_deaths_smoothed','total_cases_per_million','total_deaths_per_million',\n",
    "                'new_cases_per_million','new_deaths_per_million','new_cases_smoothed_per_million',\n",
    "                'new_deaths_smoothed_per_million','diabetes_prevalence','cardiovasc_death_rate',\n",
    "                'median_age','handwashing_facilities','hospital_beds_per_thousand',\n",
    "                'life_expectancy','stringency_index','total_tests',\n",
    "                'new_tests','total_tests_per_thousand','new_tests_per_thousand',\n",
    "                'new_tests_smoothed','new_tests_smoothed_per_thousand','tests_per_case',\n",
    "                'extreme_poverty']]\n",
    "\n",
    "newData['id'] = range(1,len(newData)+1)\n",
    "cols = newData.columns.tolist()\n",
    "cols = cols[-1:] + cols[:-1]\n",
    "newData = newData[cols]"
   ]
  },
  {
   "cell_type": "code",
   "execution_count": 5,
   "metadata": {
    "cell_id": "00006-e7f94095-045b-4601-b0af-94430dbd5e60",
    "deepnote_cell_type": "code",
    "execution_millis": 115,
    "execution_start": 1606190070725,
    "output_cleared": false,
    "source_hash": "8d4a3c80"
   },
   "outputs": [
    {
     "data": {
      "text/html": [
       "<div>\n",
       "<style scoped>\n",
       "    .dataframe tbody tr th:only-of-type {\n",
       "        vertical-align: middle;\n",
       "    }\n",
       "\n",
       "    .dataframe tbody tr th {\n",
       "        vertical-align: top;\n",
       "    }\n",
       "\n",
       "    .dataframe thead th {\n",
       "        text-align: right;\n",
       "    }\n",
       "</style>\n",
       "<table border=\"1\" class=\"dataframe\">\n",
       "  <thead>\n",
       "    <tr style=\"text-align: right;\">\n",
       "      <th></th>\n",
       "      <th>id</th>\n",
       "      <th>iso_code</th>\n",
       "      <th>continent</th>\n",
       "      <th>location</th>\n",
       "      <th>population</th>\n",
       "      <th>human_development_index</th>\n",
       "      <th>gdp_per_capita</th>\n",
       "      <th>date</th>\n",
       "      <th>total_cases</th>\n",
       "      <th>total_deaths</th>\n",
       "      <th>...</th>\n",
       "      <th>life_expectancy</th>\n",
       "      <th>stringency_index</th>\n",
       "      <th>total_tests</th>\n",
       "      <th>new_tests</th>\n",
       "      <th>total_tests_per_thousand</th>\n",
       "      <th>new_tests_per_thousand</th>\n",
       "      <th>new_tests_smoothed</th>\n",
       "      <th>new_tests_smoothed_per_thousand</th>\n",
       "      <th>tests_per_case</th>\n",
       "      <th>extreme_poverty</th>\n",
       "    </tr>\n",
       "  </thead>\n",
       "  <tbody>\n",
       "    <tr>\n",
       "      <td>0</td>\n",
       "      <td>1</td>\n",
       "      <td>AFG</td>\n",
       "      <td>Asia</td>\n",
       "      <td>Afghanistan</td>\n",
       "      <td>38928341.0</td>\n",
       "      <td>0.498</td>\n",
       "      <td>1803.987</td>\n",
       "      <td>2020-02-24</td>\n",
       "      <td>1.0</td>\n",
       "      <td>NaN</td>\n",
       "      <td>...</td>\n",
       "      <td>64.83</td>\n",
       "      <td>8.33</td>\n",
       "      <td>NaN</td>\n",
       "      <td>NaN</td>\n",
       "      <td>NaN</td>\n",
       "      <td>NaN</td>\n",
       "      <td>NaN</td>\n",
       "      <td>NaN</td>\n",
       "      <td>NaN</td>\n",
       "      <td>NaN</td>\n",
       "    </tr>\n",
       "    <tr>\n",
       "      <td>1</td>\n",
       "      <td>2</td>\n",
       "      <td>AFG</td>\n",
       "      <td>Asia</td>\n",
       "      <td>Afghanistan</td>\n",
       "      <td>38928341.0</td>\n",
       "      <td>0.498</td>\n",
       "      <td>1803.987</td>\n",
       "      <td>2020-02-25</td>\n",
       "      <td>1.0</td>\n",
       "      <td>NaN</td>\n",
       "      <td>...</td>\n",
       "      <td>64.83</td>\n",
       "      <td>8.33</td>\n",
       "      <td>NaN</td>\n",
       "      <td>NaN</td>\n",
       "      <td>NaN</td>\n",
       "      <td>NaN</td>\n",
       "      <td>NaN</td>\n",
       "      <td>NaN</td>\n",
       "      <td>NaN</td>\n",
       "      <td>NaN</td>\n",
       "    </tr>\n",
       "    <tr>\n",
       "      <td>2</td>\n",
       "      <td>3</td>\n",
       "      <td>AFG</td>\n",
       "      <td>Asia</td>\n",
       "      <td>Afghanistan</td>\n",
       "      <td>38928341.0</td>\n",
       "      <td>0.498</td>\n",
       "      <td>1803.987</td>\n",
       "      <td>2020-02-26</td>\n",
       "      <td>1.0</td>\n",
       "      <td>NaN</td>\n",
       "      <td>...</td>\n",
       "      <td>64.83</td>\n",
       "      <td>8.33</td>\n",
       "      <td>NaN</td>\n",
       "      <td>NaN</td>\n",
       "      <td>NaN</td>\n",
       "      <td>NaN</td>\n",
       "      <td>NaN</td>\n",
       "      <td>NaN</td>\n",
       "      <td>NaN</td>\n",
       "      <td>NaN</td>\n",
       "    </tr>\n",
       "    <tr>\n",
       "      <td>3</td>\n",
       "      <td>4</td>\n",
       "      <td>AFG</td>\n",
       "      <td>Asia</td>\n",
       "      <td>Afghanistan</td>\n",
       "      <td>38928341.0</td>\n",
       "      <td>0.498</td>\n",
       "      <td>1803.987</td>\n",
       "      <td>2020-02-27</td>\n",
       "      <td>1.0</td>\n",
       "      <td>NaN</td>\n",
       "      <td>...</td>\n",
       "      <td>64.83</td>\n",
       "      <td>8.33</td>\n",
       "      <td>NaN</td>\n",
       "      <td>NaN</td>\n",
       "      <td>NaN</td>\n",
       "      <td>NaN</td>\n",
       "      <td>NaN</td>\n",
       "      <td>NaN</td>\n",
       "      <td>NaN</td>\n",
       "      <td>NaN</td>\n",
       "    </tr>\n",
       "    <tr>\n",
       "      <td>4</td>\n",
       "      <td>5</td>\n",
       "      <td>AFG</td>\n",
       "      <td>Asia</td>\n",
       "      <td>Afghanistan</td>\n",
       "      <td>38928341.0</td>\n",
       "      <td>0.498</td>\n",
       "      <td>1803.987</td>\n",
       "      <td>2020-02-28</td>\n",
       "      <td>1.0</td>\n",
       "      <td>NaN</td>\n",
       "      <td>...</td>\n",
       "      <td>64.83</td>\n",
       "      <td>8.33</td>\n",
       "      <td>NaN</td>\n",
       "      <td>NaN</td>\n",
       "      <td>NaN</td>\n",
       "      <td>NaN</td>\n",
       "      <td>NaN</td>\n",
       "      <td>NaN</td>\n",
       "      <td>NaN</td>\n",
       "      <td>NaN</td>\n",
       "    </tr>\n",
       "    <tr>\n",
       "      <td>...</td>\n",
       "      <td>...</td>\n",
       "      <td>...</td>\n",
       "      <td>...</td>\n",
       "      <td>...</td>\n",
       "      <td>...</td>\n",
       "      <td>...</td>\n",
       "      <td>...</td>\n",
       "      <td>...</td>\n",
       "      <td>...</td>\n",
       "      <td>...</td>\n",
       "      <td>...</td>\n",
       "      <td>...</td>\n",
       "      <td>...</td>\n",
       "      <td>...</td>\n",
       "      <td>...</td>\n",
       "      <td>...</td>\n",
       "      <td>...</td>\n",
       "      <td>...</td>\n",
       "      <td>...</td>\n",
       "      <td>...</td>\n",
       "      <td>...</td>\n",
       "    </tr>\n",
       "    <tr>\n",
       "      <td>55507</td>\n",
       "      <td>55189</td>\n",
       "      <td>ZWE</td>\n",
       "      <td>Africa</td>\n",
       "      <td>Zimbabwe</td>\n",
       "      <td>14862927.0</td>\n",
       "      <td>0.535</td>\n",
       "      <td>1899.775</td>\n",
       "      <td>2020-12-17</td>\n",
       "      <td>11866.0</td>\n",
       "      <td>314.0</td>\n",
       "      <td>...</td>\n",
       "      <td>61.49</td>\n",
       "      <td>67.59</td>\n",
       "      <td>193011.0</td>\n",
       "      <td>1959.0</td>\n",
       "      <td>12.986</td>\n",
       "      <td>0.132</td>\n",
       "      <td>1356.0</td>\n",
       "      <td>0.091</td>\n",
       "      <td>12.1</td>\n",
       "      <td>21.4</td>\n",
       "    </tr>\n",
       "    <tr>\n",
       "      <td>55508</td>\n",
       "      <td>55190</td>\n",
       "      <td>ZWE</td>\n",
       "      <td>Africa</td>\n",
       "      <td>Zimbabwe</td>\n",
       "      <td>14862927.0</td>\n",
       "      <td>0.535</td>\n",
       "      <td>1899.775</td>\n",
       "      <td>2020-12-18</td>\n",
       "      <td>12047.0</td>\n",
       "      <td>316.0</td>\n",
       "      <td>...</td>\n",
       "      <td>61.49</td>\n",
       "      <td>69.44</td>\n",
       "      <td>195166.0</td>\n",
       "      <td>2155.0</td>\n",
       "      <td>13.131</td>\n",
       "      <td>0.145</td>\n",
       "      <td>1457.0</td>\n",
       "      <td>0.098</td>\n",
       "      <td>11.5</td>\n",
       "      <td>21.4</td>\n",
       "    </tr>\n",
       "    <tr>\n",
       "      <td>55509</td>\n",
       "      <td>55191</td>\n",
       "      <td>ZWE</td>\n",
       "      <td>Africa</td>\n",
       "      <td>Zimbabwe</td>\n",
       "      <td>14862927.0</td>\n",
       "      <td>0.535</td>\n",
       "      <td>1899.775</td>\n",
       "      <td>2020-12-19</td>\n",
       "      <td>12151.0</td>\n",
       "      <td>318.0</td>\n",
       "      <td>...</td>\n",
       "      <td>61.49</td>\n",
       "      <td>69.44</td>\n",
       "      <td>196747.0</td>\n",
       "      <td>1581.0</td>\n",
       "      <td>13.237</td>\n",
       "      <td>0.106</td>\n",
       "      <td>1488.0</td>\n",
       "      <td>0.100</td>\n",
       "      <td>11.2</td>\n",
       "      <td>21.4</td>\n",
       "    </tr>\n",
       "    <tr>\n",
       "      <td>55510</td>\n",
       "      <td>55192</td>\n",
       "      <td>ZWE</td>\n",
       "      <td>Africa</td>\n",
       "      <td>Zimbabwe</td>\n",
       "      <td>14862927.0</td>\n",
       "      <td>0.535</td>\n",
       "      <td>1899.775</td>\n",
       "      <td>2020-12-20</td>\n",
       "      <td>12325.0</td>\n",
       "      <td>320.0</td>\n",
       "      <td>...</td>\n",
       "      <td>61.49</td>\n",
       "      <td>69.44</td>\n",
       "      <td>NaN</td>\n",
       "      <td>NaN</td>\n",
       "      <td>NaN</td>\n",
       "      <td>NaN</td>\n",
       "      <td>NaN</td>\n",
       "      <td>NaN</td>\n",
       "      <td>NaN</td>\n",
       "      <td>21.4</td>\n",
       "    </tr>\n",
       "    <tr>\n",
       "      <td>55511</td>\n",
       "      <td>55193</td>\n",
       "      <td>ZWE</td>\n",
       "      <td>Africa</td>\n",
       "      <td>Zimbabwe</td>\n",
       "      <td>14862927.0</td>\n",
       "      <td>0.535</td>\n",
       "      <td>1899.775</td>\n",
       "      <td>2020-12-21</td>\n",
       "      <td>12422.0</td>\n",
       "      <td>322.0</td>\n",
       "      <td>...</td>\n",
       "      <td>61.49</td>\n",
       "      <td>NaN</td>\n",
       "      <td>NaN</td>\n",
       "      <td>NaN</td>\n",
       "      <td>NaN</td>\n",
       "      <td>NaN</td>\n",
       "      <td>NaN</td>\n",
       "      <td>NaN</td>\n",
       "      <td>NaN</td>\n",
       "      <td>21.4</td>\n",
       "    </tr>\n",
       "  </tbody>\n",
       "</table>\n",
       "<p>55193 rows × 35 columns</p>\n",
       "</div>"
      ],
      "text/plain": [
       "          id iso_code continent     location  population  \\\n",
       "0          1      AFG      Asia  Afghanistan  38928341.0   \n",
       "1          2      AFG      Asia  Afghanistan  38928341.0   \n",
       "2          3      AFG      Asia  Afghanistan  38928341.0   \n",
       "3          4      AFG      Asia  Afghanistan  38928341.0   \n",
       "4          5      AFG      Asia  Afghanistan  38928341.0   \n",
       "...      ...      ...       ...          ...         ...   \n",
       "55507  55189      ZWE    Africa     Zimbabwe  14862927.0   \n",
       "55508  55190      ZWE    Africa     Zimbabwe  14862927.0   \n",
       "55509  55191      ZWE    Africa     Zimbabwe  14862927.0   \n",
       "55510  55192      ZWE    Africa     Zimbabwe  14862927.0   \n",
       "55511  55193      ZWE    Africa     Zimbabwe  14862927.0   \n",
       "\n",
       "       human_development_index  gdp_per_capita        date  total_cases  \\\n",
       "0                        0.498        1803.987  2020-02-24          1.0   \n",
       "1                        0.498        1803.987  2020-02-25          1.0   \n",
       "2                        0.498        1803.987  2020-02-26          1.0   \n",
       "3                        0.498        1803.987  2020-02-27          1.0   \n",
       "4                        0.498        1803.987  2020-02-28          1.0   \n",
       "...                        ...             ...         ...          ...   \n",
       "55507                    0.535        1899.775  2020-12-17      11866.0   \n",
       "55508                    0.535        1899.775  2020-12-18      12047.0   \n",
       "55509                    0.535        1899.775  2020-12-19      12151.0   \n",
       "55510                    0.535        1899.775  2020-12-20      12325.0   \n",
       "55511                    0.535        1899.775  2020-12-21      12422.0   \n",
       "\n",
       "       total_deaths  ...  life_expectancy  stringency_index  total_tests  \\\n",
       "0               NaN  ...            64.83              8.33          NaN   \n",
       "1               NaN  ...            64.83              8.33          NaN   \n",
       "2               NaN  ...            64.83              8.33          NaN   \n",
       "3               NaN  ...            64.83              8.33          NaN   \n",
       "4               NaN  ...            64.83              8.33          NaN   \n",
       "...             ...  ...              ...               ...          ...   \n",
       "55507         314.0  ...            61.49             67.59     193011.0   \n",
       "55508         316.0  ...            61.49             69.44     195166.0   \n",
       "55509         318.0  ...            61.49             69.44     196747.0   \n",
       "55510         320.0  ...            61.49             69.44          NaN   \n",
       "55511         322.0  ...            61.49               NaN          NaN   \n",
       "\n",
       "       new_tests  total_tests_per_thousand  new_tests_per_thousand  \\\n",
       "0            NaN                       NaN                     NaN   \n",
       "1            NaN                       NaN                     NaN   \n",
       "2            NaN                       NaN                     NaN   \n",
       "3            NaN                       NaN                     NaN   \n",
       "4            NaN                       NaN                     NaN   \n",
       "...          ...                       ...                     ...   \n",
       "55507     1959.0                    12.986                   0.132   \n",
       "55508     2155.0                    13.131                   0.145   \n",
       "55509     1581.0                    13.237                   0.106   \n",
       "55510        NaN                       NaN                     NaN   \n",
       "55511        NaN                       NaN                     NaN   \n",
       "\n",
       "       new_tests_smoothed  new_tests_smoothed_per_thousand  tests_per_case  \\\n",
       "0                     NaN                              NaN             NaN   \n",
       "1                     NaN                              NaN             NaN   \n",
       "2                     NaN                              NaN             NaN   \n",
       "3                     NaN                              NaN             NaN   \n",
       "4                     NaN                              NaN             NaN   \n",
       "...                   ...                              ...             ...   \n",
       "55507              1356.0                            0.091            12.1   \n",
       "55508              1457.0                            0.098            11.5   \n",
       "55509              1488.0                            0.100            11.2   \n",
       "55510                 NaN                              NaN             NaN   \n",
       "55511                 NaN                              NaN             NaN   \n",
       "\n",
       "       extreme_poverty  \n",
       "0                  NaN  \n",
       "1                  NaN  \n",
       "2                  NaN  \n",
       "3                  NaN  \n",
       "4                  NaN  \n",
       "...                ...  \n",
       "55507             21.4  \n",
       "55508             21.4  \n",
       "55509             21.4  \n",
       "55510             21.4  \n",
       "55511             21.4  \n",
       "\n",
       "[55193 rows x 35 columns]"
      ]
     },
     "execution_count": 5,
     "metadata": {},
     "output_type": "execute_result"
    }
   ],
   "source": [
    "newData"
   ]
  },
  {
   "cell_type": "code",
   "execution_count": 6,
   "metadata": {},
   "outputs": [
    {
     "name": "stdout",
     "output_type": "stream",
     "text": [
      "<class 'pandas.core.frame.DataFrame'>\n",
      "Int64Index: 55193 entries, 0 to 55511\n",
      "Data columns (total 35 columns):\n",
      "id                                 55193 non-null int64\n",
      "iso_code                           55193 non-null object\n",
      "continent                          54858 non-null object\n",
      "location                           55193 non-null object\n",
      "population                         55193 non-null float64\n",
      "human_development_index            53066 non-null float64\n",
      "gdp_per_capita                     52835 non-null float64\n",
      "date                               55193 non-null object\n",
      "total_cases                        54633 non-null float64\n",
      "total_deaths                       46526 non-null float64\n",
      "new_cases                          54627 non-null float64\n",
      "new_deaths                         46525 non-null float64\n",
      "new_cases_smoothed                 53676 non-null float64\n",
      "new_deaths_smoothed                53676 non-null float64\n",
      "total_cases_per_million            54633 non-null float64\n",
      "total_deaths_per_million           46526 non-null float64\n",
      "new_cases_per_million              54627 non-null float64\n",
      "new_deaths_per_million             46525 non-null float64\n",
      "new_cases_smoothed_per_million     53676 non-null float64\n",
      "new_deaths_smoothed_per_million    53676 non-null float64\n",
      "diabetes_prevalence                54003 non-null float64\n",
      "cardiovasc_death_rate              53373 non-null float64\n",
      "median_age                         52833 non-null float64\n",
      "handwashing_facilities             26656 non-null float64\n",
      "hospital_beds_per_thousand         49088 non-null float64\n",
      "life_expectancy                    54910 non-null float64\n",
      "stringency_index                   49762 non-null float64\n",
      "total_tests                        25735 non-null float64\n",
      "new_tests                          25792 non-null float64\n",
      "total_tests_per_thousand           25735 non-null float64\n",
      "new_tests_per_thousand             25792 non-null float64\n",
      "new_tests_smoothed                 28830 non-null float64\n",
      "new_tests_smoothed_per_thousand    28830 non-null float64\n",
      "tests_per_case                     26412 non-null float64\n",
      "extreme_poverty                    36166 non-null float64\n",
      "dtypes: float64(30), int64(1), object(4)\n",
      "memory usage: 15.2+ MB\n"
     ]
    }
   ],
   "source": [
    "newData.info()"
   ]
  },
  {
   "cell_type": "code",
   "execution_count": 7,
   "metadata": {},
   "outputs": [],
   "source": [
    "cat = []\n",
    "num = newData.describe().columns\n",
    "for i in newData.columns:\n",
    "    if i not in num:\n",
    "        cat.append(i)"
   ]
  },
  {
   "cell_type": "code",
   "execution_count": 8,
   "metadata": {},
   "outputs": [
    {
     "data": {
      "text/plain": [
       "Index(['id', 'population', 'human_development_index', 'gdp_per_capita',\n",
       "       'total_cases', 'total_deaths', 'new_cases', 'new_deaths',\n",
       "       'new_cases_smoothed', 'new_deaths_smoothed', 'total_cases_per_million',\n",
       "       'total_deaths_per_million', 'new_cases_per_million',\n",
       "       'new_deaths_per_million', 'new_cases_smoothed_per_million',\n",
       "       'new_deaths_smoothed_per_million', 'diabetes_prevalence',\n",
       "       'cardiovasc_death_rate', 'median_age', 'handwashing_facilities',\n",
       "       'hospital_beds_per_thousand', 'life_expectancy', 'stringency_index',\n",
       "       'total_tests', 'new_tests', 'total_tests_per_thousand',\n",
       "       'new_tests_per_thousand', 'new_tests_smoothed',\n",
       "       'new_tests_smoothed_per_thousand', 'tests_per_case', 'extreme_poverty'],\n",
       "      dtype='object')"
      ]
     },
     "execution_count": 8,
     "metadata": {},
     "output_type": "execute_result"
    }
   ],
   "source": [
    "pd.set_option('max_rows',10)\n",
    "num.T"
   ]
  },
  {
   "cell_type": "code",
   "execution_count": 9,
   "metadata": {},
   "outputs": [
    {
     "name": "stdout",
     "output_type": "stream",
     "text": [
      "['Mexico', 'Thailand', 'Taiwan', 'South Korea', 'Japan', 'United States', 'China', 'World', 'Singapore', 'Vietnam', 'France', 'Switzerland', 'Nepal', 'Malaysia', 'Israel', 'Australia', 'Canada', 'Denmark', 'Czechia', 'Sri Lanka', 'Germany', 'Cambodia', 'United Arab Emirates', 'Finland', 'India', 'Fiji', 'Philippines', 'United Kingdom', 'Italy', 'Russia', 'Spain', 'Sweden', 'Argentina', 'Belgium', 'Malta', 'South Africa', 'Morocco', 'Egypt', 'Guatemala', 'Iran', 'Lebanon', 'Greece', 'Netherlands', 'Chile', 'Luxembourg', 'Iraq', 'Kuwait', 'Oman', 'Afghanistan', 'Bahrain', 'Norway', 'Pakistan', 'Latvia', 'Austria', 'Algeria', 'Croatia', 'Portugal', 'Estonia', 'North Macedonia', 'Georgia', 'Serbia', 'Romania', 'Brazil', 'Iceland', 'San Marino', 'Lithuania', 'New Zealand', 'Senegal', 'Belarus', 'Nigeria', 'Qatar', 'Ireland', 'Monaco', 'Armenia', 'Dominican Republic', 'Azerbaijan', 'Ecuador', 'Saudi Arabia', 'Andorra', 'Indonesia', 'Hungary', 'Ukraine', 'Jordan', 'Bangladesh', 'Tunisia', 'Liechtenstein', 'Poland', 'Togo', 'Libya', 'Palestine', 'Slovenia', 'Bosnia and Herzegovina', 'Colombia', 'Bhutan', 'Peru', 'Costa Rica', 'Slovakia', 'Kenya', 'Cameroon', 'Vatican', 'Paraguay', 'Maldives', 'Bulgaria', 'Moldova', 'Panama', 'Cyprus', 'Brunei', 'Albania', 'Burkina Faso', 'Mongolia', 'Democratic Republic of Congo', 'Honduras', 'Turkey', 'Bolivia', 'Jamaica', \"Cote d'Ivoire\", 'Cuba', 'Guyana', 'Guinea', 'Uruguay', 'Kazakhstan', 'Ethiopia', 'Antigua and Barbuda', 'Sudan', 'Kosovo', 'Saint Vincent and the Grenadines', 'Venezuela', 'Gabon', 'Namibia', 'Ghana', 'Mauritania', 'Rwanda', 'Seychelles', 'Suriname', 'Saint Lucia', 'Trinidad and Tobago', 'Eswatini', 'Uzbekistan', 'Congo', 'Equatorial Guinea', 'Central African Republic', 'Somalia', 'Tanzania', 'Bahamas', 'Benin', 'Liberia', 'Barbados', 'Montenegro', 'Gambia', 'Mauritius', 'Kyrgyzstan', 'Zambia', 'Djibouti', 'Nicaragua', 'El Salvador', 'Chad', 'Madagascar', 'Niger', 'Papua New Guinea', 'Angola', 'Haiti', 'Zimbabwe', 'Cape Verde', 'Eritrea', 'Uganda', 'Mozambique', 'Syria', 'Dominica', 'Grenada', 'Timor', 'Belize', 'Laos', 'Mali', 'Saint Kitts and Nevis', 'Guinea-Bissau', 'Myanmar', 'Malawi', 'Botswana', 'Sierra Leone', 'Burundi', 'South Sudan', 'Sao Tome and Principe', 'Yemen', 'Comoros', 'Tajikistan', 'Lesotho', 'Hong Kong', 'Solomon Islands', 'Marshall Islands', 'Vanuatu', 'Samoa']\n"
     ]
    }
   ],
   "source": [
    "iso = []\n",
    "for i in newData['location'].value_counts().index:\n",
    "    iso.append(i)\n",
    "print(iso)"
   ]
  },
  {
   "cell_type": "code",
   "execution_count": 10,
   "metadata": {
    "cell_id": "00007-57c473b8-f9d6-449f-9171-174b2659eb0a",
    "deepnote_cell_type": "code",
    "execution_millis": 3751,
    "execution_start": 1606190072980,
    "output_cleared": false,
    "source_hash": "9752ea7f"
   },
   "outputs": [],
   "source": [
    "# Spitting data into testing and training.\n",
    "training = pd.DataFrame()\n",
    "testing = pd.DataFrame()\n",
    "\n",
    "# Split 20% for each location in the data.\n",
    "for i in newData['location'].value_counts().index:\n",
    "    train, test = train_test_split(newData[newData['location']==i], test_size=0.2, shuffle=False)\n",
    "    training = pd.concat([training,train])\n",
    "    testing = pd.concat([testing,test])\n"
   ]
  },
  {
   "cell_type": "code",
   "execution_count": 11,
   "metadata": {
    "cell_id": "00008-525b9dee-68d6-4fbf-8ddd-3badfc75aca4",
    "deepnote_cell_type": "code",
    "execution_millis": 21,
    "execution_start": 1606190076736,
    "output_cleared": false,
    "source_hash": "3ec3c77d"
   },
   "outputs": [],
   "source": [
    "training['train_data'] = 1\n",
    "testing['train_data'] = 0\n",
    "newData = pd.concat([training,testing])"
   ]
  },
  {
   "cell_type": "markdown",
   "metadata": {
    "cell_id": "00009-0bd4a2a2-51a9-4b73-ab06-b5d182bba8e2",
    "deepnote_cell_type": "markdown"
   },
   "source": [
    "### Data Exploration & Visualization"
   ]
  },
  {
   "cell_type": "code",
   "execution_count": null,
   "metadata": {
    "cell_id": "00010-a8879784-74f4-4435-8037-79614a508698",
    "deepnote_cell_type": "code"
   },
   "outputs": [],
   "source": [
    "training"
   ]
  },
  {
   "cell_type": "code",
   "execution_count": null,
   "metadata": {
    "cell_id": "00011-5801c276-ffbc-4412-aa90-5e9c3cac6270",
    "deepnote_cell_type": "code"
   },
   "outputs": [],
   "source": [
    "training.info()"
   ]
  },
  {
   "cell_type": "code",
   "execution_count": null,
   "metadata": {
    "cell_id": "00012-b5ca14a3-9c3d-47d1-90f2-ea1ff8cc66ae",
    "deepnote_cell_type": "code"
   },
   "outputs": [],
   "source": [
    "training.describe()"
   ]
  },
  {
   "cell_type": "code",
   "execution_count": null,
   "metadata": {
    "cell_id": "00013-6c4cf600-3a36-4378-a2a6-873f48b4be46",
    "deepnote_cell_type": "code"
   },
   "outputs": [],
   "source": [
    "training.describe().columns"
   ]
  },
  {
   "cell_type": "code",
   "execution_count": null,
   "metadata": {
    "cell_id": "00014-8c2d86bf-563c-48e0-9780-6d9bb5729702",
    "deepnote_cell_type": "code"
   },
   "outputs": [],
   "source": [
    "df_cat = training[['iso_code','continent','location','date']]\n",
    "df_num = training[['population', 'human_development_index', 'gdp_per_capita',\n",
    "       'total_cases', 'total_deaths', 'new_cases', 'new_deaths',\n",
    "       'new_cases_smoothed', 'new_deaths_smoothed', 'total_cases_per_million',\n",
    "       'total_deaths_per_million', 'new_cases_per_million',\n",
    "       'new_deaths_per_million', 'new_cases_smoothed_per_million',\n",
    "       'new_deaths_smoothed_per_million', 'diabetes_prevalence',\n",
    "       'cardiovasc_death_rate', 'median_age', 'handwashing_facilities',\n",
    "       'hospital_beds_per_thousand', 'life_expectancy', 'stringency_index',\n",
    "       'total_tests', 'new_tests', 'total_tests_per_thousand',\n",
    "       'new_tests_per_thousand', 'new_tests_smoothed',\n",
    "       'new_tests_smoothed_per_thousand', 'tests_per_case', 'extreme_poverty']]"
   ]
  },
  {
   "cell_type": "code",
   "execution_count": null,
   "metadata": {
    "cell_id": "00015-282f4dac-8beb-49d8-9dc5-551693439093",
    "deepnote_cell_type": "code"
   },
   "outputs": [],
   "source": [
    "colors = ['red','orange','blue','green','yellow','purple','darkblue','pink','lightblue']"
   ]
  },
  {
   "cell_type": "code",
   "execution_count": null,
   "metadata": {
    "cell_id": "00016-6e29fc22-9ffa-415f-9e64-7ac799d04895",
    "deepnote_cell_type": "code"
   },
   "outputs": [],
   "source": [
    "for i in df_num:\n",
    "    plt.hist(df_num[i],range=(df_num[i].min(),df_num[i].max()),color=colors[random.randrange(0,len(colors)-1)])\n",
    "    plt.title(\"Histogram of \"+i)\n",
    "    plt.ylabel('Frequency of Occurrence')\n",
    "    plt.xlabel(i)\n",
    "    plt.show()"
   ]
  },
  {
   "cell_type": "code",
   "execution_count": null,
   "metadata": {
    "cell_id": "00017-fd4ef7a6-53d4-40ec-913a-118b9ca4bfc0",
    "deepnote_cell_type": "code"
   },
   "outputs": [],
   "source": [
    "for i in df_num:\n",
    "    df_num[i].value_counts().plot(kind='bar')\n",
    "    plt.title(\"Bar Chart of \"+i)\n",
    "    plt.ylabel('Frequency of Occurrence')\n",
    "    plt.xlabel(i)\n",
    "    sns.despine\n",
    "    break"
   ]
  },
  {
   "cell_type": "code",
   "execution_count": null,
   "metadata": {
    "cell_id": "00018-33c3087d-b83f-4d63-b5f2-563ab5f021fa",
    "deepnote_cell_type": "code"
   },
   "outputs": [],
   "source": [
    "print(df_num.corr())"
   ]
  },
  {
   "cell_type": "code",
   "execution_count": null,
   "metadata": {
    "cell_id": "00019-9b967a0a-1e0d-4bcd-8897-c598ac92f0b6",
    "deepnote_cell_type": "code"
   },
   "outputs": [],
   "source": [
    "sns.heatmap(df_num.corr())"
   ]
  },
  {
   "cell_type": "code",
   "execution_count": null,
   "metadata": {
    "cell_id": "00020-93b1aa63-7bd2-43d2-8307-631b46647053",
    "deepnote_cell_type": "code"
   },
   "outputs": [],
   "source": [
    "for i in df_cat.columns:\n",
    "    sns.barplot(df_cat[i].value_counts().index , df_cat[i].value_counts()).set_title(i)\n",
    "    plt.show()"
   ]
  },
  {
   "cell_type": "code",
   "execution_count": 24,
   "metadata": {
    "cell_id": "00021-95baf0aa-f0c8-43e7-9424-4a95a0a989cb",
    "deepnote_cell_type": "code"
   },
   "outputs": [
    {
     "ename": "NameError",
     "evalue": "name 'colors' is not defined",
     "output_type": "error",
     "traceback": [
      "\u001b[0;31m---------------------------------------------------------------------------\u001b[0m",
      "\u001b[0;31mNameError\u001b[0m                                 Traceback (most recent call last)",
      "\u001b[0;32m<ipython-input-24-31246f7ab9ef>\u001b[0m in \u001b[0;36m<module>\u001b[0;34m\u001b[0m\n\u001b[1;32m      2\u001b[0m     \u001b[0my_axis\u001b[0m \u001b[0;34m=\u001b[0m \u001b[0mnewData\u001b[0m\u001b[0;34m[\u001b[0m\u001b[0mnewData\u001b[0m\u001b[0;34m[\u001b[0m\u001b[0;34m'location'\u001b[0m\u001b[0;34m]\u001b[0m\u001b[0;34m==\u001b[0m \u001b[0mi\u001b[0m\u001b[0;34m]\u001b[0m\u001b[0;34m[\u001b[0m\u001b[0;34m'new_deaths_smoothed'\u001b[0m\u001b[0;34m]\u001b[0m\u001b[0;34m\u001b[0m\u001b[0;34m\u001b[0m\u001b[0m\n\u001b[1;32m      3\u001b[0m     \u001b[0mx_axis\u001b[0m \u001b[0;34m=\u001b[0m \u001b[0mnewData\u001b[0m\u001b[0;34m[\u001b[0m\u001b[0mnewData\u001b[0m\u001b[0;34m[\u001b[0m\u001b[0;34m'location'\u001b[0m\u001b[0;34m]\u001b[0m\u001b[0;34m==\u001b[0m \u001b[0mi\u001b[0m\u001b[0;34m]\u001b[0m\u001b[0;34m[\u001b[0m\u001b[0;34m'date'\u001b[0m\u001b[0;34m]\u001b[0m\u001b[0;34m\u001b[0m\u001b[0;34m\u001b[0m\u001b[0m\n\u001b[0;32m----> 4\u001b[0;31m     \u001b[0mplt\u001b[0m\u001b[0;34m.\u001b[0m\u001b[0mplot\u001b[0m\u001b[0;34m(\u001b[0m\u001b[0mx_axis\u001b[0m\u001b[0;34m,\u001b[0m\u001b[0my_axis\u001b[0m\u001b[0;34m,\u001b[0m\u001b[0mcolor\u001b[0m\u001b[0;34m=\u001b[0m\u001b[0mcolors\u001b[0m\u001b[0;34m[\u001b[0m\u001b[0mrandom\u001b[0m\u001b[0;34m.\u001b[0m\u001b[0mrandrange\u001b[0m\u001b[0;34m(\u001b[0m\u001b[0;36m0\u001b[0m\u001b[0;34m,\u001b[0m\u001b[0mlen\u001b[0m\u001b[0;34m(\u001b[0m\u001b[0mcolors\u001b[0m\u001b[0;34m)\u001b[0m\u001b[0;34m-\u001b[0m\u001b[0;36m1\u001b[0m\u001b[0;34m)\u001b[0m\u001b[0;34m]\u001b[0m\u001b[0;34m)\u001b[0m\u001b[0;34m\u001b[0m\u001b[0;34m\u001b[0m\u001b[0m\n\u001b[0m\u001b[1;32m      5\u001b[0m     \u001b[0mplt\u001b[0m\u001b[0;34m.\u001b[0m\u001b[0mtitle\u001b[0m\u001b[0;34m(\u001b[0m\u001b[0;34m\"Graph of the number of death in \"\u001b[0m\u001b[0;34m+\u001b[0m\u001b[0mi\u001b[0m\u001b[0;34m)\u001b[0m\u001b[0;34m\u001b[0m\u001b[0;34m\u001b[0m\u001b[0m\n\u001b[1;32m      6\u001b[0m     \u001b[0mplt\u001b[0m\u001b[0;34m.\u001b[0m\u001b[0mylabel\u001b[0m\u001b[0;34m(\u001b[0m\u001b[0;34m'New Deaths'\u001b[0m\u001b[0;34m)\u001b[0m\u001b[0;34m\u001b[0m\u001b[0;34m\u001b[0m\u001b[0m\n",
      "\u001b[0;31mNameError\u001b[0m: name 'colors' is not defined"
     ]
    }
   ],
   "source": [
    "for i in newData['location'].value_counts().index:\n",
    "    y_axis = newData[newData['location']== i]['new_deaths_smoothed']\n",
    "    x_axis = newData[newData['location']== i]['date']\n",
    "    plt.plot(x_axis,y_axis,color=colors[random.randrange(0,len(colors)-1)])\n",
    "    plt.title(\"Graph of the number of death in \"+i)\n",
    "    plt.ylabel('New Deaths')\n",
    "    plt.xlabel('Date')\n",
    "    plt.show()"
   ]
  },
  {
   "cell_type": "code",
   "execution_count": 25,
   "metadata": {
    "cell_id": "00022-23e49c47-946d-4375-b6e4-7c53671de900",
    "deepnote_cell_type": "code"
   },
   "outputs": [
    {
     "data": {
      "image/png": "[encoded data removed]",
      "text/plain": [
       "<Figure size 432x288 with 1 Axes>"
      ]
     },
     "metadata": {
      "needs_background": "light"
     },
     "output_type": "display_data"
    },
    {
     "data": {
      "image/png": "[encoded data removed]",
      "text/plain": [
       "<Figure size 432x288 with 1 Axes>"
      ]
     },
     "metadata": {
      "needs_background": "light"
     },
     "output_type": "display_data"
    },
    {
     "data": {
      "image/png": "[encoded data removed]",
      "text/plain": [
       "<Figure size 432x288 with 1 Axes>"
      ]
     },
     "metadata": {
      "needs_background": "light"
     },
     "output_type": "display_data"
    },
    {
     "data": {
      "image/png": "[encoded data removed]",
      "text/plain": [
       "<Figure size 432x288 with 1 Axes>"
      ]
     },
     "metadata": {
      "needs_background": "light"
     },
     "output_type": "display_data"
    },
    {
     "data": {
      "image/png": "[encoded data removed]",
      "text/plain": [
       "<Figure size 432x288 with 1 Axes>"
      ]
     },
     "metadata": {
      "needs_background": "light"
     },
     "output_type": "display_data"
    },
    {
     "data": {
      "image/png": "[encoded data removed]",
      "text/plain": [
       "<Figure size 432x288 with 1 Axes>"
      ]
     },
     "metadata": {
      "needs_background": "light"
     },
     "output_type": "display_data"
    }
   ],
   "source": [
    "countries = [\"Indonesia\",\"Singapore,\",\"China\"]\n",
    "for i in newData['continent'].value_counts().index:\n",
    "    for j in newData[newData['continent']==i]['location'].value_counts().index:\n",
    "        x_axis = newData[newData['location']== j]['date']\n",
    "        plt.plot(x_axis,newData[newData['location']== j]['new_deaths_smoothed'],label=j)\n",
    "    plt.xlabel('Date')\n",
    "    plt.ylabel('Number of New Death')\n",
    "    plt.legend(framealpha=1,bbox_to_anchor=(1.05, 1),loc='upper left');\n",
    "    plt.title('New death in '+i+' continent')\n",
    "    plt.show()"
   ]
  },
  {
   "cell_type": "code",
   "execution_count": 34,
   "metadata": {},
   "outputs": [
    {
     "data": {
      "text/plain": [
       "22749        NaN\n",
       "22750        NaN\n",
       "22751        NaN\n",
       "22752        NaN\n",
       "22753        NaN\n",
       "          ...   \n",
       "23039    150.571\n",
       "23040    143.286\n",
       "23041    143.714\n",
       "23042    151.571\n",
       "23043    161.286\n",
       "Name: new_deaths_smoothed, Length: 295, dtype: float64"
      ]
     },
     "execution_count": 34,
     "metadata": {},
     "output_type": "execute_result"
    }
   ],
   "source": [
    "newData[newData['location']== \"Indonesia\"]['new_deaths_smoothed']"
   ]
  },
  {
   "cell_type": "code",
   "execution_count": null,
   "metadata": {},
   "outputs": [
    {
     "data": {
      "text/plain": [
       "Text(0.5, 1.0, 'New death in Europe')"
      ]
     },
     "execution_count": 50,
     "metadata": {},
     "output_type": "execute_result"
    }
   ],
   "source": [
    "countries = [\"Germany\",\"Sweden\",\"Italy\",\"Russia\",\"United Kingdom\"]\n",
    "for i in countries:\n",
    "    plt.plot(newData[newData['location']== i]['date'],newData[newData['location']== i]['new_deaths'])\n",
    "\n",
    "plt.legend(countries)\n",
    "plt.xlabel('Date')\n",
    "plt.ylabel('Number of New Death')\n",
    "plt.title('New death in Europe')"
   ]
  },
  {
   "cell_type": "code",
   "execution_count": null,
   "metadata": {
    "cell_id": "00023-06970acc-b576-4d0a-ad37-62ef058c0256",
    "deepnote_cell_type": "code"
   },
   "outputs": [],
   "source": [
    "for i in newData['location'].value_counts().index:\n",
    "    y_axis = newData[newData['location']== i]['new_deaths_smoothed']\n",
    "    x_axis = newData[newData['location']== i]['stringency_index']\n",
    "    plt.scatter(x_axis,y_axis,color=colors[random.randrange(0,len(colors)-1)])\n",
    "    plt.title(\"Correlation of \"+ \"the number of death and the Stringency Index in \"+i)\n",
    "    plt.ylabel('New Deaths')\n",
    "    plt.xlabel('Stringency Index')\n",
    "    plt.show()"
   ]
  },
  {
   "cell_type": "code",
   "execution_count": null,
   "metadata": {
    "cell_id": "00024-46c54246-b7e6-4532-a27c-76567a5d0066",
    "deepnote_cell_type": "code"
   },
   "outputs": [],
   "source": [
    "for i in newData['continent'].value_counts().index:\n",
    "    population = newData[newData['continent'] == i]['population'].value_counts().index\n",
    "    tick_label = newData[newData['continent'] == i]['location'].value_counts().index\n",
    "    x_coordinate = np.arange(1,len(tick_label)+1)\n",
    "    ax = sns.barplot(population, tick_label)\n",
    "    ax.set_title(\"Barplot of population in \"+ j +\" continent\")\n",
    "    ax.set_xlabel(\"Population\")\n",
    "    ax.set_ylabel(\"Location\")\n",
    "    plt.show()"
   ]
  },
  {
   "cell_type": "code",
   "execution_count": null,
   "metadata": {
    "cell_id": "00025-dc1c200f-28f2-49c2-932f-4a46ec90dcbe",
    "deepnote_cell_type": "code"
   },
   "outputs": [],
   "source": [
    "for i in newData['location'].value_counts().index:\n",
    "    y_axis = newData[newData['location']== i]['new_deaths_smoothed']\n",
    "    x_axis = newData[newData['location']== i]['tests_per_case']\n",
    "    plt.scatter(x_axis,y_axis,color=colors[random.randrange(0,len(colors)-1)])\n",
    "    plt.title(\"Correlation of \"+ \"the number of death and the number of Test per case \"+i)\n",
    "    plt.ylabel('New Deaths')\n",
    "    plt.xlabel('Test per case')\n",
    "    plt.show()"
   ]
  },
  {
   "cell_type": "code",
   "execution_count": null,
   "metadata": {
    "cell_id": "00026-a4ebfac1-1f04-4e24-985f-019c66f742a7",
    "deepnote_cell_type": "code"
   },
   "outputs": [],
   "source": [
    "pd.pivot_table(training, index = 'continent', columns = 'location', values = 'id' ,aggfunc ='count')"
   ]
  },
  {
   "cell_type": "code",
   "execution_count": null,
   "metadata": {
    "cell_id": "00027-fa8f0465-d0b6-4c8f-a596-667622771e37",
    "deepnote_cell_type": "code"
   },
   "outputs": [],
   "source": [
    "pd.pivot_table(training, index = 'continent', columns = 'new_deaths', values = 'id' ,aggfunc ='count')"
   ]
  },
  {
   "cell_type": "code",
   "execution_count": null,
   "metadata": {
    "cell_id": "00028-0fddb57d-135b-465f-9b54-29e50ea989b3",
    "deepnote_cell_type": "code"
   },
   "outputs": [],
   "source": [
    "extremePoverty_newDeaths_corr = newData[['extreme_poverty','new_deaths_smoothed']]\n",
    "extremePoverty_newDeaths_corr.dropna(subset=['extreme_poverty'],inplace = True)"
   ]
  },
  {
   "cell_type": "code",
   "execution_count": null,
   "metadata": {
    "cell_id": "00029-1a004472-87d1-4fa7-95b2-9ae65756734a",
    "deepnote_cell_type": "code"
   },
   "outputs": [],
   "source": [
    "sns.scatterplot(data=extremePoverty_newDeaths_corr ,x = 'extreme_poverty' , y = 'new_deaths_smoothed',hue=\"extreme_poverty\",marker=\"+\")"
   ]
  },
  {
   "cell_type": "code",
   "execution_count": null,
   "metadata": {
    "cell_id": "00030-34bb1c6f-e110-4482-9bfd-3afcb36c85b7",
    "deepnote_cell_type": "code"
   },
   "outputs": [],
   "source": [
    "pd.set_option('max_rows',None)\n",
    "pd.pivot_table(newData, index = 'location', values = ['population','new_deaths','handwashing_facilities','stringency_index','extreme_poverty','handwashing_facilities','tests_per_case','gdp_per_capita'])"
   ]
  },
  {
   "cell_type": "code",
   "execution_count": null,
   "metadata": {
    "cell_id": "00031-e459e532-e850-44a4-b3b1-6239e21d62c1",
    "deepnote_cell_type": "code"
   },
   "outputs": [],
   "source": [
    "newData.columns"
   ]
  },
  {
   "cell_type": "markdown",
   "metadata": {
    "cell_id": "00032-1b8e2a76-d47e-4699-86c4-3d132300d911",
    "deepnote_cell_type": "markdown"
   },
   "source": [
    "### Feature Engineering"
   ]
  },
  {
   "cell_type": "code",
   "execution_count": 12,
   "metadata": {
    "cell_id": "00033-1bc4fea3-57a2-4648-888e-c7b4f93df361",
    "deepnote_cell_type": "code",
    "execution_millis": 56,
    "execution_start": 1606190079044,
    "output_cleared": false,
    "source_hash": "cbac857a"
   },
   "outputs": [],
   "source": [
    "newData['date_to_integer'] = newData['date'].apply(lambda x : float(''.join(x.split('-'))) if str(x) else x)"
   ]
  },
  {
   "cell_type": "markdown",
   "metadata": {
    "cell_id": "00034-eefceebf-6343-413d-ad5e-3b4a9621be2b",
    "deepnote_cell_type": "markdown"
   },
   "source": [
    "### Data Preprocessing"
   ]
  },
  {
   "cell_type": "code",
   "execution_count": 13,
   "metadata": {
    "cell_id": "00035-9255ec25-6502-4e59-ab4c-34db326955d3",
    "deepnote_cell_type": "code",
    "execution_millis": 11,
    "execution_start": 1606190079471,
    "output_cleared": false,
    "source_hash": "2110041c"
   },
   "outputs": [],
   "source": [
    "newData['continent'] = newData['continent'].apply(lambda x : \"World\" if pd.isna(x) else x )"
   ]
  },
  {
   "cell_type": "code",
   "execution_count": 14,
   "metadata": {
    "cell_id": "00036-7af69be6-1b7c-4ce4-8de0-22a50deaa262",
    "deepnote_cell_type": "code",
    "execution_millis": 3249,
    "execution_start": 1606190079658,
    "output_cleared": false,
    "source_hash": "3c59d60a"
   },
   "outputs": [],
   "source": [
    "hdi_continent_mean = dict()\n",
    "hdi_location_mean = dict()\n",
    "gdp_location_mean = dict()\n",
    "\n",
    "for i in (newData['continent'].value_counts().index):\n",
    "    hdi_continent_mean[i] = newData[newData['continent'] == i]['human_development_index'].mean()\n",
    "\n",
    "for i in newData['location'].value_counts().index:\n",
    "    hdi_location_mean[i] = newData[newData['location'] == i]['human_development_index'].mean()\n",
    "\n",
    "for key,value in hdi_location_mean.items():\n",
    "    if pd.isna(value):\n",
    "        hdi_location_mean[key]= hdi_continent_mean[newData[newData['location']==key]['continent'].values[0]] \n",
    "        \n",
    "for i in newData['location'].value_counts().index:\n",
    "    if pd.isna(newData[newData['location']==i]['gdp_per_capita'].values[0]):\n",
    "        gdp_location_mean[i] = newData[newData['continent'] == newData[newData['location']==i]['continent'].values[0]]['gdp_per_capita'].mean()\n",
    "    else:\n",
    "        gdp_location_mean[i] = newData[newData['location']==i]['gdp_per_capita'].mean()\n",
    "        \n",
    "hdi_location_mean.pop('World')\n",
    "hdi_continent_mean.pop('World')\n",
    "hdi_location_mean['World'] = sum(hdi_location_mean.values())/len(hdi_location_mean)\n",
    "hdi_continent_mean['World'] = sum(hdi_continent_mean.values())/len(hdi_continent_mean)"
   ]
  },
  {
   "cell_type": "code",
   "execution_count": 15,
   "metadata": {
    "cell_id": "00037-cfc1eed9-7cd0-4237-9ec8-0e101736fbc5",
    "deepnote_cell_type": "code",
    "execution_millis": 550,
    "execution_start": 1606190082907,
    "output_cleared": false,
    "source_hash": "178d52a5"
   },
   "outputs": [],
   "source": [
    "newData['human_development_index'] = newData['location'].apply(lambda x:  hdi_location_mean[x])  \n",
    "newData['gdp_per_capita'] = newData['location'].apply(lambda x:  gdp_location_mean[x])\n",
    "newData['total_cases'] = newData['total_cases'].apply(lambda x: 0 if pd.isna(x) else x)\n",
    "newData['total_deaths'] = newData['total_deaths'].apply(lambda x: 0 if pd.isna(x) else x)\n",
    "newData['new_deaths'] = newData['new_deaths'].apply(lambda x: 0 if pd.isna(x) else x)\n",
    "newData['new_cases'] = newData['new_cases'].apply(lambda x: 0 if pd.isna(x) else x)\n",
    "newData['new_cases_smoothed'] = newData['new_cases_smoothed'].apply(lambda x: 0 if pd.isna(x) else x)\n",
    "newData['new_deaths_smoothed'] = newData['new_deaths_smoothed'].apply(lambda x: 0 if pd.isna(x) else x)\n",
    "newData['total_cases_per_million'] = newData['total_cases_per_million'].apply(lambda x: 0 if pd.isna(x) else x)\n",
    "newData['total_deaths_per_million'] = newData['total_deaths_per_million'].apply(lambda x: 0 if pd.isna(x) else x)\n",
    "newData['new_cases_per_million'] = newData['new_cases_per_million'].apply(lambda x: 0 if pd.isna(x) else x)\n",
    "newData['new_deaths_per_million'] = newData['new_deaths_per_million'].apply(lambda x: 0 if pd.isna(x) else x)\n",
    "newData['new_cases_smoothed_per_million'] = newData['new_cases_smoothed_per_million'].apply(lambda x: 0 if pd.isna(x) else x)\n",
    "newData['new_deaths_smoothed_per_million'] = newData['new_deaths_smoothed_per_million'].apply(lambda x: 0 if pd.isna(x) else x)\n",
    "newData['total_tests'] = newData['total_tests'].apply(lambda x: 0 if pd.isna(x) else x)\n",
    "newData['new_tests'] = newData['new_tests'].apply(lambda x: 0 if pd.isna(x) else x)\n",
    "newData['total_tests_per_thousand'] = newData['total_tests_per_thousand'].apply(lambda x: 0 if pd.isna(x) else x)\n",
    "newData['new_tests_per_thousand'] = newData['new_tests_per_thousand'].apply(lambda x: 0 if pd.isna(x) else x)\n",
    "newData['new_tests_smoothed'] = newData['new_tests_smoothed'].apply(lambda x: 0 if pd.isna(x) else x)\n",
    "newData['new_tests_smoothed_per_thousand'] = newData['new_tests_smoothed_per_thousand'].apply(lambda x: 0 if pd.isna(x) else x)\n",
    "newData['tests_per_case'] = newData['tests_per_case'].apply(lambda x: 0 if pd.isna(x) else x) "
   ]
  },
  {
   "cell_type": "code",
   "execution_count": 16,
   "metadata": {
    "cell_id": "00038-65bc9633-64f8-4bd0-a21c-01b49bbc765d",
    "deepnote_cell_type": "code",
    "execution_millis": 19193,
    "execution_start": 1606190083478,
    "output_cleared": false,
    "source_hash": "4924c32a"
   },
   "outputs": [],
   "source": [
    "diabetes_prevalence_location = dict()\n",
    "cardiovasc_death_rate_location = dict()\n",
    "median_age_location = dict()\n",
    "handwashing_facilities_location = dict()\n",
    "hospital_beds_per_thousand_location = dict()\n",
    "life_expectancy_location = dict()\n",
    "stringency_index_location = dict()\n",
    "extreme_poverty_location = dict()\n",
    "\n",
    "for i in newData['location'].value_counts().index:\n",
    "    diabetes_prevalence_location[i] = newData[newData['location']==i]['diabetes_prevalence'].values[0]\n",
    "    cardiovasc_death_rate_location[i] = newData[newData['location']==i]['cardiovasc_death_rate'].values[0]\n",
    "    median_age_location[i] = newData[newData['location']==i]['median_age'].values[0]\n",
    "    handwashing_facilities_location[i] = newData[newData['location']==i]['handwashing_facilities'].values[0]\n",
    "    hospital_beds_per_thousand_location[i] = newData[newData['location']==i]['hospital_beds_per_thousand'].values[0]\n",
    "    life_expectancy_location[i] = newData[newData['location']==i]['life_expectancy'].values[0]\n",
    "    stringency_index_location[i] = newData[newData['location']==i]['stringency_index'].values[0]\n",
    "    extreme_poverty_location[i] = newData[newData['location']==i]['extreme_poverty'].values[0]\n",
    "    \n",
    "    if pd.isna(newData[newData['location']==i]['diabetes_prevalence'].values[0]):\n",
    "        diabetes_prevalence_location[i] = newData[newData['continent'] == newData[newData['location']==i]['continent'].values[0]]['diabetes_prevalence'].median()\n",
    "    if pd.isna(newData[newData['location']==i]['cardiovasc_death_rate'].values[0]):\n",
    "        cardiovasc_death_rate_location[i] = newData[newData['continent'] == newData[newData['location']==i]['continent'].values[0]]['cardiovasc_death_rate'].median()\n",
    "    if pd.isna(newData[newData['location']==i]['median_age'].values[0]):\n",
    "        median_age_location[i] = newData[newData['continent'] == newData[newData['location']==i]['continent'].values[0]]['median_age'].median() \n",
    "    if pd.isna(newData[newData['location']==i]['handwashing_facilities'].values[0]):\n",
    "        handwashing_facilities_location[i] = newData[newData['continent'] == newData[newData['location']==i]['continent'].values[0]]['handwashing_facilities'].mean() #mean\n",
    "    if pd.isna(newData[newData['location']==i]['hospital_beds_per_thousand'].values[0]):\n",
    "        hospital_beds_per_thousand_location[i] = newData[newData['continent'] == newData[newData['location']==i]['continent'].values[0]]['hospital_beds_per_thousand'].mean() #mean\n",
    "    if pd.isna(newData[newData['location']==i]['life_expectancy'].values[0]):\n",
    "        life_expectancy_location[i] = newData[newData['continent'] == newData[newData['location']==i]['continent'].values[0]]['life_expectancy'].median()\n",
    "    if pd.isna(newData[newData['location']==i]['stringency_index'].values[0]):\n",
    "        stringency_index_location[i] = newData[newData['continent'] == newData[newData['location']==i]['continent'].values[0]]['stringency_index'].mean() #mean\n",
    "    if pd.isna(newData[newData['location']==i]['extreme_poverty'].values[0]):\n",
    "        extreme_poverty_location[i] = newData[newData['continent'] == newData[newData['location']==i]['continent'].values[0]]['extreme_poverty'].mean() #mean\n",
    "\n",
    "stringency_index_location.pop('World')\n",
    "stringency_index_location['World'] = sum(stringency_index_location.values())/len(stringency_index_location)"
   ]
  },
  {
   "cell_type": "code",
   "execution_count": 17,
   "metadata": {
    "cell_id": "00039-562c3687-01e7-4067-99b5-806a50a4d80f",
    "deepnote_cell_type": "code",
    "execution_millis": 107,
    "execution_start": 1606190102714,
    "output_cleared": false,
    "source_hash": "1f62eee8"
   },
   "outputs": [],
   "source": [
    "newData['diabetes_prevalence'] = newData['location'].apply(lambda x:  diabetes_prevalence_location[x])  \n",
    "newData['cardiovasc_death_rate'] = newData['location'].apply(lambda x:  cardiovasc_death_rate_location[x])  \n",
    "newData['median_age'] = newData['location'].apply(lambda x:  median_age_location[x])  \n",
    "newData['handwashing_facilities'] = newData['location'].apply(lambda x:  handwashing_facilities_location[x])  \n",
    "newData['hospital_beds_per_thousand'] = newData['location'].apply(lambda x:  hospital_beds_per_thousand_location[x])  \n",
    "newData['life_expectancy'] = newData['location'].apply(lambda x:  life_expectancy_location[x])  \n",
    "newData['stringency_index'] = newData['location'].apply(lambda x:  stringency_index_location[x])  \n",
    "newData['extreme_poverty'] = newData['location'].apply(lambda x:  extreme_poverty_location[x])\n",
    "newData['stringency_index'] = newData['location'].apply(lambda x:  stringency_index_location[x])"
   ]
  },
  {
   "cell_type": "code",
   "execution_count": 18,
   "metadata": {
    "cell_id": "00040-68ae1675-5b44-4ebd-947b-44405a3f443a",
    "deepnote_cell_type": "code",
    "execution_millis": 15,
    "execution_start": 1606190102826,
    "output_cleared": false,
    "source_hash": "6a82befe"
   },
   "outputs": [],
   "source": [
    "newData.drop(newData[newData['new_deaths_smoothed'] < 0].index, inplace = True) \n",
    "newData.drop(newData[newData['new_tests'] < 0].index, inplace = True)"
   ]
  },
  {
   "cell_type": "code",
   "execution_count": 19,
   "metadata": {
    "cell_id": "00041-b3d1aa4b-41ff-4f80-8d15-9acd5cde3d29",
    "deepnote_cell_type": "code",
    "execution_millis": 24,
    "execution_start": 1606190102847,
    "output_cleared": false,
    "source_hash": "bcbd0c7a"
   },
   "outputs": [
    {
     "name": "stdout",
     "output_type": "stream",
     "text": [
      "<class 'pandas.core.frame.DataFrame'>\n",
      "Int64Index: 55086 entries, 32225 to 42307\n",
      "Data columns (total 37 columns):\n",
      "id                                 55086 non-null int64\n",
      "iso_code                           55086 non-null object\n",
      "continent                          55086 non-null object\n",
      "location                           55086 non-null object\n",
      "population                         55086 non-null float64\n",
      "human_development_index            55086 non-null float64\n",
      "gdp_per_capita                     55086 non-null float64\n",
      "date                               55086 non-null object\n",
      "total_cases                        55086 non-null float64\n",
      "total_deaths                       55086 non-null float64\n",
      "new_cases                          55086 non-null float64\n",
      "new_deaths                         55086 non-null float64\n",
      "new_cases_smoothed                 55086 non-null float64\n",
      "new_deaths_smoothed                55086 non-null float64\n",
      "total_cases_per_million            55086 non-null float64\n",
      "total_deaths_per_million           55086 non-null float64\n",
      "new_cases_per_million              55086 non-null float64\n",
      "new_deaths_per_million             55086 non-null float64\n",
      "new_cases_smoothed_per_million     55086 non-null float64\n",
      "new_deaths_smoothed_per_million    55086 non-null float64\n",
      "diabetes_prevalence                55086 non-null float64\n",
      "cardiovasc_death_rate              55086 non-null float64\n",
      "median_age                         55086 non-null float64\n",
      "handwashing_facilities             55086 non-null float64\n",
      "hospital_beds_per_thousand         55086 non-null float64\n",
      "life_expectancy                    55086 non-null float64\n",
      "stringency_index                   55086 non-null float64\n",
      "total_tests                        55086 non-null float64\n",
      "new_tests                          55086 non-null float64\n",
      "total_tests_per_thousand           55086 non-null float64\n",
      "new_tests_per_thousand             55086 non-null float64\n",
      "new_tests_smoothed                 55086 non-null float64\n",
      "new_tests_smoothed_per_thousand    55086 non-null float64\n",
      "tests_per_case                     55086 non-null float64\n",
      "extreme_poverty                    55086 non-null float64\n",
      "train_data                         55086 non-null int64\n",
      "date_to_integer                    55086 non-null float64\n",
      "dtypes: float64(31), int64(2), object(4)\n",
      "memory usage: 16.0+ MB\n"
     ]
    }
   ],
   "source": [
    "newData.info()"
   ]
  },
  {
   "cell_type": "code",
   "execution_count": 20,
   "metadata": {},
   "outputs": [
    {
     "data": {
      "text/html": [
       "<div>\n",
       "<style scoped>\n",
       "    .dataframe tbody tr th:only-of-type {\n",
       "        vertical-align: middle;\n",
       "    }\n",
       "\n",
       "    .dataframe tbody tr th {\n",
       "        vertical-align: top;\n",
       "    }\n",
       "\n",
       "    .dataframe thead th {\n",
       "        text-align: right;\n",
       "    }\n",
       "</style>\n",
       "<table border=\"1\" class=\"dataframe\">\n",
       "  <thead>\n",
       "    <tr style=\"text-align: right;\">\n",
       "      <th></th>\n",
       "      <th>extreme_poverty</th>\n",
       "      <th>gdp_per_capita</th>\n",
       "      <th>handwashing_facilities</th>\n",
       "      <th>handwashing_facilities</th>\n",
       "      <th>new_deaths</th>\n",
       "      <th>population</th>\n",
       "      <th>stringency_index</th>\n",
       "      <th>tests_per_case</th>\n",
       "    </tr>\n",
       "    <tr>\n",
       "      <th>location</th>\n",
       "      <th></th>\n",
       "      <th></th>\n",
       "      <th></th>\n",
       "      <th></th>\n",
       "      <th></th>\n",
       "      <th></th>\n",
       "      <th></th>\n",
       "      <th></th>\n",
       "    </tr>\n",
       "  </thead>\n",
       "  <tbody>\n",
       "    <tr>\n",
       "      <td>Afghanistan</td>\n",
       "      <td>5.549810</td>\n",
       "      <td>1803.987000</td>\n",
       "      <td>37.74600</td>\n",
       "      <td>37.74600</td>\n",
       "      <td>6.894040</td>\n",
       "      <td>3.892834e+07</td>\n",
       "      <td>8.330000</td>\n",
       "      <td>0.000000</td>\n",
       "    </tr>\n",
       "    <tr>\n",
       "      <td>Albania</td>\n",
       "      <td>1.100000</td>\n",
       "      <td>11803.431000</td>\n",
       "      <td>94.01194</td>\n",
       "      <td>94.01194</td>\n",
       "      <td>3.812500</td>\n",
       "      <td>2.877800e+06</td>\n",
       "      <td>36.110000</td>\n",
       "      <td>0.000000</td>\n",
       "    </tr>\n",
       "    <tr>\n",
       "      <td>Algeria</td>\n",
       "      <td>0.500000</td>\n",
       "      <td>13913.839000</td>\n",
       "      <td>83.74100</td>\n",
       "      <td>83.74100</td>\n",
       "      <td>8.887043</td>\n",
       "      <td>4.385104e+07</td>\n",
       "      <td>0.000000</td>\n",
       "      <td>0.000000</td>\n",
       "    </tr>\n",
       "    <tr>\n",
       "      <td>Andorra</td>\n",
       "      <td>0.897738</td>\n",
       "      <td>33715.425151</td>\n",
       "      <td>94.01194</td>\n",
       "      <td>94.01194</td>\n",
       "      <td>0.274576</td>\n",
       "      <td>7.726500e+04</td>\n",
       "      <td>0.000000</td>\n",
       "      <td>0.000000</td>\n",
       "    </tr>\n",
       "    <tr>\n",
       "      <td>Angola</td>\n",
       "      <td>33.545609</td>\n",
       "      <td>5819.495000</td>\n",
       "      <td>26.66400</td>\n",
       "      <td>26.66400</td>\n",
       "      <td>1.407942</td>\n",
       "      <td>3.286627e+07</td>\n",
       "      <td>11.110000</td>\n",
       "      <td>0.000000</td>\n",
       "    </tr>\n",
       "    <tr>\n",
       "      <td>...</td>\n",
       "      <td>...</td>\n",
       "      <td>...</td>\n",
       "      <td>...</td>\n",
       "      <td>...</td>\n",
       "      <td>...</td>\n",
       "      <td>...</td>\n",
       "      <td>...</td>\n",
       "      <td>...</td>\n",
       "    </tr>\n",
       "    <tr>\n",
       "      <td>Vietnam</td>\n",
       "      <td>2.000000</td>\n",
       "      <td>6171.884000</td>\n",
       "      <td>85.84700</td>\n",
       "      <td>85.84700</td>\n",
       "      <td>0.104790</td>\n",
       "      <td>9.733858e+07</td>\n",
       "      <td>0.000000</td>\n",
       "      <td>1840.669760</td>\n",
       "    </tr>\n",
       "    <tr>\n",
       "      <td>World</td>\n",
       "      <td>10.000000</td>\n",
       "      <td>15469.207000</td>\n",
       "      <td>60.13000</td>\n",
       "      <td>60.13000</td>\n",
       "      <td>5082.325373</td>\n",
       "      <td>7.794799e+09</td>\n",
       "      <td>22.122585</td>\n",
       "      <td>0.000000</td>\n",
       "    </tr>\n",
       "    <tr>\n",
       "      <td>Yemen</td>\n",
       "      <td>18.800000</td>\n",
       "      <td>1479.147000</td>\n",
       "      <td>49.54200</td>\n",
       "      <td>49.54200</td>\n",
       "      <td>2.606426</td>\n",
       "      <td>2.982597e+07</td>\n",
       "      <td>40.740000</td>\n",
       "      <td>0.000000</td>\n",
       "    </tr>\n",
       "    <tr>\n",
       "      <td>Zambia</td>\n",
       "      <td>57.500000</td>\n",
       "      <td>3689.251000</td>\n",
       "      <td>13.93800</td>\n",
       "      <td>13.93800</td>\n",
       "      <td>1.344086</td>\n",
       "      <td>1.838396e+07</td>\n",
       "      <td>16.670000</td>\n",
       "      <td>59.109677</td>\n",
       "    </tr>\n",
       "    <tr>\n",
       "      <td>Zimbabwe</td>\n",
       "      <td>21.400000</td>\n",
       "      <td>1899.775000</td>\n",
       "      <td>36.79100</td>\n",
       "      <td>36.79100</td>\n",
       "      <td>1.162455</td>\n",
       "      <td>1.486293e+07</td>\n",
       "      <td>27.780000</td>\n",
       "      <td>38.347292</td>\n",
       "    </tr>\n",
       "  </tbody>\n",
       "</table>\n",
       "<p>191 rows × 8 columns</p>\n",
       "</div>"
      ],
      "text/plain": [
       "             extreme_poverty  gdp_per_capita  handwashing_facilities  \\\n",
       "location                                                               \n",
       "Afghanistan         5.549810     1803.987000                37.74600   \n",
       "Albania             1.100000    11803.431000                94.01194   \n",
       "Algeria             0.500000    13913.839000                83.74100   \n",
       "Andorra             0.897738    33715.425151                94.01194   \n",
       "Angola             33.545609     5819.495000                26.66400   \n",
       "...                      ...             ...                     ...   \n",
       "Vietnam             2.000000     6171.884000                85.84700   \n",
       "World              10.000000    15469.207000                60.13000   \n",
       "Yemen              18.800000     1479.147000                49.54200   \n",
       "Zambia             57.500000     3689.251000                13.93800   \n",
       "Zimbabwe           21.400000     1899.775000                36.79100   \n",
       "\n",
       "             handwashing_facilities   new_deaths    population  \\\n",
       "location                                                         \n",
       "Afghanistan                37.74600     6.894040  3.892834e+07   \n",
       "Albania                    94.01194     3.812500  2.877800e+06   \n",
       "Algeria                    83.74100     8.887043  4.385104e+07   \n",
       "Andorra                    94.01194     0.274576  7.726500e+04   \n",
       "Angola                     26.66400     1.407942  3.286627e+07   \n",
       "...                             ...          ...           ...   \n",
       "Vietnam                    85.84700     0.104790  9.733858e+07   \n",
       "World                      60.13000  5082.325373  7.794799e+09   \n",
       "Yemen                      49.54200     2.606426  2.982597e+07   \n",
       "Zambia                     13.93800     1.344086  1.838396e+07   \n",
       "Zimbabwe                   36.79100     1.162455  1.486293e+07   \n",
       "\n",
       "             stringency_index  tests_per_case  \n",
       "location                                       \n",
       "Afghanistan          8.330000        0.000000  \n",
       "Albania             36.110000        0.000000  \n",
       "Algeria              0.000000        0.000000  \n",
       "Andorra              0.000000        0.000000  \n",
       "Angola              11.110000        0.000000  \n",
       "...                       ...             ...  \n",
       "Vietnam              0.000000     1840.669760  \n",
       "World               22.122585        0.000000  \n",
       "Yemen               40.740000        0.000000  \n",
       "Zambia              16.670000       59.109677  \n",
       "Zimbabwe            27.780000       38.347292  \n",
       "\n",
       "[191 rows x 8 columns]"
      ]
     },
     "execution_count": 20,
     "metadata": {},
     "output_type": "execute_result"
    }
   ],
   "source": [
    "pd.pivot_table(newData, index = 'location', values = ['population','new_deaths','handwashing_facilities','stringency_index','extreme_poverty','handwashing_facilities','tests_per_case','gdp_per_capita'])"
   ]
  },
  {
   "cell_type": "code",
   "execution_count": 21,
   "metadata": {
    "cell_id": "00042-dedc4f4d-f38c-461d-9197-bebd2f1fc161",
    "deepnote_cell_type": "code",
    "execution_millis": 173,
    "execution_start": 1606190102884,
    "output_cleared": false,
    "source_hash": "fb7d00a9"
   },
   "outputs": [
    {
     "data": {
      "text/plain": [
       "(43982, 216)"
      ]
     },
     "execution_count": 21,
     "metadata": {},
     "output_type": "execute_result"
    }
   ],
   "source": [
    "all_dummies = pd.get_dummies(newData[['location','date_to_integer','train_data','population', 'human_development_index', 'gdp_per_capita',\n",
    "       'total_cases', 'total_deaths', 'new_cases',\n",
    "       'new_cases_smoothed', 'total_cases_per_million', 'new_cases_per_million', 'new_cases_smoothed_per_million', 'diabetes_prevalence',\n",
    "       'cardiovasc_death_rate', 'median_age', 'handwashing_facilities',\n",
    "       'hospital_beds_per_thousand', 'life_expectancy', 'stringency_index',\n",
    "       'total_tests', 'new_tests', 'total_tests_per_thousand',\n",
    "       'new_tests_per_thousand', 'new_tests_smoothed',\n",
    "       'new_tests_smoothed_per_thousand', 'tests_per_case', 'extreme_poverty']])\n",
    "\n",
    "X_train = all_dummies[all_dummies['train_data']==1].drop(['train_data'],axis=1).drop(['total_deaths'],axis=1)\n",
    "X_test = all_dummies[all_dummies['train_data']==0].drop(['train_data'],axis=1).drop(['total_deaths'],axis=1)\n",
    "\n",
    "Y_train = newData[newData['train_data']==1]['total_deaths']\n",
    "Y_test = newData[newData['train_data']==0]['total_deaths']\n",
    "# Y_train = Y_train.astype('int')\n",
    "# Y_test = Y_test.astype('int')\n",
    "X_train.shape"
   ]
  },
  {
   "cell_type": "code",
   "execution_count": 22,
   "metadata": {
    "cell_id": "00043-bfd22fe9-2422-4c33-b8ea-3c9d02280e89",
    "deepnote_cell_type": "code",
    "execution_millis": 342,
    "execution_start": 1606190103063,
    "output_cleared": false,
    "source_hash": "e0c32994"
   },
   "outputs": [],
   "source": [
    "## Scale the data for our model\n",
    "from sklearn.preprocessing import StandardScaler\n",
    "scale = StandardScaler()\n",
    "all_dummies_scaled = all_dummies.copy()\n",
    "all_dummies_scaled[['date_to_integer','train_data','population', 'human_development_index', 'gdp_per_capita',\n",
    "       'total_cases', 'total_deaths', 'new_cases',\n",
    "       'new_cases_smoothed', 'total_cases_per_million', 'new_cases_per_million', 'new_cases_smoothed_per_million', 'diabetes_prevalence',\n",
    "       'cardiovasc_death_rate', 'median_age', 'handwashing_facilities',\n",
    "       'hospital_beds_per_thousand', 'life_expectancy', 'stringency_index',\n",
    "       'total_tests', 'new_tests', 'total_tests_per_thousand',\n",
    "       'new_tests_per_thousand', 'new_tests_smoothed',\n",
    "       'new_tests_smoothed_per_thousand', 'tests_per_case', 'extreme_poverty']]= scale.fit_transform(all_dummies_scaled[['date_to_integer','train_data','population', 'human_development_index', 'gdp_per_capita',\n",
    "       'total_cases', 'total_deaths', 'new_cases',\n",
    "       'new_cases_smoothed', 'total_cases_per_million', 'new_cases_per_million', 'new_cases_smoothed_per_million', 'diabetes_prevalence',\n",
    "       'cardiovasc_death_rate', 'median_age', 'handwashing_facilities',\n",
    "       'hospital_beds_per_thousand', 'life_expectancy', 'stringency_index',\n",
    "       'total_tests', 'new_tests', 'total_tests_per_thousand',\n",
    "       'new_tests_per_thousand', 'new_tests_smoothed',\n",
    "       'new_tests_smoothed_per_thousand', 'tests_per_case', 'extreme_poverty']])\n",
    "\n",
    "X_train_scaled = all_dummies_scaled[all_dummies_scaled['train_data'] == 1].drop(['train_data'],axis=1).drop(['total_deaths'],axis=1)\n",
    "X_test_scaled = all_dummies_scaled[all_dummies_scaled['train_data'] == 0].drop(['train_data'],axis=1).drop(['total_deaths'],axis=1)\n",
    "\n",
    "Y_train_scaled = all_dummies_scaled[all_dummies_scaled['train_data']==1]['total_deaths']\n",
    "Y_test_scaled = all_dummies_scaled[all_dummies_scaled['train_data']==0]['total_deaths']\n",
    "Y_train_scaled = Y_train_scaled.astype('int')\n",
    "Y_test_scaled = Y_test_scaled.astype('int')"
   ]
  },
  {
   "cell_type": "code",
   "execution_count": 48,
   "metadata": {},
   "outputs": [
    {
     "data": {
      "text/plain": [
       "(43982, 207)"
      ]
     },
     "execution_count": 48,
     "metadata": {},
     "output_type": "execute_result"
    }
   ],
   "source": [
    "## Data Modification\n",
    "\n",
    "all_dummies = pd.get_dummies(newData[['location','date_to_integer','train_data','population', 'human_development_index', 'gdp_per_capita',\n",
    "       'total_cases', 'total_deaths',\n",
    "       'new_cases_smoothed', 'diabetes_prevalence',\n",
    "       'cardiovasc_death_rate', 'median_age', 'handwashing_facilities',\n",
    "       'hospital_beds_per_thousand', 'life_expectancy', 'stringency_index',\n",
    "       'total_tests','new_tests_smoothed', 'extreme_poverty']])\n",
    "\n",
    "X_train = all_dummies[all_dummies['train_data']==1].drop(['train_data'],axis=1).drop(['total_deaths'],axis=1)\n",
    "X_test = all_dummies[all_dummies['train_data']==0].drop(['train_data'],axis=1).drop(['total_deaths'],axis=1)\n",
    "\n",
    "Y_train = newData[newData['train_data']==1]['total_deaths']\n",
    "Y_test = newData[newData['train_data']==0]['total_deaths']\n",
    "# Y_train = Y_train.astype('int')\n",
    "# Y_test = Y_test.astype('int')\n",
    "X_train.shape"
   ]
  },
  {
   "cell_type": "code",
   "execution_count": 49,
   "metadata": {},
   "outputs": [
    {
     "data": {
      "text/plain": [
       "(59, 207)"
      ]
     },
     "execution_count": 49,
     "metadata": {},
     "output_type": "execute_result"
    }
   ],
   "source": [
    "Indonesia_dummies = all_dummies[all_dummies['location_Indonesia']==1]\n",
    "\n",
    "X_Indonesia = Indonesia_dummies.drop(['train_data'],axis=1).drop(['total_deaths'],axis=1)\n",
    "Y_Indonesia = newData[newData['location']=='Indonesia']['total_deaths']\n",
    "\n",
    "X_train_Indonesia = Indonesia_dummies[Indonesia_dummies['train_data']==1].drop(['train_data'],axis=1).drop(['total_deaths'],axis=1)\n",
    "X_test_Indonesia = Indonesia_dummies[Indonesia_dummies['train_data']==0].drop(['train_data'],axis=1).drop(['total_deaths'],axis=1)\n",
    "\n",
    "Y_train_Indonesia = newData[newData['train_data']==1][newData[newData['train_data']==1][\"location\"]==\"Indonesia\"]['total_deaths']\n",
    "Y_test_Indonesia = newData[newData['train_data']==0][newData[newData['train_data']==0][\"location\"]==\"Indonesia\"]['total_deaths']\n",
    "\n",
    "X_test_Indonesia.shape"
   ]
  },
  {
   "cell_type": "code",
   "execution_count": 25,
   "metadata": {
    "cell_id": "00044-2c1feeb2-a845-4581-97ee-69c2d8c1a79a",
    "deepnote_cell_type": "code",
    "execution_millis": 460,
    "execution_start": 1606190103408,
    "output_cleared": false,
    "source_hash": "84e8ce6b"
   },
   "outputs": [
    {
     "data": {
      "text/html": [
       "<div>\n",
       "<style scoped>\n",
       "    .dataframe tbody tr th:only-of-type {\n",
       "        vertical-align: middle;\n",
       "    }\n",
       "\n",
       "    .dataframe tbody tr th {\n",
       "        vertical-align: top;\n",
       "    }\n",
       "\n",
       "    .dataframe thead th {\n",
       "        text-align: right;\n",
       "    }\n",
       "</style>\n",
       "<table border=\"1\" class=\"dataframe\">\n",
       "  <thead>\n",
       "    <tr style=\"text-align: right;\">\n",
       "      <th></th>\n",
       "      <th>date_to_integer</th>\n",
       "      <th>population</th>\n",
       "      <th>human_development_index</th>\n",
       "      <th>gdp_per_capita</th>\n",
       "      <th>total_cases</th>\n",
       "      <th>new_cases_smoothed</th>\n",
       "      <th>diabetes_prevalence</th>\n",
       "      <th>cardiovasc_death_rate</th>\n",
       "      <th>median_age</th>\n",
       "      <th>handwashing_facilities</th>\n",
       "      <th>...</th>\n",
       "      <th>location_Uruguay</th>\n",
       "      <th>location_Uzbekistan</th>\n",
       "      <th>location_Vanuatu</th>\n",
       "      <th>location_Vatican</th>\n",
       "      <th>location_Venezuela</th>\n",
       "      <th>location_Vietnam</th>\n",
       "      <th>location_World</th>\n",
       "      <th>location_Yemen</th>\n",
       "      <th>location_Zambia</th>\n",
       "      <th>location_Zimbabwe</th>\n",
       "    </tr>\n",
       "  </thead>\n",
       "  <tbody>\n",
       "    <tr>\n",
       "      <td>22749</td>\n",
       "      <td>20200302.0</td>\n",
       "      <td>273523621.0</td>\n",
       "      <td>0.694</td>\n",
       "      <td>11188.744</td>\n",
       "      <td>2.0</td>\n",
       "      <td>0.000</td>\n",
       "      <td>6.32</td>\n",
       "      <td>342.864</td>\n",
       "      <td>29.3</td>\n",
       "      <td>64.204</td>\n",
       "      <td>...</td>\n",
       "      <td>0</td>\n",
       "      <td>0</td>\n",
       "      <td>0</td>\n",
       "      <td>0</td>\n",
       "      <td>0</td>\n",
       "      <td>0</td>\n",
       "      <td>0</td>\n",
       "      <td>0</td>\n",
       "      <td>0</td>\n",
       "      <td>0</td>\n",
       "    </tr>\n",
       "    <tr>\n",
       "      <td>22750</td>\n",
       "      <td>20200303.0</td>\n",
       "      <td>273523621.0</td>\n",
       "      <td>0.694</td>\n",
       "      <td>11188.744</td>\n",
       "      <td>2.0</td>\n",
       "      <td>0.000</td>\n",
       "      <td>6.32</td>\n",
       "      <td>342.864</td>\n",
       "      <td>29.3</td>\n",
       "      <td>64.204</td>\n",
       "      <td>...</td>\n",
       "      <td>0</td>\n",
       "      <td>0</td>\n",
       "      <td>0</td>\n",
       "      <td>0</td>\n",
       "      <td>0</td>\n",
       "      <td>0</td>\n",
       "      <td>0</td>\n",
       "      <td>0</td>\n",
       "      <td>0</td>\n",
       "      <td>0</td>\n",
       "    </tr>\n",
       "    <tr>\n",
       "      <td>22751</td>\n",
       "      <td>20200304.0</td>\n",
       "      <td>273523621.0</td>\n",
       "      <td>0.694</td>\n",
       "      <td>11188.744</td>\n",
       "      <td>2.0</td>\n",
       "      <td>0.000</td>\n",
       "      <td>6.32</td>\n",
       "      <td>342.864</td>\n",
       "      <td>29.3</td>\n",
       "      <td>64.204</td>\n",
       "      <td>...</td>\n",
       "      <td>0</td>\n",
       "      <td>0</td>\n",
       "      <td>0</td>\n",
       "      <td>0</td>\n",
       "      <td>0</td>\n",
       "      <td>0</td>\n",
       "      <td>0</td>\n",
       "      <td>0</td>\n",
       "      <td>0</td>\n",
       "      <td>0</td>\n",
       "    </tr>\n",
       "    <tr>\n",
       "      <td>22752</td>\n",
       "      <td>20200305.0</td>\n",
       "      <td>273523621.0</td>\n",
       "      <td>0.694</td>\n",
       "      <td>11188.744</td>\n",
       "      <td>2.0</td>\n",
       "      <td>0.000</td>\n",
       "      <td>6.32</td>\n",
       "      <td>342.864</td>\n",
       "      <td>29.3</td>\n",
       "      <td>64.204</td>\n",
       "      <td>...</td>\n",
       "      <td>0</td>\n",
       "      <td>0</td>\n",
       "      <td>0</td>\n",
       "      <td>0</td>\n",
       "      <td>0</td>\n",
       "      <td>0</td>\n",
       "      <td>0</td>\n",
       "      <td>0</td>\n",
       "      <td>0</td>\n",
       "      <td>0</td>\n",
       "    </tr>\n",
       "    <tr>\n",
       "      <td>22753</td>\n",
       "      <td>20200306.0</td>\n",
       "      <td>273523621.0</td>\n",
       "      <td>0.694</td>\n",
       "      <td>11188.744</td>\n",
       "      <td>4.0</td>\n",
       "      <td>0.000</td>\n",
       "      <td>6.32</td>\n",
       "      <td>342.864</td>\n",
       "      <td>29.3</td>\n",
       "      <td>64.204</td>\n",
       "      <td>...</td>\n",
       "      <td>0</td>\n",
       "      <td>0</td>\n",
       "      <td>0</td>\n",
       "      <td>0</td>\n",
       "      <td>0</td>\n",
       "      <td>0</td>\n",
       "      <td>0</td>\n",
       "      <td>0</td>\n",
       "      <td>0</td>\n",
       "      <td>0</td>\n",
       "    </tr>\n",
       "    <tr>\n",
       "      <td>...</td>\n",
       "      <td>...</td>\n",
       "      <td>...</td>\n",
       "      <td>...</td>\n",
       "      <td>...</td>\n",
       "      <td>...</td>\n",
       "      <td>...</td>\n",
       "      <td>...</td>\n",
       "      <td>...</td>\n",
       "      <td>...</td>\n",
       "      <td>...</td>\n",
       "      <td>...</td>\n",
       "      <td>...</td>\n",
       "      <td>...</td>\n",
       "      <td>...</td>\n",
       "      <td>...</td>\n",
       "      <td>...</td>\n",
       "      <td>...</td>\n",
       "      <td>...</td>\n",
       "      <td>...</td>\n",
       "      <td>...</td>\n",
       "      <td>...</td>\n",
       "    </tr>\n",
       "    <tr>\n",
       "      <td>22980</td>\n",
       "      <td>20201019.0</td>\n",
       "      <td>273523621.0</td>\n",
       "      <td>0.694</td>\n",
       "      <td>11188.744</td>\n",
       "      <td>365240.0</td>\n",
       "      <td>4074.857</td>\n",
       "      <td>6.32</td>\n",
       "      <td>342.864</td>\n",
       "      <td>29.3</td>\n",
       "      <td>64.204</td>\n",
       "      <td>...</td>\n",
       "      <td>0</td>\n",
       "      <td>0</td>\n",
       "      <td>0</td>\n",
       "      <td>0</td>\n",
       "      <td>0</td>\n",
       "      <td>0</td>\n",
       "      <td>0</td>\n",
       "      <td>0</td>\n",
       "      <td>0</td>\n",
       "      <td>0</td>\n",
       "    </tr>\n",
       "    <tr>\n",
       "      <td>22981</td>\n",
       "      <td>20201020.0</td>\n",
       "      <td>273523621.0</td>\n",
       "      <td>0.694</td>\n",
       "      <td>11188.744</td>\n",
       "      <td>368842.0</td>\n",
       "      <td>4031.429</td>\n",
       "      <td>6.32</td>\n",
       "      <td>342.864</td>\n",
       "      <td>29.3</td>\n",
       "      <td>64.204</td>\n",
       "      <td>...</td>\n",
       "      <td>0</td>\n",
       "      <td>0</td>\n",
       "      <td>0</td>\n",
       "      <td>0</td>\n",
       "      <td>0</td>\n",
       "      <td>0</td>\n",
       "      <td>0</td>\n",
       "      <td>0</td>\n",
       "      <td>0</td>\n",
       "      <td>0</td>\n",
       "    </tr>\n",
       "    <tr>\n",
       "      <td>22982</td>\n",
       "      <td>20201021.0</td>\n",
       "      <td>273523621.0</td>\n",
       "      <td>0.694</td>\n",
       "      <td>11188.744</td>\n",
       "      <td>373109.0</td>\n",
       "      <td>4051.429</td>\n",
       "      <td>6.32</td>\n",
       "      <td>342.864</td>\n",
       "      <td>29.3</td>\n",
       "      <td>64.204</td>\n",
       "      <td>...</td>\n",
       "      <td>0</td>\n",
       "      <td>0</td>\n",
       "      <td>0</td>\n",
       "      <td>0</td>\n",
       "      <td>0</td>\n",
       "      <td>0</td>\n",
       "      <td>0</td>\n",
       "      <td>0</td>\n",
       "      <td>0</td>\n",
       "      <td>0</td>\n",
       "    </tr>\n",
       "    <tr>\n",
       "      <td>22983</td>\n",
       "      <td>20201022.0</td>\n",
       "      <td>273523621.0</td>\n",
       "      <td>0.694</td>\n",
       "      <td>11188.744</td>\n",
       "      <td>377541.0</td>\n",
       "      <td>4054.429</td>\n",
       "      <td>6.32</td>\n",
       "      <td>342.864</td>\n",
       "      <td>29.3</td>\n",
       "      <td>64.204</td>\n",
       "      <td>...</td>\n",
       "      <td>0</td>\n",
       "      <td>0</td>\n",
       "      <td>0</td>\n",
       "      <td>0</td>\n",
       "      <td>0</td>\n",
       "      <td>0</td>\n",
       "      <td>0</td>\n",
       "      <td>0</td>\n",
       "      <td>0</td>\n",
       "      <td>0</td>\n",
       "    </tr>\n",
       "    <tr>\n",
       "      <td>22984</td>\n",
       "      <td>20201023.0</td>\n",
       "      <td>273523621.0</td>\n",
       "      <td>0.694</td>\n",
       "      <td>11188.744</td>\n",
       "      <td>381910.0</td>\n",
       "      <td>4064.143</td>\n",
       "      <td>6.32</td>\n",
       "      <td>342.864</td>\n",
       "      <td>29.3</td>\n",
       "      <td>64.204</td>\n",
       "      <td>...</td>\n",
       "      <td>0</td>\n",
       "      <td>0</td>\n",
       "      <td>0</td>\n",
       "      <td>0</td>\n",
       "      <td>0</td>\n",
       "      <td>0</td>\n",
       "      <td>0</td>\n",
       "      <td>0</td>\n",
       "      <td>0</td>\n",
       "      <td>0</td>\n",
       "    </tr>\n",
       "  </tbody>\n",
       "</table>\n",
       "<p>236 rows × 207 columns</p>\n",
       "</div>"
      ],
      "text/plain": [
       "       date_to_integer   population  human_development_index  gdp_per_capita  \\\n",
       "22749       20200302.0  273523621.0                    0.694       11188.744   \n",
       "22750       20200303.0  273523621.0                    0.694       11188.744   \n",
       "22751       20200304.0  273523621.0                    0.694       11188.744   \n",
       "22752       20200305.0  273523621.0                    0.694       11188.744   \n",
       "22753       20200306.0  273523621.0                    0.694       11188.744   \n",
       "...                ...          ...                      ...             ...   \n",
       "22980       20201019.0  273523621.0                    0.694       11188.744   \n",
       "22981       20201020.0  273523621.0                    0.694       11188.744   \n",
       "22982       20201021.0  273523621.0                    0.694       11188.744   \n",
       "22983       20201022.0  273523621.0                    0.694       11188.744   \n",
       "22984       20201023.0  273523621.0                    0.694       11188.744   \n",
       "\n",
       "       total_cases  new_cases_smoothed  diabetes_prevalence  \\\n",
       "22749          2.0               0.000                 6.32   \n",
       "22750          2.0               0.000                 6.32   \n",
       "22751          2.0               0.000                 6.32   \n",
       "22752          2.0               0.000                 6.32   \n",
       "22753          4.0               0.000                 6.32   \n",
       "...            ...                 ...                  ...   \n",
       "22980     365240.0            4074.857                 6.32   \n",
       "22981     368842.0            4031.429                 6.32   \n",
       "22982     373109.0            4051.429                 6.32   \n",
       "22983     377541.0            4054.429                 6.32   \n",
       "22984     381910.0            4064.143                 6.32   \n",
       "\n",
       "       cardiovasc_death_rate  median_age  handwashing_facilities  ...  \\\n",
       "22749                342.864        29.3                  64.204  ...   \n",
       "22750                342.864        29.3                  64.204  ...   \n",
       "22751                342.864        29.3                  64.204  ...   \n",
       "22752                342.864        29.3                  64.204  ...   \n",
       "22753                342.864        29.3                  64.204  ...   \n",
       "...                      ...         ...                     ...  ...   \n",
       "22980                342.864        29.3                  64.204  ...   \n",
       "22981                342.864        29.3                  64.204  ...   \n",
       "22982                342.864        29.3                  64.204  ...   \n",
       "22983                342.864        29.3                  64.204  ...   \n",
       "22984                342.864        29.3                  64.204  ...   \n",
       "\n",
       "       location_Uruguay  location_Uzbekistan  location_Vanuatu  \\\n",
       "22749                 0                    0                 0   \n",
       "22750                 0                    0                 0   \n",
       "22751                 0                    0                 0   \n",
       "22752                 0                    0                 0   \n",
       "22753                 0                    0                 0   \n",
       "...                 ...                  ...               ...   \n",
       "22980                 0                    0                 0   \n",
       "22981                 0                    0                 0   \n",
       "22982                 0                    0                 0   \n",
       "22983                 0                    0                 0   \n",
       "22984                 0                    0                 0   \n",
       "\n",
       "       location_Vatican  location_Venezuela  location_Vietnam  location_World  \\\n",
       "22749                 0                   0                 0               0   \n",
       "22750                 0                   0                 0               0   \n",
       "22751                 0                   0                 0               0   \n",
       "22752                 0                   0                 0               0   \n",
       "22753                 0                   0                 0               0   \n",
       "...                 ...                 ...               ...             ...   \n",
       "22980                 0                   0                 0               0   \n",
       "22981                 0                   0                 0               0   \n",
       "22982                 0                   0                 0               0   \n",
       "22983                 0                   0                 0               0   \n",
       "22984                 0                   0                 0               0   \n",
       "\n",
       "       location_Yemen  location_Zambia  location_Zimbabwe  \n",
       "22749               0                0                  0  \n",
       "22750               0                0                  0  \n",
       "22751               0                0                  0  \n",
       "22752               0                0                  0  \n",
       "22753               0                0                  0  \n",
       "...               ...              ...                ...  \n",
       "22980               0                0                  0  \n",
       "22981               0                0                  0  \n",
       "22982               0                0                  0  \n",
       "22983               0                0                  0  \n",
       "22984               0                0                  0  \n",
       "\n",
       "[236 rows x 207 columns]"
      ]
     },
     "execution_count": 25,
     "metadata": {},
     "output_type": "execute_result"
    }
   ],
   "source": [
    "X_train_Indonesia"
   ]
  },
  {
   "cell_type": "markdown",
   "metadata": {},
   "source": [
    "## Saving Indonesia's dataset"
   ]
  },
  {
   "cell_type": "code",
   "execution_count": 204,
   "metadata": {},
   "outputs": [],
   "source": [
    "newData[newData[\"location\"]==\"Indonesia\"].to_csv('Indonesia.csv',index=False)"
   ]
  },
  {
   "cell_type": "code",
   "execution_count": 230,
   "metadata": {},
   "outputs": [
    {
     "data": {
      "text/html": [
       "<div>\n",
       "<style scoped>\n",
       "    .dataframe tbody tr th:only-of-type {\n",
       "        vertical-align: middle;\n",
       "    }\n",
       "\n",
       "    .dataframe tbody tr th {\n",
       "        vertical-align: top;\n",
       "    }\n",
       "\n",
       "    .dataframe thead th {\n",
       "        text-align: right;\n",
       "    }\n",
       "</style>\n",
       "<table border=\"1\" class=\"dataframe\">\n",
       "  <thead>\n",
       "    <tr style=\"text-align: right;\">\n",
       "      <th></th>\n",
       "      <th>id</th>\n",
       "      <th>iso_code</th>\n",
       "      <th>continent</th>\n",
       "      <th>location</th>\n",
       "      <th>population</th>\n",
       "      <th>human_development_index</th>\n",
       "      <th>gdp_per_capita</th>\n",
       "      <th>date</th>\n",
       "      <th>total_cases</th>\n",
       "      <th>total_deaths</th>\n",
       "      <th>new_cases</th>\n",
       "      <th>new_deaths</th>\n",
       "      <th>new_cases_smoothed</th>\n",
       "      <th>new_deaths_smoothed</th>\n",
       "      <th>total_cases_per_million</th>\n",
       "      <th>total_deaths_per_million</th>\n",
       "      <th>new_cases_per_million</th>\n",
       "      <th>new_deaths_per_million</th>\n",
       "      <th>new_cases_smoothed_per_million</th>\n",
       "      <th>new_deaths_smoothed_per_million</th>\n",
       "      <th>diabetes_prevalence</th>\n",
       "      <th>cardiovasc_death_rate</th>\n",
       "      <th>median_age</th>\n",
       "      <th>handwashing_facilities</th>\n",
       "      <th>hospital_beds_per_thousand</th>\n",
       "      <th>life_expectancy</th>\n",
       "      <th>stringency_index</th>\n",
       "      <th>total_tests</th>\n",
       "      <th>new_tests</th>\n",
       "      <th>total_tests_per_thousand</th>\n",
       "      <th>new_tests_per_thousand</th>\n",
       "      <th>new_tests_smoothed</th>\n",
       "      <th>new_tests_smoothed_per_thousand</th>\n",
       "      <th>tests_per_case</th>\n",
       "      <th>extreme_poverty</th>\n",
       "      <th>train_data</th>\n",
       "      <th>date_to_integer</th>\n",
       "    </tr>\n",
       "  </thead>\n",
       "  <tbody>\n",
       "    <tr>\n",
       "      <td>182</td>\n",
       "      <td>22932</td>\n",
       "      <td>IDN</td>\n",
       "      <td>Asia</td>\n",
       "      <td>Indonesia</td>\n",
       "      <td>273523621.0</td>\n",
       "      <td>0.694</td>\n",
       "      <td>11188.744</td>\n",
       "      <td>2020-08-31</td>\n",
       "      <td>174796.0</td>\n",
       "      <td>7417.0</td>\n",
       "      <td>2743.0</td>\n",
       "      <td>74.0</td>\n",
       "      <td>2769.143</td>\n",
       "      <td>94.000</td>\n",
       "      <td>639.053</td>\n",
       "      <td>27.116</td>\n",
       "      <td>10.028</td>\n",
       "      <td>0.271</td>\n",
       "      <td>10.124</td>\n",
       "      <td>0.344</td>\n",
       "      <td>6.32</td>\n",
       "      <td>342.864</td>\n",
       "      <td>29.3</td>\n",
       "      <td>64.204</td>\n",
       "      <td>1.04</td>\n",
       "      <td>71.72</td>\n",
       "      <td>28.7</td>\n",
       "      <td>1282618.0</td>\n",
       "      <td>11317.0</td>\n",
       "      <td>4.689</td>\n",
       "      <td>0.041</td>\n",
       "      <td>15230.0</td>\n",
       "      <td>0.056</td>\n",
       "      <td>5.5</td>\n",
       "      <td>5.7</td>\n",
       "      <td>1</td>\n",
       "      <td>20200831.0</td>\n",
       "    </tr>\n",
       "    <tr>\n",
       "      <td>66</td>\n",
       "      <td>22816</td>\n",
       "      <td>IDN</td>\n",
       "      <td>Asia</td>\n",
       "      <td>Indonesia</td>\n",
       "      <td>273523621.0</td>\n",
       "      <td>0.694</td>\n",
       "      <td>11188.744</td>\n",
       "      <td>2020-05-07</td>\n",
       "      <td>12776.0</td>\n",
       "      <td>930.0</td>\n",
       "      <td>338.0</td>\n",
       "      <td>35.0</td>\n",
       "      <td>379.714</td>\n",
       "      <td>19.714</td>\n",
       "      <td>46.709</td>\n",
       "      <td>3.400</td>\n",
       "      <td>1.236</td>\n",
       "      <td>0.128</td>\n",
       "      <td>1.388</td>\n",
       "      <td>0.072</td>\n",
       "      <td>6.32</td>\n",
       "      <td>342.864</td>\n",
       "      <td>29.3</td>\n",
       "      <td>64.204</td>\n",
       "      <td>1.04</td>\n",
       "      <td>71.72</td>\n",
       "      <td>28.7</td>\n",
       "      <td>96717.0</td>\n",
       "      <td>3741.0</td>\n",
       "      <td>0.354</td>\n",
       "      <td>0.014</td>\n",
       "      <td>3481.0</td>\n",
       "      <td>0.013</td>\n",
       "      <td>9.2</td>\n",
       "      <td>5.7</td>\n",
       "      <td>1</td>\n",
       "      <td>20200507.0</td>\n",
       "    </tr>\n",
       "    <tr>\n",
       "      <td>49</td>\n",
       "      <td>22799</td>\n",
       "      <td>IDN</td>\n",
       "      <td>Asia</td>\n",
       "      <td>Indonesia</td>\n",
       "      <td>273523621.0</td>\n",
       "      <td>0.694</td>\n",
       "      <td>11188.744</td>\n",
       "      <td>2020-04-20</td>\n",
       "      <td>6760.0</td>\n",
       "      <td>590.0</td>\n",
       "      <td>185.0</td>\n",
       "      <td>8.0</td>\n",
       "      <td>314.714</td>\n",
       "      <td>27.286</td>\n",
       "      <td>24.715</td>\n",
       "      <td>2.157</td>\n",
       "      <td>0.676</td>\n",
       "      <td>0.029</td>\n",
       "      <td>1.151</td>\n",
       "      <td>0.100</td>\n",
       "      <td>6.32</td>\n",
       "      <td>342.864</td>\n",
       "      <td>29.3</td>\n",
       "      <td>64.204</td>\n",
       "      <td>1.04</td>\n",
       "      <td>71.72</td>\n",
       "      <td>28.7</td>\n",
       "      <td>43749.0</td>\n",
       "      <td>1530.0</td>\n",
       "      <td>0.160</td>\n",
       "      <td>0.006</td>\n",
       "      <td>2337.0</td>\n",
       "      <td>0.009</td>\n",
       "      <td>7.4</td>\n",
       "      <td>5.7</td>\n",
       "      <td>1</td>\n",
       "      <td>20200420.0</td>\n",
       "    </tr>\n",
       "    <tr>\n",
       "      <td>165</td>\n",
       "      <td>22915</td>\n",
       "      <td>IDN</td>\n",
       "      <td>Asia</td>\n",
       "      <td>Indonesia</td>\n",
       "      <td>273523621.0</td>\n",
       "      <td>0.694</td>\n",
       "      <td>11188.744</td>\n",
       "      <td>2020-08-14</td>\n",
       "      <td>135123.0</td>\n",
       "      <td>6021.0</td>\n",
       "      <td>2307.0</td>\n",
       "      <td>53.0</td>\n",
       "      <td>1985.286</td>\n",
       "      <td>61.143</td>\n",
       "      <td>494.009</td>\n",
       "      <td>22.013</td>\n",
       "      <td>8.434</td>\n",
       "      <td>0.194</td>\n",
       "      <td>7.258</td>\n",
       "      <td>0.224</td>\n",
       "      <td>6.32</td>\n",
       "      <td>342.864</td>\n",
       "      <td>29.3</td>\n",
       "      <td>64.204</td>\n",
       "      <td>1.04</td>\n",
       "      <td>71.72</td>\n",
       "      <td>28.7</td>\n",
       "      <td>1039682.0</td>\n",
       "      <td>12728.0</td>\n",
       "      <td>3.801</td>\n",
       "      <td>0.047</td>\n",
       "      <td>12539.0</td>\n",
       "      <td>0.046</td>\n",
       "      <td>6.3</td>\n",
       "      <td>5.7</td>\n",
       "      <td>1</td>\n",
       "      <td>20200814.0</td>\n",
       "    </tr>\n",
       "    <tr>\n",
       "      <td>219</td>\n",
       "      <td>22969</td>\n",
       "      <td>IDN</td>\n",
       "      <td>Asia</td>\n",
       "      <td>Indonesia</td>\n",
       "      <td>273523621.0</td>\n",
       "      <td>0.694</td>\n",
       "      <td>11188.744</td>\n",
       "      <td>2020-10-07</td>\n",
       "      <td>315714.0</td>\n",
       "      <td>11472.0</td>\n",
       "      <td>4538.0</td>\n",
       "      <td>98.0</td>\n",
       "      <td>4100.857</td>\n",
       "      <td>104.571</td>\n",
       "      <td>1154.248</td>\n",
       "      <td>41.942</td>\n",
       "      <td>16.591</td>\n",
       "      <td>0.358</td>\n",
       "      <td>14.993</td>\n",
       "      <td>0.382</td>\n",
       "      <td>6.32</td>\n",
       "      <td>342.864</td>\n",
       "      <td>29.3</td>\n",
       "      <td>64.204</td>\n",
       "      <td>1.04</td>\n",
       "      <td>71.72</td>\n",
       "      <td>28.7</td>\n",
       "      <td>2177675.0</td>\n",
       "      <td>32167.0</td>\n",
       "      <td>7.962</td>\n",
       "      <td>0.118</td>\n",
       "      <td>26283.0</td>\n",
       "      <td>0.096</td>\n",
       "      <td>6.4</td>\n",
       "      <td>5.7</td>\n",
       "      <td>1</td>\n",
       "      <td>20201007.0</td>\n",
       "    </tr>\n",
       "    <tr>\n",
       "      <td>...</td>\n",
       "      <td>...</td>\n",
       "      <td>...</td>\n",
       "      <td>...</td>\n",
       "      <td>...</td>\n",
       "      <td>...</td>\n",
       "      <td>...</td>\n",
       "      <td>...</td>\n",
       "      <td>...</td>\n",
       "      <td>...</td>\n",
       "      <td>...</td>\n",
       "      <td>...</td>\n",
       "      <td>...</td>\n",
       "      <td>...</td>\n",
       "      <td>...</td>\n",
       "      <td>...</td>\n",
       "      <td>...</td>\n",
       "      <td>...</td>\n",
       "      <td>...</td>\n",
       "      <td>...</td>\n",
       "      <td>...</td>\n",
       "      <td>...</td>\n",
       "      <td>...</td>\n",
       "      <td>...</td>\n",
       "      <td>...</td>\n",
       "      <td>...</td>\n",
       "      <td>...</td>\n",
       "      <td>...</td>\n",
       "      <td>...</td>\n",
       "      <td>...</td>\n",
       "      <td>...</td>\n",
       "      <td>...</td>\n",
       "      <td>...</td>\n",
       "      <td>...</td>\n",
       "      <td>...</td>\n",
       "      <td>...</td>\n",
       "      <td>...</td>\n",
       "      <td>...</td>\n",
       "    </tr>\n",
       "    <tr>\n",
       "      <td>105</td>\n",
       "      <td>22855</td>\n",
       "      <td>IDN</td>\n",
       "      <td>Asia</td>\n",
       "      <td>Indonesia</td>\n",
       "      <td>273523621.0</td>\n",
       "      <td>0.694</td>\n",
       "      <td>11188.744</td>\n",
       "      <td>2020-06-15</td>\n",
       "      <td>39294.0</td>\n",
       "      <td>2198.0</td>\n",
       "      <td>1017.0</td>\n",
       "      <td>64.0</td>\n",
       "      <td>1037.286</td>\n",
       "      <td>45.000</td>\n",
       "      <td>143.659</td>\n",
       "      <td>8.036</td>\n",
       "      <td>3.718</td>\n",
       "      <td>0.234</td>\n",
       "      <td>3.792</td>\n",
       "      <td>0.165</td>\n",
       "      <td>6.32</td>\n",
       "      <td>342.864</td>\n",
       "      <td>29.3</td>\n",
       "      <td>64.204</td>\n",
       "      <td>1.04</td>\n",
       "      <td>71.72</td>\n",
       "      <td>28.7</td>\n",
       "      <td>329190.0</td>\n",
       "      <td>0.0</td>\n",
       "      <td>1.204</td>\n",
       "      <td>0.000</td>\n",
       "      <td>7823.0</td>\n",
       "      <td>0.029</td>\n",
       "      <td>7.5</td>\n",
       "      <td>5.7</td>\n",
       "      <td>1</td>\n",
       "      <td>20200615.0</td>\n",
       "    </tr>\n",
       "    <tr>\n",
       "      <td>99</td>\n",
       "      <td>22849</td>\n",
       "      <td>IDN</td>\n",
       "      <td>Asia</td>\n",
       "      <td>Indonesia</td>\n",
       "      <td>273523621.0</td>\n",
       "      <td>0.694</td>\n",
       "      <td>11188.744</td>\n",
       "      <td>2020-06-09</td>\n",
       "      <td>33076.0</td>\n",
       "      <td>1923.0</td>\n",
       "      <td>1043.0</td>\n",
       "      <td>40.0</td>\n",
       "      <td>789.571</td>\n",
       "      <td>37.143</td>\n",
       "      <td>120.926</td>\n",
       "      <td>7.030</td>\n",
       "      <td>3.813</td>\n",
       "      <td>0.146</td>\n",
       "      <td>2.887</td>\n",
       "      <td>0.136</td>\n",
       "      <td>6.32</td>\n",
       "      <td>342.864</td>\n",
       "      <td>29.3</td>\n",
       "      <td>64.204</td>\n",
       "      <td>1.04</td>\n",
       "      <td>71.72</td>\n",
       "      <td>28.7</td>\n",
       "      <td>281653.0</td>\n",
       "      <td>7223.0</td>\n",
       "      <td>1.030</td>\n",
       "      <td>0.026</td>\n",
       "      <td>6244.0</td>\n",
       "      <td>0.023</td>\n",
       "      <td>7.9</td>\n",
       "      <td>5.7</td>\n",
       "      <td>1</td>\n",
       "      <td>20200609.0</td>\n",
       "    </tr>\n",
       "    <tr>\n",
       "      <td>222</td>\n",
       "      <td>22972</td>\n",
       "      <td>IDN</td>\n",
       "      <td>Asia</td>\n",
       "      <td>Indonesia</td>\n",
       "      <td>273523621.0</td>\n",
       "      <td>0.694</td>\n",
       "      <td>11188.744</td>\n",
       "      <td>2020-10-10</td>\n",
       "      <td>328952.0</td>\n",
       "      <td>11765.0</td>\n",
       "      <td>4294.0</td>\n",
       "      <td>88.0</td>\n",
       "      <td>4206.571</td>\n",
       "      <td>101.429</td>\n",
       "      <td>1202.646</td>\n",
       "      <td>43.013</td>\n",
       "      <td>15.699</td>\n",
       "      <td>0.322</td>\n",
       "      <td>15.379</td>\n",
       "      <td>0.371</td>\n",
       "      <td>6.32</td>\n",
       "      <td>342.864</td>\n",
       "      <td>29.3</td>\n",
       "      <td>64.204</td>\n",
       "      <td>1.04</td>\n",
       "      <td>71.72</td>\n",
       "      <td>28.7</td>\n",
       "      <td>2283369.0</td>\n",
       "      <td>33675.0</td>\n",
       "      <td>8.348</td>\n",
       "      <td>0.123</td>\n",
       "      <td>29952.0</td>\n",
       "      <td>0.110</td>\n",
       "      <td>7.1</td>\n",
       "      <td>5.7</td>\n",
       "      <td>1</td>\n",
       "      <td>20201010.0</td>\n",
       "    </tr>\n",
       "    <tr>\n",
       "      <td>218</td>\n",
       "      <td>22968</td>\n",
       "      <td>IDN</td>\n",
       "      <td>Asia</td>\n",
       "      <td>Indonesia</td>\n",
       "      <td>273523621.0</td>\n",
       "      <td>0.694</td>\n",
       "      <td>11188.744</td>\n",
       "      <td>2020-10-06</td>\n",
       "      <td>311176.0</td>\n",
       "      <td>11374.0</td>\n",
       "      <td>4056.0</td>\n",
       "      <td>121.0</td>\n",
       "      <td>4064.571</td>\n",
       "      <td>110.429</td>\n",
       "      <td>1137.657</td>\n",
       "      <td>41.583</td>\n",
       "      <td>14.829</td>\n",
       "      <td>0.442</td>\n",
       "      <td>14.860</td>\n",
       "      <td>0.404</td>\n",
       "      <td>6.32</td>\n",
       "      <td>342.864</td>\n",
       "      <td>29.3</td>\n",
       "      <td>64.204</td>\n",
       "      <td>1.04</td>\n",
       "      <td>71.72</td>\n",
       "      <td>28.7</td>\n",
       "      <td>2145508.0</td>\n",
       "      <td>26153.0</td>\n",
       "      <td>7.844</td>\n",
       "      <td>0.096</td>\n",
       "      <td>26108.0</td>\n",
       "      <td>0.095</td>\n",
       "      <td>6.4</td>\n",
       "      <td>5.7</td>\n",
       "      <td>1</td>\n",
       "      <td>20201006.0</td>\n",
       "    </tr>\n",
       "    <tr>\n",
       "      <td>31</td>\n",
       "      <td>22781</td>\n",
       "      <td>IDN</td>\n",
       "      <td>Asia</td>\n",
       "      <td>Indonesia</td>\n",
       "      <td>273523621.0</td>\n",
       "      <td>0.694</td>\n",
       "      <td>11188.744</td>\n",
       "      <td>2020-04-02</td>\n",
       "      <td>1790.0</td>\n",
       "      <td>170.0</td>\n",
       "      <td>113.0</td>\n",
       "      <td>13.0</td>\n",
       "      <td>128.143</td>\n",
       "      <td>13.143</td>\n",
       "      <td>6.544</td>\n",
       "      <td>0.622</td>\n",
       "      <td>0.413</td>\n",
       "      <td>0.048</td>\n",
       "      <td>0.468</td>\n",
       "      <td>0.048</td>\n",
       "      <td>6.32</td>\n",
       "      <td>342.864</td>\n",
       "      <td>29.3</td>\n",
       "      <td>64.204</td>\n",
       "      <td>1.04</td>\n",
       "      <td>71.72</td>\n",
       "      <td>28.7</td>\n",
       "      <td>7193.0</td>\n",
       "      <td>416.0</td>\n",
       "      <td>0.026</td>\n",
       "      <td>0.002</td>\n",
       "      <td>464.0</td>\n",
       "      <td>0.002</td>\n",
       "      <td>3.6</td>\n",
       "      <td>5.7</td>\n",
       "      <td>1</td>\n",
       "      <td>20200402.0</td>\n",
       "    </tr>\n",
       "  </tbody>\n",
       "</table>\n",
       "<p>236 rows × 37 columns</p>\n",
       "</div>"
      ],
      "text/plain": [
       "        id iso_code continent   location   population  \\\n",
       "182  22932      IDN      Asia  Indonesia  273523621.0   \n",
       "66   22816      IDN      Asia  Indonesia  273523621.0   \n",
       "49   22799      IDN      Asia  Indonesia  273523621.0   \n",
       "165  22915      IDN      Asia  Indonesia  273523621.0   \n",
       "219  22969      IDN      Asia  Indonesia  273523621.0   \n",
       "..     ...      ...       ...        ...          ...   \n",
       "105  22855      IDN      Asia  Indonesia  273523621.0   \n",
       "99   22849      IDN      Asia  Indonesia  273523621.0   \n",
       "222  22972      IDN      Asia  Indonesia  273523621.0   \n",
       "218  22968      IDN      Asia  Indonesia  273523621.0   \n",
       "31   22781      IDN      Asia  Indonesia  273523621.0   \n",
       "\n",
       "     human_development_index  gdp_per_capita        date  total_cases  \\\n",
       "182                    0.694       11188.744  2020-08-31     174796.0   \n",
       "66                     0.694       11188.744  2020-05-07      12776.0   \n",
       "49                     0.694       11188.744  2020-04-20       6760.0   \n",
       "165                    0.694       11188.744  2020-08-14     135123.0   \n",
       "219                    0.694       11188.744  2020-10-07     315714.0   \n",
       "..                       ...             ...         ...          ...   \n",
       "105                    0.694       11188.744  2020-06-15      39294.0   \n",
       "99                     0.694       11188.744  2020-06-09      33076.0   \n",
       "222                    0.694       11188.744  2020-10-10     328952.0   \n",
       "218                    0.694       11188.744  2020-10-06     311176.0   \n",
       "31                     0.694       11188.744  2020-04-02       1790.0   \n",
       "\n",
       "     total_deaths  new_cases  new_deaths  new_cases_smoothed  \\\n",
       "182        7417.0     2743.0        74.0            2769.143   \n",
       "66          930.0      338.0        35.0             379.714   \n",
       "49          590.0      185.0         8.0             314.714   \n",
       "165        6021.0     2307.0        53.0            1985.286   \n",
       "219       11472.0     4538.0        98.0            4100.857   \n",
       "..            ...        ...         ...                 ...   \n",
       "105        2198.0     1017.0        64.0            1037.286   \n",
       "99         1923.0     1043.0        40.0             789.571   \n",
       "222       11765.0     4294.0        88.0            4206.571   \n",
       "218       11374.0     4056.0       121.0            4064.571   \n",
       "31          170.0      113.0        13.0             128.143   \n",
       "\n",
       "     new_deaths_smoothed  total_cases_per_million  total_deaths_per_million  \\\n",
       "182               94.000                  639.053                    27.116   \n",
       "66                19.714                   46.709                     3.400   \n",
       "49                27.286                   24.715                     2.157   \n",
       "165               61.143                  494.009                    22.013   \n",
       "219              104.571                 1154.248                    41.942   \n",
       "..                   ...                      ...                       ...   \n",
       "105               45.000                  143.659                     8.036   \n",
       "99                37.143                  120.926                     7.030   \n",
       "222              101.429                 1202.646                    43.013   \n",
       "218              110.429                 1137.657                    41.583   \n",
       "31                13.143                    6.544                     0.622   \n",
       "\n",
       "     new_cases_per_million  new_deaths_per_million  \\\n",
       "182                 10.028                   0.271   \n",
       "66                   1.236                   0.128   \n",
       "49                   0.676                   0.029   \n",
       "165                  8.434                   0.194   \n",
       "219                 16.591                   0.358   \n",
       "..                     ...                     ...   \n",
       "105                  3.718                   0.234   \n",
       "99                   3.813                   0.146   \n",
       "222                 15.699                   0.322   \n",
       "218                 14.829                   0.442   \n",
       "31                   0.413                   0.048   \n",
       "\n",
       "     new_cases_smoothed_per_million  new_deaths_smoothed_per_million  \\\n",
       "182                          10.124                            0.344   \n",
       "66                            1.388                            0.072   \n",
       "49                            1.151                            0.100   \n",
       "165                           7.258                            0.224   \n",
       "219                          14.993                            0.382   \n",
       "..                              ...                              ...   \n",
       "105                           3.792                            0.165   \n",
       "99                            2.887                            0.136   \n",
       "222                          15.379                            0.371   \n",
       "218                          14.860                            0.404   \n",
       "31                            0.468                            0.048   \n",
       "\n",
       "     diabetes_prevalence  cardiovasc_death_rate  median_age  \\\n",
       "182                 6.32                342.864        29.3   \n",
       "66                  6.32                342.864        29.3   \n",
       "49                  6.32                342.864        29.3   \n",
       "165                 6.32                342.864        29.3   \n",
       "219                 6.32                342.864        29.3   \n",
       "..                   ...                    ...         ...   \n",
       "105                 6.32                342.864        29.3   \n",
       "99                  6.32                342.864        29.3   \n",
       "222                 6.32                342.864        29.3   \n",
       "218                 6.32                342.864        29.3   \n",
       "31                  6.32                342.864        29.3   \n",
       "\n",
       "     handwashing_facilities  hospital_beds_per_thousand  life_expectancy  \\\n",
       "182                  64.204                        1.04            71.72   \n",
       "66                   64.204                        1.04            71.72   \n",
       "49                   64.204                        1.04            71.72   \n",
       "165                  64.204                        1.04            71.72   \n",
       "219                  64.204                        1.04            71.72   \n",
       "..                      ...                         ...              ...   \n",
       "105                  64.204                        1.04            71.72   \n",
       "99                   64.204                        1.04            71.72   \n",
       "222                  64.204                        1.04            71.72   \n",
       "218                  64.204                        1.04            71.72   \n",
       "31                   64.204                        1.04            71.72   \n",
       "\n",
       "     stringency_index  total_tests  new_tests  total_tests_per_thousand  \\\n",
       "182              28.7    1282618.0    11317.0                     4.689   \n",
       "66               28.7      96717.0     3741.0                     0.354   \n",
       "49               28.7      43749.0     1530.0                     0.160   \n",
       "165              28.7    1039682.0    12728.0                     3.801   \n",
       "219              28.7    2177675.0    32167.0                     7.962   \n",
       "..                ...          ...        ...                       ...   \n",
       "105              28.7     329190.0        0.0                     1.204   \n",
       "99               28.7     281653.0     7223.0                     1.030   \n",
       "222              28.7    2283369.0    33675.0                     8.348   \n",
       "218              28.7    2145508.0    26153.0                     7.844   \n",
       "31               28.7       7193.0      416.0                     0.026   \n",
       "\n",
       "     new_tests_per_thousand  new_tests_smoothed  \\\n",
       "182                   0.041             15230.0   \n",
       "66                    0.014              3481.0   \n",
       "49                    0.006              2337.0   \n",
       "165                   0.047             12539.0   \n",
       "219                   0.118             26283.0   \n",
       "..                      ...                 ...   \n",
       "105                   0.000              7823.0   \n",
       "99                    0.026              6244.0   \n",
       "222                   0.123             29952.0   \n",
       "218                   0.096             26108.0   \n",
       "31                    0.002               464.0   \n",
       "\n",
       "     new_tests_smoothed_per_thousand  tests_per_case  extreme_poverty  \\\n",
       "182                            0.056             5.5              5.7   \n",
       "66                             0.013             9.2              5.7   \n",
       "49                             0.009             7.4              5.7   \n",
       "165                            0.046             6.3              5.7   \n",
       "219                            0.096             6.4              5.7   \n",
       "..                               ...             ...              ...   \n",
       "105                            0.029             7.5              5.7   \n",
       "99                             0.023             7.9              5.7   \n",
       "222                            0.110             7.1              5.7   \n",
       "218                            0.095             6.4              5.7   \n",
       "31                             0.002             3.6              5.7   \n",
       "\n",
       "     train_data  date_to_integer  \n",
       "182           1       20200831.0  \n",
       "66            1       20200507.0  \n",
       "49            1       20200420.0  \n",
       "165           1       20200814.0  \n",
       "219           1       20201007.0  \n",
       "..          ...              ...  \n",
       "105           1       20200615.0  \n",
       "99            1       20200609.0  \n",
       "222           1       20201010.0  \n",
       "218           1       20201006.0  \n",
       "31            1       20200402.0  \n",
       "\n",
       "[236 rows x 37 columns]"
      ]
     },
     "execution_count": 230,
     "metadata": {},
     "output_type": "execute_result"
    }
   ],
   "source": [
    "train"
   ]
  },
  {
   "cell_type": "markdown",
   "metadata": {
    "cell_id": "00046-1bac5523-a054-4f7c-9498-c1df7fc89212",
    "deepnote_cell_type": "markdown"
   },
   "source": [
    "## Model Building"
   ]
  },
  {
   "cell_type": "code",
   "execution_count": 26,
   "metadata": {
    "cell_id": "00047-d0b2cb3e-63ec-4f6f-b741-ffbc9f4e03a3",
    "deepnote_cell_type": "code",
    "execution_millis": 23,
    "execution_start": 1606190103877,
    "output_cleared": false,
    "source_hash": "ad8c239"
   },
   "outputs": [],
   "source": [
    "from sklearn.model_selection import cross_val_score\n",
    "from sklearn.metrics import explained_variance_score\n",
    "from sklearn.metrics import mean_squared_error\n",
    "\n",
    "from sklearn.linear_model import Ridge\n",
    "from sklearn.ensemble import GradientBoostingRegressor\n",
    "from sklearn.linear_model import LinearRegression\n",
    "from sklearn.linear_model import Lasso"
   ]
  },
  {
   "cell_type": "code",
   "execution_count": 150,
   "metadata": {
    "cell_id": "00050-f30e57fb-bd75-4243-abea-158408322131",
    "deepnote_cell_type": "code",
    "execution_millis": 1033,
    "execution_start": 1606185416390,
    "output_cleared": false,
    "source_hash": "e59b4461"
   },
   "outputs": [
    {
     "name": "stdout",
     "output_type": "stream",
     "text": [
      "Variance Score: 0.773780538893718\n",
      "Mean Squared Error Score: 1519223.3220338982\n"
     ]
    }
   ],
   "source": [
    "linear = LinearRegression()\n",
    "\n",
    "linear.fit(X_train_Indonesia,Y_train_Indonesia)\n",
    "y_pred_linear = linear.predict(X_test_Indonesia)\n",
    "\n",
    "print(\"Variance Score:\",explained_variance_score(Y_test_Indonesia, y_pred_linear, multioutput='uniform_average'))\n",
    "print(\"Mean Squared Error Score:\",mean_squared_error(Y_test_Indonesia, y_pred_linear))"
   ]
  },
  {
   "cell_type": "code",
   "execution_count": 151,
   "metadata": {
    "cell_id": "00051-fa2f0946-c552-4f7e-b199-1158e1c3f80e",
    "deepnote_cell_type": "code",
    "execution_millis": 120884,
    "execution_start": 1606185420426,
    "output_cleared": false,
    "source_hash": "d64e422c"
   },
   "outputs": [
    {
     "name": "stdout",
     "output_type": "stream",
     "text": [
      "Variance Score: -0.24539331454808377\n",
      "Mean Squared Error Score: 17340238.549758904\n"
     ]
    }
   ],
   "source": [
    "gradient = GradientBoostingRegressor(n_estimators = 400, max_depth = 5, min_samples_split = 2,\n",
    "          learning_rate = 0.1, loss = 'ls')\n",
    "\n",
    "gradient.fit(X_train_Indonesia,Y_train_Indonesia)\n",
    "y_pred_gradient = gradient.predict(X_test_Indonesia)\n",
    "\n",
    "print(\"Variance Score:\",explained_variance_score(Y_test_Indonesia, y_pred_gradient, multioutput='uniform_average'))\n",
    "print(\"Mean Squared Error Score:\",mean_squared_error(Y_test_Indonesia, y_pred_gradient))"
   ]
  },
  {
   "cell_type": "code",
   "execution_count": 152,
   "metadata": {
    "cell_id": "00052-4b2d5d6c-063f-47c9-8157-f4420fe4efc9",
    "deepnote_cell_type": "code",
    "execution_millis": 0,
    "execution_start": 1606190151674,
    "output_cleared": false,
    "scrolled": true,
    "source_hash": "c8cb8c0d"
   },
   "outputs": [
    {
     "name": "stdout",
     "output_type": "stream",
     "text": [
      "Variance Score: 0.796135768275398\n",
      "Mean Squared Error Score: 1750438.828369588\n"
     ]
    }
   ],
   "source": [
    "ridge = Ridge()\n",
    "\n",
    "ridge.fit(X_train_Indonesia,Y_train_Indonesia)\n",
    "y_pred_ridge = ridge.predict(X_test_Indonesia)\n",
    "\n",
    "print(\"Variance Score:\",explained_variance_score(Y_test_Indonesia, y_pred_ridge, multioutput='uniform_average'))\n",
    "print(\"Mean Squared Error Score:\",mean_squared_error(Y_test_Indonesia, y_pred_ridge))"
   ]
  },
  {
   "cell_type": "code",
   "execution_count": 153,
   "metadata": {},
   "outputs": [
    {
     "name": "stdout",
     "output_type": "stream",
     "text": [
      "Variance Score: 0.7961319718396231\n",
      "Mean Squared Error Score: 1750439.2192206348\n"
     ]
    }
   ],
   "source": [
    "lasso = Lasso()\n",
    "\n",
    "lasso.fit(X_train_Indonesia,Y_train_Indonesia)\n",
    "y_pred_lasso = lasso.predict(X_test_Indonesia)\n",
    "\n",
    "print(\"Variance Score:\",explained_variance_score(Y_test_Indonesia, y_pred_lasso, multioutput='uniform_average'))\n",
    "print(\"Mean Squared Error Score:\",mean_squared_error(Y_test_Indonesia, y_pred_lasso))"
   ]
  },
  {
   "cell_type": "markdown",
   "metadata": {},
   "source": [
    "## Model Evaluation (Without Tuning)\n",
    "\n",
    "### Linear Regression\n",
    "Variance Score:  0.773780538893718\n",
    "\n",
    "Mean Squared Error Score: 1519223.3220338982\n",
    "\n",
    "### Gradient Boosting Regression\n",
    "Variance Score: -0.18508654333350827\n",
    "\n",
    "Mean Squared Error Score: 18376429.36144361\n",
    "\n",
    "### Ridge Regression\n",
    "Variance Score: 0.796135768275398\n",
    "\n",
    "Mean Squared Error Score: 1750438.828369588\n",
    "\n",
    "### Lasso Regression\n",
    "Variance Score: 0.7961319718396231\n",
    "\n",
    "Mean Squared Error Score: 1750439.2192206348"
   ]
  },
  {
   "cell_type": "markdown",
   "metadata": {},
   "source": [
    "## Model Saving (Without Tuning)"
   ]
  },
  {
   "cell_type": "code",
   "execution_count": 154,
   "metadata": {},
   "outputs": [],
   "source": [
    "pickle.dump(linear, open('models/linear_model', 'wb'))\n",
    "pickle.dump(gradient, open('models/gradient_model', 'wb'))\n",
    "pickle.dump(ridge, open('models/ridge_model', 'wb'))\n",
    "pickle.dump(lasso, open('models/lasso_model', 'wb'))"
   ]
  },
  {
   "cell_type": "markdown",
   "metadata": {},
   "source": [
    "## Model Loading (Without Tuning)"
   ]
  },
  {
   "cell_type": "code",
   "execution_count": 28,
   "metadata": {},
   "outputs": [],
   "source": [
    "linear = pickle.load(open('models/linear_model', 'rb'))\n",
    "gradient = pickle.load(open('models/gradient_model', 'rb'))\n",
    "ridge = pickle.load(open('models/ridge_model', 'rb'))\n",
    "lasso = pickle.load(open('models/lasso_model', 'rb'))"
   ]
  },
  {
   "cell_type": "markdown",
   "metadata": {},
   "source": [
    "\n",
    "\n",
    "## Model Tuning & Evaluation"
   ]
  },
  {
   "cell_type": "code",
   "execution_count": 124,
   "metadata": {
    "cell_id": "00057-2914d1c0-8641-44e1-ace4-41e392d37b16",
    "deepnote_cell_type": "code",
    "execution_millis": 1,
    "execution_start": 1606144345633,
    "output_cleared": false,
    "source_hash": "53cdea25"
   },
   "outputs": [],
   "source": [
    "from sklearn.model_selection import GridSearchCV \n",
    "from sklearn.model_selection import RandomizedSearchCV "
   ]
  },
  {
   "cell_type": "code",
   "execution_count": 125,
   "metadata": {
    "cell_id": "00058-d381137c-6706-46fa-9896-90b28d1bdd18",
    "deepnote_cell_type": "code",
    "execution_millis": 0,
    "execution_start": 1606144356637,
    "output_cleared": false,
    "source_hash": "bcb7ccba"
   },
   "outputs": [],
   "source": [
    "def clf_performance(classifier, model_name):\n",
    "    print(model_name)\n",
    "    print('Best Parameters: ' + str(classifier.best_params_))"
   ]
  },
  {
   "cell_type": "code",
   "execution_count": 126,
   "metadata": {
    "cell_id": "00060-fcbca0a4-2caf-4501-9551-99d2b2907e5e",
    "deepnote_cell_type": "code",
    "execution_millis": 945,
    "execution_start": 1606144369895,
    "output_cleared": false,
    "source_hash": "adf9c54c"
   },
   "outputs": [
    {
     "name": "stdout",
     "output_type": "stream",
     "text": [
      "Fitting 3 folds for each of 8 candidates, totalling 24 fits\n"
     ]
    },
    {
     "name": "stderr",
     "output_type": "stream",
     "text": [
      "/opt/anaconda3/lib/python3.7/site-packages/sklearn/model_selection/_split.py:1978: FutureWarning: The default value of cv will change from 3 to 5 in version 0.22. Specify it explicitly to silence this warning.\n",
      "  warnings.warn(CV_WARNING, FutureWarning)\n",
      "[Parallel(n_jobs=-1)]: Using backend LokyBackend with 12 concurrent workers.\n"
     ]
    },
    {
     "name": "stdout",
     "output_type": "stream",
     "text": [
      "Linear Regression\n",
      "Best Parameters: {'copy_X': True, 'fit_intercept': False, 'normalize': True}\n"
     ]
    },
    {
     "name": "stderr",
     "output_type": "stream",
     "text": [
      "[Parallel(n_jobs=-1)]: Done  24 out of  24 | elapsed:    3.1s finished\n",
      "/opt/anaconda3/lib/python3.7/site-packages/sklearn/model_selection/_search.py:814: DeprecationWarning: The default of the `iid` parameter will change from True to False in version 0.22 and will be removed in 0.24. This will change numeric results when test-set sizes are unequal.\n",
      "  DeprecationWarning)\n"
     ]
    }
   ],
   "source": [
    "linear = LinearRegression()\n",
    "param_grid = {'fit_intercept':[True,False],\n",
    "              'normalize':[True,False],\n",
    "              'copy_X':[True,False],\n",
    "}\n",
    "clf_linear = GridSearchCV(linear, param_grid = param_grid , verbose = True , n_jobs = -1)\n",
    "best_clf_linear = clf_linear.fit(X_train_Indonesia,Y_train_Indonesia)\n",
    "clf_performance(best_clf_linear,'Linear Regression')"
   ]
  },
  {
   "cell_type": "code",
   "execution_count": null,
   "metadata": {
    "cell_id": "00061-3ac530be-bb91-42df-973b-7a8b5e1eb3f5",
    "deepnote_cell_type": "code",
    "execution_millis": 914559,
    "execution_start": 1606144917754,
    "output_cleared": false,
    "source_hash": "1becc1af"
   },
   "outputs": [],
   "source": [
    "gbr = GradientBoostingRegressor()\n",
    "param_grid = {'n_estimators' : [350,400,450,500],\n",
    "              'max_depth':[5,10,15,20],\n",
    "              'min_samples_split' :[2,5,7,10],\n",
    "              'learning_rate' : [0.1,0.5,1,2],\n",
    "              'loss' : ['ls','lad','huber','quantile']\n",
    "}\n",
    "clf_gbr = GridSearchCV(gbr, param_grid = param_grid, verbose = True , n_jobs = -1)\n",
    "best_clf_gbr  = clf_gbr.fit(X_train_Indonesia,Y_train_Indonesia)\n",
    "clf_performance(best_clf_gbr,'Gradient Boost Regression')"
   ]
  },
  {
   "cell_type": "code",
   "execution_count": 127,
   "metadata": {
    "cell_id": "00062-c5b3d3ea-9be0-4b7a-8b44-b65c9c7fc003",
    "deepnote_cell_type": "code",
    "execution_millis": 11965,
    "execution_start": 1606146004729,
    "output_cleared": false,
    "source_hash": "6c288d8a"
   },
   "outputs": [
    {
     "name": "stderr",
     "output_type": "stream",
     "text": [
      "/opt/anaconda3/lib/python3.7/site-packages/sklearn/model_selection/_split.py:1978: FutureWarning: The default value of cv will change from 3 to 5 in version 0.22. Specify it explicitly to silence this warning.\n",
      "  warnings.warn(CV_WARNING, FutureWarning)\n",
      "[Parallel(n_jobs=-1)]: Using backend LokyBackend with 12 concurrent workers.\n"
     ]
    },
    {
     "name": "stdout",
     "output_type": "stream",
     "text": [
      "Fitting 3 folds for each of 48 candidates, totalling 144 fits\n",
      "Ridge Regression\n",
      "Best Parameters: {'alpha': 0.1, 'copy_X': True, 'fit_intercept': True, 'max_iter': 2000, 'normalize': False, 'solver': 'auto'}\n"
     ]
    },
    {
     "name": "stderr",
     "output_type": "stream",
     "text": [
      "[Parallel(n_jobs=-1)]: Done 144 out of 144 | elapsed:    0.3s finished\n",
      "/opt/anaconda3/lib/python3.7/site-packages/sklearn/model_selection/_search.py:814: DeprecationWarning: The default of the `iid` parameter will change from True to False in version 0.22 and will be removed in 0.24. This will change numeric results when test-set sizes are unequal.\n",
      "  DeprecationWarning)\n"
     ]
    }
   ],
   "source": [
    "ridge = Ridge()\n",
    "param_grid = {'alpha' : [0.1,0,2,0.5,1,2],\n",
    "              'fit_intercept':[True,False],\n",
    "              'normalize' :[True,False],\n",
    "              'copy_X' : [True,False],\n",
    "              'max_iter' : [2000],\n",
    "              'solver':['auto']\n",
    "}\n",
    "clf_ridge = GridSearchCV(ridge, param_grid = param_grid, verbose = True ,n_jobs= -1)\n",
    "best_clf_ridge  = clf_ridge.fit(X_train_Indonesia,Y_train_Indonesia)\n",
    "clf_performance(best_clf_ridge,'Ridge Regression')"
   ]
  },
  {
   "cell_type": "code",
   "execution_count": 128,
   "metadata": {},
   "outputs": [
    {
     "name": "stderr",
     "output_type": "stream",
     "text": [
      "/opt/anaconda3/lib/python3.7/site-packages/sklearn/model_selection/_split.py:1978: FutureWarning: The default value of cv will change from 3 to 5 in version 0.22. Specify it explicitly to silence this warning.\n",
      "  warnings.warn(CV_WARNING, FutureWarning)\n",
      "[Parallel(n_jobs=-1)]: Using backend LokyBackend with 12 concurrent workers.\n"
     ]
    },
    {
     "name": "stdout",
     "output_type": "stream",
     "text": [
      "Fitting 3 folds for each of 2304 candidates, totalling 6912 fits\n"
     ]
    },
    {
     "name": "stderr",
     "output_type": "stream",
     "text": [
      "[Parallel(n_jobs=-1)]: Done  76 tasks      | elapsed:    0.4s\n",
      "[Parallel(n_jobs=-1)]: Done 3976 tasks      | elapsed:    4.2s\n"
     ]
    },
    {
     "name": "stdout",
     "output_type": "stream",
     "text": [
      "Lasso Regression\n",
      "Best Parameters: {'alpha': 0.1, 'copy_X': True, 'fit_intercept': False, 'max_iter': 2000, 'normalize': True, 'positive': False, 'selection': 'random', 'tol': 0.01, 'warm_start': True}\n"
     ]
    },
    {
     "name": "stderr",
     "output_type": "stream",
     "text": [
      "[Parallel(n_jobs=-1)]: Done 6912 out of 6912 | elapsed:    6.7s finished\n",
      "/opt/anaconda3/lib/python3.7/site-packages/sklearn/model_selection/_search.py:814: DeprecationWarning: The default of the `iid` parameter will change from True to False in version 0.22 and will be removed in 0.24. This will change numeric results when test-set sizes are unequal.\n",
      "  DeprecationWarning)\n"
     ]
    }
   ],
   "source": [
    "lasso = Lasso()\n",
    "param_grid = {'alpha' : [0.1,0,2,0.5,1,2],\n",
    "              'fit_intercept':[True,False],\n",
    "              'normalize' :[True,False],\n",
    "              'copy_X' : [True,False],\n",
    "              'max_iter' : [2000],\n",
    "              'tol':[0.00001,0.0001,0.001,0.01,0.1,1],\n",
    "              'warm_start':[True,False],\n",
    "              'positive':[True,False],\n",
    "              'selection':['cyclic','random'],\n",
    "}\n",
    "clf_ridge = GridSearchCV(lasso, param_grid = param_grid, verbose = True ,n_jobs= -1)\n",
    "best_clf_lasso  = clf_ridge.fit(X_train_Indonesia,Y_train_Indonesia)\n",
    "clf_performance(best_clf_lasso,'Lasso Regression')"
   ]
  },
  {
   "cell_type": "code",
   "execution_count": 129,
   "metadata": {
    "cell_id": "00066-9412ff1c-b069-46c3-be3a-276765081f68",
    "deepnote_cell_type": "code",
    "execution_millis": 11,
    "execution_start": 1606126435639,
    "output_cleared": false,
    "source_hash": "99706a18"
   },
   "outputs": [],
   "source": [
    "# Tuned Models\n",
    "tuned_linear = best_clf_linear.best_estimator_\n",
    "tuned_gradient = best_clf_gbr.best_estimator_\n",
    "tuned_ridge = best_clf_ridge.best_estimator_\n",
    "tuned_lasso = best_clf_lasso.best_estimator_"
   ]
  },
  {
   "cell_type": "code",
   "execution_count": 130,
   "metadata": {},
   "outputs": [
    {
     "name": "stdout",
     "output_type": "stream",
     "text": [
      "Variance Score: 0.7961359169480435\n",
      "Mean Squared Error Score: 1750439.1052824352\n",
      "Variance Score: 0.7961359020840935\n",
      "Mean Squared Error Score: 1750439.0775071552\n",
      "Variance Score: 0.8803867632903289\n",
      "Mean Squared Error Score: 470601.2615777795\n"
     ]
    }
   ],
   "source": [
    "y_pred_tuned_linear = tuned_linear.predict(X_test_Indonesia)\n",
    "print(\"Variance Score:\",explained_variance_score(Y_test_Indonesia, y_pred_tuned_linear, multioutput='uniform_average'))\n",
    "print(\"Mean Squared Error Score:\",mean_squared_error(Y_test_Indonesia, y_pred_tuned_linear))\n",
    "\n",
    "y_pred_tuned_gradient = tuned_gradient.predict(X_test_Indonesia)\n",
    "print(\"Variance Score:\",explained_variance_score(Y_test_Indonesia, y_pred_tuned_gradient, multioutput='uniform_average'))\n",
    "print(\"Mean Squared Error Score:\",mean_squared_error(Y_test_Indonesia, y_pred_tuned_gradient))\n",
    "\n",
    "y_pred_tuned_ridge = tuned_ridge.predict(X_test_Indonesia)\n",
    "print(\"Variance Score:\",explained_variance_score(Y_test_Indonesia, y_pred_tuned_ridge, multioutput='uniform_average'))\n",
    "print(\"Mean Squared Error Score:\",mean_squared_error(Y_test_Indonesia, y_pred_tuned_ridge))\n",
    "\n",
    "y_pred_tuned_lasso = tuned_lasso.predict(X_test_Indonesia)\n",
    "print(\"Variance Score:\",explained_variance_score(Y_test_Indonesia, y_pred_tuned_lasso, multioutput='uniform_average'))\n",
    "print(\"Mean Squared Error Score:\",mean_squared_error(Y_test_Indonesia, y_pred_tuned_lasso))"
   ]
  },
  {
   "cell_type": "markdown",
   "metadata": {},
   "source": [
    "## Model Evaluation ( Tuning)\n",
    "\n",
    "### Linear Regression\n",
    "Variance Score:  0.7961359169480435\n",
    "\n",
    "Mean Squared Error Score: 1750439.1052824352\n",
    "\n",
    "### Gradient Boosting Regression\n",
    "Variance Score: -0.1045930748798769\n",
    "\n",
    "Mean Squared Error Score: 17939904.478078306\n",
    "\n",
    "### Ridge Regression\n",
    "Variance Score: 0.7961359020840935\n",
    "\n",
    "Mean Squared Error Score: 1750439.0775071552\n",
    "\n",
    "### Lasso Regression\n",
    "Variance Score: 0.88428046108379\n",
    "\n",
    "Mean Squared Error Score: 1189546.9617549654"
   ]
  },
  {
   "cell_type": "markdown",
   "metadata": {
    "cell_id": "00071-98eabe29-ac15-44d3-bb4c-a61815ee72ea",
    "deepnote_cell_type": "markdown"
   },
   "source": [
    "## Model Fitting & Saving"
   ]
  },
  {
   "cell_type": "code",
   "execution_count": 131,
   "metadata": {
    "cell_id": "00072-972eb3d5-55cc-4699-8cb8-6a73ff74f14c",
    "deepnote_cell_type": "code"
   },
   "outputs": [],
   "source": [
    "tuned_linear.fit(X_train_Indonesia,Y_train_Indonesia)\n",
    "tuned_gradient.fit(X_train_Indonesia,Y_train_Indonesia)\n",
    "tuned_ridge.fit(X_train_Indonesia,Y_train_Indonesia)\n",
    "tuned_lasso.fit(X_train_Indonesia,Y_train_Indonesia)\n",
    "\n",
    "pickle.dump(tuned_linear, open('models/tuned_linear_model', 'wb'))\n",
    "pickle.dump(tuned_gradient, open('models/tuned_gradient_model', 'wb'))\n",
    "pickle.dump(tuned_ridge, open('models/tuned_ridge_model', 'wb'))\n",
    "pickle.dump(tuned_lasso, open('models/tuned_lasso_model', 'wb'))"
   ]
  },
  {
   "cell_type": "markdown",
   "metadata": {
    "cell_id": "00073-582e0abd-d2d9-41fb-97fc-829bffe8300e",
    "deepnote_cell_type": "markdown"
   },
   "source": [
    "## Model Loading & Predictions"
   ]
  },
  {
   "cell_type": "code",
   "execution_count": 29,
   "metadata": {
    "cell_id": "00074-1faf1bc1-0774-4198-8346-849da6ccb2cf",
    "deepnote_cell_type": "code"
   },
   "outputs": [],
   "source": [
    "tuned_linear = pickle.load(open('models/tuned_linear_model', 'rb'))\n",
    "tuned_gradient = pickle.load(open('models/tuned_gradient_model', 'rb'))\n",
    "tuned_ridge = pickle.load(open('models/tuned_ridge_model', 'rb'))\n",
    "tuned_lasso = pickle.load(open('models/tuned_lasso_model', 'rb'))"
   ]
  },
  {
   "cell_type": "code",
   "execution_count": 50,
   "metadata": {
    "cell_id": "00075-e6e0219f-3182-4e8f-94c2-c8cc12b6debb",
    "deepnote_cell_type": "code"
   },
   "outputs": [],
   "source": [
    "linear_prediction = linear.predict(X_test_Indonesia).astype(int)\n",
    "gradient_prediction = gradient.predict(X_test_Indonesia).astype(int)\n",
    "lasso_prediction = lasso.predict(X_test_Indonesia).astype(int)\n",
    "ridge_prediction = ridge.predict(X_test_Indonesia).astype(int)\n",
    "\n",
    "tuned_linear_prediction = tuned_linear.predict(X_test_Indonesia).astype(int)\n",
    "tuned_gradient_prediction = tuned_gradient.predict(X_test_Indonesia).astype(int)\n",
    "tuned_lasso_prediction = tuned_lasso.predict(X_test_Indonesia).astype(int)\n",
    "tuned_ridge_prediction = tuned_ridge.predict(X_test_Indonesia).astype(int)"
   ]
  },
  {
   "cell_type": "code",
   "execution_count": 51,
   "metadata": {
    "cell_id": "00076-fa041b80-589f-4aee-99eb-97189ab2ae4e",
    "deepnote_cell_type": "code"
   },
   "outputs": [],
   "source": [
    "result_comparison = {'ID':testing[testing[\"location\"]==\"Indonesia\"]['id'],'tuned_linear':tuned_linear_prediction,'tuned_gradient':tuned_gradient_prediction,'tuned_lasso':tuned_lasso_prediction,'tuned_ridge':tuned_ridge_prediction,'linear':linear_prediction,'gradient':gradient_prediction,'lasso':lasso_prediction,'ridge':ridge_prediction,'Actual':Y_test_Indonesia}\n",
    "# result_comparison = {'ID':testing[testing[\"location\"]==\"Indonesia\"]['id'],'tuned_linear':tuned_linear_prediction,'tuned_lasso':tuned_lasso_prediction,'tuned_ridge':tuned_ridge_prediction,'linear':linear_prediction,'lasso':lasso_prediction,'ridge':ridge_prediction,'Actual':Y_test_Indonesia}\n",
    "result_comparison = pd.DataFrame(data=result_comparison)"
   ]
  },
  {
   "cell_type": "code",
   "execution_count": 52,
   "metadata": {
    "cell_id": "00078-9882d81d-e9a3-44e6-8302-799117afd3ee",
    "deepnote_cell_type": "code"
   },
   "outputs": [
    {
     "name": "stdout",
     "output_type": "stream",
     "text": [
      "MSE value difference between Linear Regression and Gradient Boosting Regression : 15823708.305084744\n",
      "MSE value difference between Gradient Boosting Regression and Ridge Regression : 15593396.576271186\n",
      "MSE value difference between Ridge Regression and Lasso Regression : 0.0\n",
      "MSE value difference between Lasso Regression and Linear Regression : 230311.72881355952\n",
      "MSE value difference between Linear Regression and Tuned Linear Regression : 230311.72881355952\n",
      "MSE value difference between Gradient Boosting Regression and Tuned Gradient Boosting Regression : 600287.2711864412\n",
      "MSE value difference between Ridge Regression and Tuned Ridge Regression : 1262605.2881355933\n",
      "MSE value difference between Lasso Regression and Tuned Lasso Regression : 0.0\n"
     ]
    }
   ],
   "source": [
    "mse_linear = mean_squared_error(Y_test_Indonesia, linear_prediction)\n",
    "mse_gradient = mean_squared_error(Y_test_Indonesia, gradient_prediction)\n",
    "mse_ridge = mean_squared_error(Y_test_Indonesia, lasso_prediction)\n",
    "mse_lasso = mean_squared_error(Y_test_Indonesia, ridge_prediction)\n",
    "\n",
    "mse_tuned_linear = mean_squared_error(Y_test_Indonesia, tuned_linear_prediction)\n",
    "mse_tuned_gradient = mean_squared_error(Y_test_Indonesia, tuned_gradient_prediction)\n",
    "mse_tuned_ridge = mean_squared_error(Y_test_Indonesia, tuned_lasso_prediction)\n",
    "mse_tuned_lasso = mean_squared_error(Y_test_Indonesia, tuned_ridge_prediction)\n",
    "\n",
    "print('MSE value difference between Linear Regression and Gradient Boosting Regression :', abs(mse_linear-mse_gradient))\n",
    "print('MSE value difference between Gradient Boosting Regression and Ridge Regression :', abs(mse_gradient-mse_ridge))\n",
    "print('MSE value difference between Ridge Regression and Lasso Regression :', abs(mse_ridge-mse_lasso))\n",
    "print('MSE value difference between Lasso Regression and Linear Regression :', abs(mse_lasso-mse_linear))\n",
    "\n",
    "print('MSE value difference between Linear Regression and Tuned Linear Regression :', abs(mse_linear-mse_tuned_linear))\n",
    "print('MSE value difference between Gradient Boosting Regression and Tuned Gradient Boosting Regression :', abs(mse_gradient-mse_tuned_gradient))\n",
    "print('MSE value difference between Ridge Regression and Tuned Ridge Regression :', abs(mse_ridge-mse_tuned_ridge))\n",
    "print('MSE value difference between Lasso Regression and Tuned Lasso Regression :', abs(mse_lasso-mse_tuned_lasso))"
   ]
  },
  {
   "cell_type": "markdown",
   "metadata": {},
   "source": [
    "## Indonesia's Evaluation & Visualization"
   ]
  },
  {
   "cell_type": "code",
   "execution_count": 53,
   "metadata": {},
   "outputs": [
    {
     "data": {
      "text/plain": [
       "Index(['date_to_integer', 'population', 'human_development_index',\n",
       "       'gdp_per_capita', 'total_cases', 'new_cases_smoothed',\n",
       "       'diabetes_prevalence', 'cardiovasc_death_rate', 'median_age',\n",
       "       'handwashing_facilities',\n",
       "       ...\n",
       "       'location_Uruguay', 'location_Uzbekistan', 'location_Vanuatu',\n",
       "       'location_Vatican', 'location_Venezuela', 'location_Vietnam',\n",
       "       'location_World', 'location_Yemen', 'location_Zambia',\n",
       "       'location_Zimbabwe'],\n",
       "      dtype='object', length=207)"
      ]
     },
     "execution_count": 53,
     "metadata": {},
     "output_type": "execute_result"
    }
   ],
   "source": [
    "X_train_Indonesia.columns"
   ]
  },
  {
   "cell_type": "code",
   "execution_count": 54,
   "metadata": {},
   "outputs": [],
   "source": [
    "X_train_Indonesia['date'] = pd.to_datetime(X_train_Indonesia['date_to_integer'], format='%Y%m%d')"
   ]
  },
  {
   "cell_type": "code",
   "execution_count": 55,
   "metadata": {},
   "outputs": [
    {
     "data": {
      "text/plain": [
       "Text(0.5, 1.0, 'Total Death in Indonesia')"
      ]
     },
     "execution_count": 55,
     "metadata": {},
     "output_type": "execute_result"
    },
    {
     "data": {
      "image/png": "[encoded data removed]",
      "text/plain": [
       "<Figure size 432x288 with 1 Axes>"
      ]
     },
     "metadata": {
      "needs_background": "light"
     },
     "output_type": "display_data"
    }
   ],
   "source": [
    "plt.plot(X_train_Indonesia['date'],Y_train_Indonesia)\n",
    "plt.xlabel(\"Date\")\n",
    "plt.ylabel(\"Total Death\")\n",
    "plt.title(\"Total Death in Indonesia\")"
   ]
  },
  {
   "cell_type": "code",
   "execution_count": 56,
   "metadata": {},
   "outputs": [],
   "source": [
    "X_train_Indonesia = X_train_Indonesia.drop(columns='date')"
   ]
  },
  {
   "cell_type": "code",
   "execution_count": 39,
   "metadata": {},
   "outputs": [
    {
     "name": "stderr",
     "output_type": "stream",
     "text": [
      "/opt/anaconda3/lib/python3.7/site-packages/pandas/core/indexing.py:205: SettingWithCopyWarning: \n",
      "A value is trying to be set on a copy of a slice from a DataFrame\n",
      "\n",
      "See the caveats in the documentation: http://pandas.pydata.org/pandas-docs/stable/user_guide/indexing.html#returning-a-view-versus-a-copy\n",
      "  self._setitem_with_indexer(indexer, value)\n"
     ]
    }
   ],
   "source": [
    "for i in range(len(result_comparison[\"Actual\"])) :\n",
    "    if result_comparison[\"linear\"].iloc[i] < result_comparison[\"linear\"].iloc[i-1] and i>0 :\n",
    "        result_comparison[\"linear\"].iloc[i] =result_comparison[\"linear\"].iloc[i-1]\n",
    "    if result_comparison[\"gradient\"].iloc[i] < result_comparison[\"gradient\"].iloc[i-1] and i>0 :\n",
    "        result_comparison[\"gradient\"].iloc[i] =result_comparison[\"gradient\"].iloc[i-1]\n",
    "    if result_comparison[\"ridge\"].iloc[i] < result_comparison[\"ridge\"].iloc[i-1] and i>0 :\n",
    "        result_comparison[\"ridge\"].iloc[i] =result_comparison[\"ridge\"].iloc[i-1]\n",
    "    if result_comparison[\"lasso\"].iloc[i] < result_comparison[\"lasso\"].iloc[i-1] and i>0 :\n",
    "        result_comparison[\"lasso\"].iloc[i] =result_comparison[\"lasso\"].iloc[i-1]\n",
    "    if result_comparison[\"tuned_linear\"].iloc[i] < result_comparison[\"tuned_linear\"].iloc[i-1] and i>0 :\n",
    "        result_comparison[\"tuned_linear\"].iloc[i] =result_comparison[\"tuned_linear\"].iloc[i-1]\n",
    "    if result_comparison[\"tuned_gradient\"].iloc[i] < result_comparison[\"tuned_gradient\"].iloc[i-1] and i>0 :\n",
    "        result_comparison[\"tuned_gradient\"].iloc[i] =result_comparison[\"tuned_gradient\"].iloc[i-1]\n",
    "    if result_comparison[\"tuned_ridge\"].iloc[i] < result_comparison[\"tuned_ridge\"].iloc[i-1] and i>0 :\n",
    "        result_comparison[\"tuned_ridge\"].iloc[i] =result_comparison[\"tuned_ridge\"].iloc[i-1]\n",
    "    if result_comparison[\"tuned_lasso\"].iloc[i] < result_comparison[\"tuned_lasso\"].iloc[i-1] and i>0 :\n",
    "        result_comparison[\"tuned_lasso\"].iloc[i] =result_comparison[\"tuned_lasso\"].iloc[i-1]"
   ]
  },
  {
   "cell_type": "code",
   "execution_count": 40,
   "metadata": {},
   "outputs": [],
   "source": [
    "X_test_Indonesia['date'] = pd.to_datetime(X_test_Indonesia['date_to_integer'], format='%Y%m%d')"
   ]
  },
  {
   "cell_type": "code",
   "execution_count": 57,
   "metadata": {},
   "outputs": [
    {
     "data": {
      "text/plain": [
       "<matplotlib.legend.Legend at 0x7f86b37d6cd0>"
      ]
     },
     "execution_count": 57,
     "metadata": {},
     "output_type": "execute_result"
    },
    {
     "data": {
      "image/png": "[encoded data removed]",
      "text/plain": [
       "<Figure size 432x288 with 1 Axes>"
      ]
     },
     "metadata": {
      "needs_background": "light"
     },
     "output_type": "display_data"
    }
   ],
   "source": [
    "plt.plot(testing[testing[\"location\"]==\"Indonesia\"][\"date\"],result_comparison[\"Actual\"])\n",
    "plt.plot(testing[testing[\"location\"]==\"Indonesia\"][\"date\"],result_comparison[\"linear\"])\n",
    "plt.plot(testing[testing[\"location\"]==\"Indonesia\"][\"date\"],result_comparison[\"gradient\"])\n",
    "plt.plot(testing[testing[\"location\"]==\"Indonesia\"][\"date\"],result_comparison[\"ridge\"])\n",
    "plt.plot(testing[testing[\"location\"]==\"Indonesia\"][\"date\"],result_comparison[\"lasso\"])\n",
    "plt.xlabel(\"Date\")\n",
    "plt.ylabel(\"Models' Predictions of Total Death\")\n",
    "plt.legend([\"Actual\",\"Linear\",\"Gradient\",\"Ridge\",\"Lasso\"])"
   ]
  },
  {
   "cell_type": "code",
   "execution_count": 58,
   "metadata": {},
   "outputs": [
    {
     "data": {
      "text/plain": [
       "<matplotlib.legend.Legend at 0x7f86b488bdd0>"
      ]
     },
     "execution_count": 58,
     "metadata": {},
     "output_type": "execute_result"
    },
    {
     "data": {
      "image/png": "[encoded data removed]",
      "text/plain": [
       "<Figure size 432x288 with 1 Axes>"
      ]
     },
     "metadata": {
      "needs_background": "light"
     },
     "output_type": "display_data"
    }
   ],
   "source": [
    "plt.plot(testing[testing[\"location\"]==\"Indonesia\"][\"date\"],result_comparison[\"Actual\"])\n",
    "plt.plot(testing[testing[\"location\"]==\"Indonesia\"][\"date\"],result_comparison[\"tuned_linear\"])\n",
    "plt.plot(testing[testing[\"location\"]==\"Indonesia\"][\"date\"],result_comparison[\"tuned_gradient\"])\n",
    "plt.plot(testing[testing[\"location\"]==\"Indonesia\"][\"date\"],result_comparison[\"tuned_ridge\"])\n",
    "plt.plot(testing[testing[\"location\"]==\"Indonesia\"][\"date\"],result_comparison[\"tuned_lasso\"])\n",
    "plt.xlabel(\"Date\")\n",
    "plt.ylabel(\"Models' Predictions of Total Death\")\n",
    "plt.legend([\"Actual\",\"Tuned Linear\",\"Tuned Gradient\",\"Tuned Ridge\",\"Tuned Lasso\"])"
   ]
  },
  {
   "cell_type": "code",
   "execution_count": 59,
   "metadata": {},
   "outputs": [
    {
     "data": {
      "text/plain": [
       "<matplotlib.legend.Legend at 0x7f86b593e5d0>"
      ]
     },
     "execution_count": 59,
     "metadata": {},
     "output_type": "execute_result"
    },
    {
     "data": {
      "image/png": "[encoded data removed]",
      "text/plain": [
       "<Figure size 432x288 with 1 Axes>"
      ]
     },
     "metadata": {
      "needs_background": "light"
     },
     "output_type": "display_data"
    }
   ],
   "source": [
    "plt.plot(testing[testing[\"location\"]==\"Indonesia\"][\"date\"],result_comparison[\"Actual\"])\n",
    "plt.plot(testing[testing[\"location\"]==\"Indonesia\"][\"date\"],result_comparison[\"linear\"])\n",
    "plt.plot(testing[testing[\"location\"]==\"Indonesia\"][\"date\"],result_comparison[\"tuned_linear\"])\n",
    "plt.xlabel(\"Date\")\n",
    "plt.ylabel(\"Models' Predictions of Total Death\")\n",
    "plt.legend([\"Original\",\"Linear\",\"Tuned Linear\"])"
   ]
  },
  {
   "cell_type": "code",
   "execution_count": 60,
   "metadata": {},
   "outputs": [
    {
     "data": {
      "text/plain": [
       "<matplotlib.legend.Legend at 0x7f86b933a0d0>"
      ]
     },
     "execution_count": 60,
     "metadata": {},
     "output_type": "execute_result"
    },
    {
     "data": {
      "image/png": "[encoded data removed]",
      "text/plain": [
       "<Figure size 432x288 with 1 Axes>"
      ]
     },
     "metadata": {
      "needs_background": "light"
     },
     "output_type": "display_data"
    }
   ],
   "source": [
    "plt.plot(testing[testing[\"location\"]==\"Indonesia\"][\"date\"],result_comparison[\"ridge\"])\n",
    "plt.plot(testing[testing[\"location\"]==\"Indonesia\"][\"date\"],result_comparison[\"tuned_ridge\"])\n",
    "plt.xlabel(\"Date\")\n",
    "plt.ylabel(\"Models' Predictions of Total Death\")\n",
    "plt.legend([\"Ridge\",\"Tuned Ridge\"])"
   ]
  },
  {
   "cell_type": "code",
   "execution_count": 61,
   "metadata": {
    "scrolled": true
   },
   "outputs": [
    {
     "data": {
      "text/plain": [
       "<matplotlib.legend.Legend at 0x7f86bad49bd0>"
      ]
     },
     "execution_count": 61,
     "metadata": {},
     "output_type": "execute_result"
    },
    {
     "data": {
      "image/png": "[encoded data removed]",
      "text/plain": [
       "<Figure size 432x288 with 1 Axes>"
      ]
     },
     "metadata": {
      "needs_background": "light"
     },
     "output_type": "display_data"
    }
   ],
   "source": [
    "plt.plot(testing[testing[\"location\"]==\"Indonesia\"][\"date\"],result_comparison[\"lasso\"])\n",
    "plt.plot(testing[testing[\"location\"]==\"Indonesia\"][\"date\"],result_comparison[\"tuned_lasso\"])\n",
    "plt.xlabel(\"Date\")\n",
    "plt.ylabel(\"Models' Predictions of Total Death\")\n",
    "plt.legend([\"Lasso\",\"Tuned Lasso\"])"
   ]
  },
  {
   "cell_type": "code",
   "execution_count": 62,
   "metadata": {},
   "outputs": [
    {
     "data": {
      "text/plain": [
       "<matplotlib.legend.Legend at 0x7f86bb728fd0>"
      ]
     },
     "execution_count": 62,
     "metadata": {},
     "output_type": "execute_result"
    },
    {
     "data": {
      "image/png": "[encoded data removed]",
      "text/plain": [
       "<Figure size 432x288 with 1 Axes>"
      ]
     },
     "metadata": {
      "needs_background": "light"
     },
     "output_type": "display_data"
    }
   ],
   "source": [
    "plt.plot(testing[testing[\"location\"]==\"Indonesia\"][\"date\"],result_comparison[\"Actual\"])\n",
    "plt.plot(testing[testing[\"location\"]==\"Indonesia\"][\"date\"],result_comparison[\"tuned_lasso\"])\n",
    "plt.xlabel(\"Date\")\n",
    "plt.ylabel(\"Models' Predictions of Total Death\")\n",
    "plt.legend([\"Actual\",\"Tuned Lasso\"])"
   ]
  }
 ],
 "metadata": {
  "deepnote_execution_queue": [],
  "deepnote_notebook_id": "163ed261-f3a4-4851-84f4-53c07de3ffdf",
  "kernelspec": {
   "display_name": "Python 3",
   "language": "python",
   "name": "python3"
  },
  "language_info": {
   "codemirror_mode": {
    "name": "ipython",
    "version": 3
   },
   "file_extension": ".py",
   "mimetype": "text/x-python",
   "name": "python",
   "nbconvert_exporter": "python",
   "pygments_lexer": "ipython3",
   "version": "3.7.4"
  }
 },
 "nbformat": 4,
 "nbformat_minor": 2
}
