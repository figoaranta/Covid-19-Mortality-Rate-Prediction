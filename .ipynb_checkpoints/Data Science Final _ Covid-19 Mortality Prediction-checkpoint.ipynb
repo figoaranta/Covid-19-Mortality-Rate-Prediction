{
 "cells": [
  {
   "cell_type": "markdown",
   "metadata": {
    "cell_id": "00000-23f81991-5f57-4a78-aae5-b19962b334e1",
    "deepnote_cell_type": "markdown"
   },
   "source": [
    "# Outline\n",
    "\n",
    "## 1. Data Cleaning\n",
    "## 2. Data Exploration\n",
    "## 3. Feature Engineering\n",
    "## 4. Data Preprocessing\n",
    "## 5. Model Building"
   ]
  },
  {
   "cell_type": "code",
   "execution_count": 6,
   "metadata": {
    "cell_id": "00001-9e627fe7-d643-4aca-90d8-92cb0fe0c434",
    "deepnote_cell_type": "code",
    "execution_millis": 3100,
    "execution_start": 1606190067266,
    "output_cleared": false,
    "source_hash": "4797d186"
   },
   "outputs": [],
   "source": [
    "import pandas as pd\n",
    "import matplotlib.pyplot as plt\n",
    "import numpy as np\n",
    "import pickle\n",
    "import seaborn as sns\n",
    "import math\n",
    "from sklearn.model_selection import train_test_split\n",
    "import random\n",
    "%matplotlib inline"
   ]
  },
  {
   "cell_type": "markdown",
   "metadata": {
    "cell_id": "00002-28bbf3a9-6e62-482e-9d69-f10eec049149",
    "deepnote_cell_type": "markdown"
   },
   "source": [
    "### Data Cleaning"
   ]
  },
  {
   "cell_type": "code",
   "execution_count": 7,
   "metadata": {
    "cell_id": "00003-d068e018-70d6-4d84-abb2-67e8625687fa",
    "deepnote_cell_type": "code",
    "execution_millis": 303,
    "execution_start": 1606190070371,
    "output_cleared": false,
    "source_hash": "d0012488"
   },
   "outputs": [],
   "source": [
    "data = pd.read_csv('owid-covid-data.csv')\n",
    "data.dropna(subset=['iso_code'],inplace=True)\n",
    "pd.set_option(\"max_rows\",10)"
   ]
  },
  {
   "cell_type": "code",
   "execution_count": 8,
   "metadata": {
    "cell_id": "00004-c684794c-9c33-4af5-b79b-f5877a698003",
    "deepnote_cell_type": "code",
    "execution_millis": 7,
    "execution_start": 1606190070681,
    "output_cleared": false,
    "scrolled": false,
    "source_hash": "c8a8c27a"
   },
   "outputs": [
    {
     "data": {
      "text/plain": [
       "Index(['iso_code', 'continent', 'location', 'date', 'total_cases', 'new_cases',\n",
       "       'new_cases_smoothed', 'total_deaths', 'new_deaths',\n",
       "       'new_deaths_smoothed', 'total_cases_per_million',\n",
       "       'new_cases_per_million', 'new_cases_smoothed_per_million',\n",
       "       'total_deaths_per_million', 'new_deaths_per_million',\n",
       "       'new_deaths_smoothed_per_million', 'reproduction_rate', 'icu_patients',\n",
       "       'icu_patients_per_million', 'hosp_patients',\n",
       "       'hosp_patients_per_million', 'weekly_icu_admissions',\n",
       "       'weekly_icu_admissions_per_million', 'weekly_hosp_admissions',\n",
       "       'weekly_hosp_admissions_per_million', 'total_tests', 'new_tests',\n",
       "       'total_tests_per_thousand', 'new_tests_per_thousand',\n",
       "       'new_tests_smoothed', 'new_tests_smoothed_per_thousand',\n",
       "       'tests_per_case', 'positive_rate', 'tests_units', 'stringency_index',\n",
       "       'population', 'population_density', 'median_age', 'aged_65_older',\n",
       "       'aged_70_older', 'gdp_per_capita', 'extreme_poverty',\n",
       "       'cardiovasc_death_rate', 'diabetes_prevalence', 'female_smokers',\n",
       "       'male_smokers', 'handwashing_facilities', 'hospital_beds_per_thousand',\n",
       "       'life_expectancy', 'human_development_index'],\n",
       "      dtype='object')"
      ]
     },
     "execution_count": 8,
     "metadata": {},
     "output_type": "execute_result"
    }
   ],
   "source": [
    "data.columns"
   ]
  },
  {
   "cell_type": "code",
   "execution_count": 9,
   "metadata": {
    "cell_id": "00005-7ec31ada-497f-433a-a7e0-43d58b74f178",
    "deepnote_cell_type": "code",
    "execution_millis": 24,
    "execution_start": 1606190070694,
    "output_cleared": false,
    "source_hash": "bb0e71bf"
   },
   "outputs": [
    {
     "name": "stderr",
     "output_type": "stream",
     "text": [
      "/opt/anaconda3/lib/python3.7/site-packages/ipykernel_launcher.py:14: SettingWithCopyWarning: \n",
      "A value is trying to be set on a copy of a slice from a DataFrame.\n",
      "Try using .loc[row_indexer,col_indexer] = value instead\n",
      "\n",
      "See the caveats in the documentation: http://pandas.pydata.org/pandas-docs/stable/user_guide/indexing.html#returning-a-view-versus-a-copy\n",
      "  \n"
     ]
    }
   ],
   "source": [
    "newData = data[['iso_code','continent','location',\n",
    "                'population','human_development_index','gdp_per_capita',\n",
    "                'date','total_cases','total_deaths',\n",
    "                'new_cases','new_deaths','new_cases_smoothed',\n",
    "                'new_deaths_smoothed','total_cases_per_million','total_deaths_per_million',\n",
    "                'new_cases_per_million','new_deaths_per_million','new_cases_smoothed_per_million',\n",
    "                'new_deaths_smoothed_per_million','diabetes_prevalence','cardiovasc_death_rate',\n",
    "                'median_age','handwashing_facilities','hospital_beds_per_thousand',\n",
    "                'life_expectancy','stringency_index','total_tests',\n",
    "                'new_tests','total_tests_per_thousand','new_tests_per_thousand',\n",
    "                'new_tests_smoothed','new_tests_smoothed_per_thousand','tests_per_case',\n",
    "                'extreme_poverty']]\n",
    "\n",
    "newData['id'] = range(1,len(newData)+1)\n",
    "cols = newData.columns.tolist()\n",
    "cols = cols[-1:] + cols[:-1]\n",
    "newData = newData[cols]"
   ]
  },
  {
   "cell_type": "code",
   "execution_count": 10,
   "metadata": {
    "cell_id": "00006-e7f94095-045b-4601-b0af-94430dbd5e60",
    "deepnote_cell_type": "code",
    "execution_millis": 115,
    "execution_start": 1606190070725,
    "output_cleared": false,
    "source_hash": "8d4a3c80"
   },
   "outputs": [
    {
     "data": {
      "text/html": [
       "<div>\n",
       "<style scoped>\n",
       "    .dataframe tbody tr th:only-of-type {\n",
       "        vertical-align: middle;\n",
       "    }\n",
       "\n",
       "    .dataframe tbody tr th {\n",
       "        vertical-align: top;\n",
       "    }\n",
       "\n",
       "    .dataframe thead th {\n",
       "        text-align: right;\n",
       "    }\n",
       "</style>\n",
       "<table border=\"1\" class=\"dataframe\">\n",
       "  <thead>\n",
       "    <tr style=\"text-align: right;\">\n",
       "      <th></th>\n",
       "      <th>id</th>\n",
       "      <th>iso_code</th>\n",
       "      <th>continent</th>\n",
       "      <th>location</th>\n",
       "      <th>population</th>\n",
       "      <th>human_development_index</th>\n",
       "      <th>gdp_per_capita</th>\n",
       "      <th>date</th>\n",
       "      <th>total_cases</th>\n",
       "      <th>total_deaths</th>\n",
       "      <th>...</th>\n",
       "      <th>life_expectancy</th>\n",
       "      <th>stringency_index</th>\n",
       "      <th>total_tests</th>\n",
       "      <th>new_tests</th>\n",
       "      <th>total_tests_per_thousand</th>\n",
       "      <th>new_tests_per_thousand</th>\n",
       "      <th>new_tests_smoothed</th>\n",
       "      <th>new_tests_smoothed_per_thousand</th>\n",
       "      <th>tests_per_case</th>\n",
       "      <th>extreme_poverty</th>\n",
       "    </tr>\n",
       "  </thead>\n",
       "  <tbody>\n",
       "    <tr>\n",
       "      <td>0</td>\n",
       "      <td>1</td>\n",
       "      <td>AFG</td>\n",
       "      <td>Asia</td>\n",
       "      <td>Afghanistan</td>\n",
       "      <td>3.892834e+07</td>\n",
       "      <td>0.498</td>\n",
       "      <td>1803.987</td>\n",
       "      <td>2019-12-31</td>\n",
       "      <td>NaN</td>\n",
       "      <td>NaN</td>\n",
       "      <td>...</td>\n",
       "      <td>64.83</td>\n",
       "      <td>NaN</td>\n",
       "      <td>NaN</td>\n",
       "      <td>NaN</td>\n",
       "      <td>NaN</td>\n",
       "      <td>NaN</td>\n",
       "      <td>NaN</td>\n",
       "      <td>NaN</td>\n",
       "      <td>NaN</td>\n",
       "      <td>NaN</td>\n",
       "    </tr>\n",
       "    <tr>\n",
       "      <td>1</td>\n",
       "      <td>2</td>\n",
       "      <td>AFG</td>\n",
       "      <td>Asia</td>\n",
       "      <td>Afghanistan</td>\n",
       "      <td>3.892834e+07</td>\n",
       "      <td>0.498</td>\n",
       "      <td>1803.987</td>\n",
       "      <td>2020-01-01</td>\n",
       "      <td>NaN</td>\n",
       "      <td>NaN</td>\n",
       "      <td>...</td>\n",
       "      <td>64.83</td>\n",
       "      <td>0.0</td>\n",
       "      <td>NaN</td>\n",
       "      <td>NaN</td>\n",
       "      <td>NaN</td>\n",
       "      <td>NaN</td>\n",
       "      <td>NaN</td>\n",
       "      <td>NaN</td>\n",
       "      <td>NaN</td>\n",
       "      <td>NaN</td>\n",
       "    </tr>\n",
       "    <tr>\n",
       "      <td>2</td>\n",
       "      <td>3</td>\n",
       "      <td>AFG</td>\n",
       "      <td>Asia</td>\n",
       "      <td>Afghanistan</td>\n",
       "      <td>3.892834e+07</td>\n",
       "      <td>0.498</td>\n",
       "      <td>1803.987</td>\n",
       "      <td>2020-01-02</td>\n",
       "      <td>NaN</td>\n",
       "      <td>NaN</td>\n",
       "      <td>...</td>\n",
       "      <td>64.83</td>\n",
       "      <td>0.0</td>\n",
       "      <td>NaN</td>\n",
       "      <td>NaN</td>\n",
       "      <td>NaN</td>\n",
       "      <td>NaN</td>\n",
       "      <td>NaN</td>\n",
       "      <td>NaN</td>\n",
       "      <td>NaN</td>\n",
       "      <td>NaN</td>\n",
       "    </tr>\n",
       "    <tr>\n",
       "      <td>3</td>\n",
       "      <td>4</td>\n",
       "      <td>AFG</td>\n",
       "      <td>Asia</td>\n",
       "      <td>Afghanistan</td>\n",
       "      <td>3.892834e+07</td>\n",
       "      <td>0.498</td>\n",
       "      <td>1803.987</td>\n",
       "      <td>2020-01-03</td>\n",
       "      <td>NaN</td>\n",
       "      <td>NaN</td>\n",
       "      <td>...</td>\n",
       "      <td>64.83</td>\n",
       "      <td>0.0</td>\n",
       "      <td>NaN</td>\n",
       "      <td>NaN</td>\n",
       "      <td>NaN</td>\n",
       "      <td>NaN</td>\n",
       "      <td>NaN</td>\n",
       "      <td>NaN</td>\n",
       "      <td>NaN</td>\n",
       "      <td>NaN</td>\n",
       "    </tr>\n",
       "    <tr>\n",
       "      <td>4</td>\n",
       "      <td>5</td>\n",
       "      <td>AFG</td>\n",
       "      <td>Asia</td>\n",
       "      <td>Afghanistan</td>\n",
       "      <td>3.892834e+07</td>\n",
       "      <td>0.498</td>\n",
       "      <td>1803.987</td>\n",
       "      <td>2020-01-04</td>\n",
       "      <td>NaN</td>\n",
       "      <td>NaN</td>\n",
       "      <td>...</td>\n",
       "      <td>64.83</td>\n",
       "      <td>0.0</td>\n",
       "      <td>NaN</td>\n",
       "      <td>NaN</td>\n",
       "      <td>NaN</td>\n",
       "      <td>NaN</td>\n",
       "      <td>NaN</td>\n",
       "      <td>NaN</td>\n",
       "      <td>NaN</td>\n",
       "      <td>NaN</td>\n",
       "    </tr>\n",
       "    <tr>\n",
       "      <td>...</td>\n",
       "      <td>...</td>\n",
       "      <td>...</td>\n",
       "      <td>...</td>\n",
       "      <td>...</td>\n",
       "      <td>...</td>\n",
       "      <td>...</td>\n",
       "      <td>...</td>\n",
       "      <td>...</td>\n",
       "      <td>...</td>\n",
       "      <td>...</td>\n",
       "      <td>...</td>\n",
       "      <td>...</td>\n",
       "      <td>...</td>\n",
       "      <td>...</td>\n",
       "      <td>...</td>\n",
       "      <td>...</td>\n",
       "      <td>...</td>\n",
       "      <td>...</td>\n",
       "      <td>...</td>\n",
       "      <td>...</td>\n",
       "      <td>...</td>\n",
       "    </tr>\n",
       "    <tr>\n",
       "      <td>56640</td>\n",
       "      <td>56641</td>\n",
       "      <td>OWID_WRL</td>\n",
       "      <td>NaN</td>\n",
       "      <td>World</td>\n",
       "      <td>7.794799e+09</td>\n",
       "      <td>NaN</td>\n",
       "      <td>15469.207</td>\n",
       "      <td>2020-11-11</td>\n",
       "      <td>51626568.0</td>\n",
       "      <td>1275434.0</td>\n",
       "      <td>...</td>\n",
       "      <td>72.58</td>\n",
       "      <td>NaN</td>\n",
       "      <td>NaN</td>\n",
       "      <td>NaN</td>\n",
       "      <td>NaN</td>\n",
       "      <td>NaN</td>\n",
       "      <td>NaN</td>\n",
       "      <td>NaN</td>\n",
       "      <td>NaN</td>\n",
       "      <td>10.0</td>\n",
       "    </tr>\n",
       "    <tr>\n",
       "      <td>56641</td>\n",
       "      <td>56642</td>\n",
       "      <td>OWID_WRL</td>\n",
       "      <td>NaN</td>\n",
       "      <td>World</td>\n",
       "      <td>7.794799e+09</td>\n",
       "      <td>NaN</td>\n",
       "      <td>15469.207</td>\n",
       "      <td>2020-11-12</td>\n",
       "      <td>52250094.0</td>\n",
       "      <td>1286026.0</td>\n",
       "      <td>...</td>\n",
       "      <td>72.58</td>\n",
       "      <td>NaN</td>\n",
       "      <td>NaN</td>\n",
       "      <td>NaN</td>\n",
       "      <td>NaN</td>\n",
       "      <td>NaN</td>\n",
       "      <td>NaN</td>\n",
       "      <td>NaN</td>\n",
       "      <td>NaN</td>\n",
       "      <td>10.0</td>\n",
       "    </tr>\n",
       "    <tr>\n",
       "      <td>56642</td>\n",
       "      <td>56643</td>\n",
       "      <td>OWID_WRL</td>\n",
       "      <td>NaN</td>\n",
       "      <td>World</td>\n",
       "      <td>7.794799e+09</td>\n",
       "      <td>NaN</td>\n",
       "      <td>15469.207</td>\n",
       "      <td>2020-11-13</td>\n",
       "      <td>52895696.0</td>\n",
       "      <td>1295138.0</td>\n",
       "      <td>...</td>\n",
       "      <td>72.58</td>\n",
       "      <td>NaN</td>\n",
       "      <td>NaN</td>\n",
       "      <td>NaN</td>\n",
       "      <td>NaN</td>\n",
       "      <td>NaN</td>\n",
       "      <td>NaN</td>\n",
       "      <td>NaN</td>\n",
       "      <td>NaN</td>\n",
       "      <td>10.0</td>\n",
       "    </tr>\n",
       "    <tr>\n",
       "      <td>56643</td>\n",
       "      <td>56644</td>\n",
       "      <td>OWID_WRL</td>\n",
       "      <td>NaN</td>\n",
       "      <td>World</td>\n",
       "      <td>7.794799e+09</td>\n",
       "      <td>NaN</td>\n",
       "      <td>15469.207</td>\n",
       "      <td>2020-11-14</td>\n",
       "      <td>53521318.0</td>\n",
       "      <td>1305050.0</td>\n",
       "      <td>...</td>\n",
       "      <td>72.58</td>\n",
       "      <td>NaN</td>\n",
       "      <td>NaN</td>\n",
       "      <td>NaN</td>\n",
       "      <td>NaN</td>\n",
       "      <td>NaN</td>\n",
       "      <td>NaN</td>\n",
       "      <td>NaN</td>\n",
       "      <td>NaN</td>\n",
       "      <td>10.0</td>\n",
       "    </tr>\n",
       "    <tr>\n",
       "      <td>56644</td>\n",
       "      <td>56645</td>\n",
       "      <td>OWID_WRL</td>\n",
       "      <td>NaN</td>\n",
       "      <td>World</td>\n",
       "      <td>7.794799e+09</td>\n",
       "      <td>NaN</td>\n",
       "      <td>15469.207</td>\n",
       "      <td>2020-11-15</td>\n",
       "      <td>54110061.0</td>\n",
       "      <td>1313835.0</td>\n",
       "      <td>...</td>\n",
       "      <td>72.58</td>\n",
       "      <td>NaN</td>\n",
       "      <td>NaN</td>\n",
       "      <td>NaN</td>\n",
       "      <td>NaN</td>\n",
       "      <td>NaN</td>\n",
       "      <td>NaN</td>\n",
       "      <td>NaN</td>\n",
       "      <td>NaN</td>\n",
       "      <td>10.0</td>\n",
       "    </tr>\n",
       "  </tbody>\n",
       "</table>\n",
       "<p>56645 rows × 35 columns</p>\n",
       "</div>"
      ],
      "text/plain": [
       "          id  iso_code continent     location    population  \\\n",
       "0          1       AFG      Asia  Afghanistan  3.892834e+07   \n",
       "1          2       AFG      Asia  Afghanistan  3.892834e+07   \n",
       "2          3       AFG      Asia  Afghanistan  3.892834e+07   \n",
       "3          4       AFG      Asia  Afghanistan  3.892834e+07   \n",
       "4          5       AFG      Asia  Afghanistan  3.892834e+07   \n",
       "...      ...       ...       ...          ...           ...   \n",
       "56640  56641  OWID_WRL       NaN        World  7.794799e+09   \n",
       "56641  56642  OWID_WRL       NaN        World  7.794799e+09   \n",
       "56642  56643  OWID_WRL       NaN        World  7.794799e+09   \n",
       "56643  56644  OWID_WRL       NaN        World  7.794799e+09   \n",
       "56644  56645  OWID_WRL       NaN        World  7.794799e+09   \n",
       "\n",
       "       human_development_index  gdp_per_capita        date  total_cases  \\\n",
       "0                        0.498        1803.987  2019-12-31          NaN   \n",
       "1                        0.498        1803.987  2020-01-01          NaN   \n",
       "2                        0.498        1803.987  2020-01-02          NaN   \n",
       "3                        0.498        1803.987  2020-01-03          NaN   \n",
       "4                        0.498        1803.987  2020-01-04          NaN   \n",
       "...                        ...             ...         ...          ...   \n",
       "56640                      NaN       15469.207  2020-11-11   51626568.0   \n",
       "56641                      NaN       15469.207  2020-11-12   52250094.0   \n",
       "56642                      NaN       15469.207  2020-11-13   52895696.0   \n",
       "56643                      NaN       15469.207  2020-11-14   53521318.0   \n",
       "56644                      NaN       15469.207  2020-11-15   54110061.0   \n",
       "\n",
       "       total_deaths  ...  life_expectancy  stringency_index  total_tests  \\\n",
       "0               NaN  ...            64.83               NaN          NaN   \n",
       "1               NaN  ...            64.83               0.0          NaN   \n",
       "2               NaN  ...            64.83               0.0          NaN   \n",
       "3               NaN  ...            64.83               0.0          NaN   \n",
       "4               NaN  ...            64.83               0.0          NaN   \n",
       "...             ...  ...              ...               ...          ...   \n",
       "56640     1275434.0  ...            72.58               NaN          NaN   \n",
       "56641     1286026.0  ...            72.58               NaN          NaN   \n",
       "56642     1295138.0  ...            72.58               NaN          NaN   \n",
       "56643     1305050.0  ...            72.58               NaN          NaN   \n",
       "56644     1313835.0  ...            72.58               NaN          NaN   \n",
       "\n",
       "       new_tests  total_tests_per_thousand  new_tests_per_thousand  \\\n",
       "0            NaN                       NaN                     NaN   \n",
       "1            NaN                       NaN                     NaN   \n",
       "2            NaN                       NaN                     NaN   \n",
       "3            NaN                       NaN                     NaN   \n",
       "4            NaN                       NaN                     NaN   \n",
       "...          ...                       ...                     ...   \n",
       "56640        NaN                       NaN                     NaN   \n",
       "56641        NaN                       NaN                     NaN   \n",
       "56642        NaN                       NaN                     NaN   \n",
       "56643        NaN                       NaN                     NaN   \n",
       "56644        NaN                       NaN                     NaN   \n",
       "\n",
       "       new_tests_smoothed  new_tests_smoothed_per_thousand  tests_per_case  \\\n",
       "0                     NaN                              NaN             NaN   \n",
       "1                     NaN                              NaN             NaN   \n",
       "2                     NaN                              NaN             NaN   \n",
       "3                     NaN                              NaN             NaN   \n",
       "4                     NaN                              NaN             NaN   \n",
       "...                   ...                              ...             ...   \n",
       "56640                 NaN                              NaN             NaN   \n",
       "56641                 NaN                              NaN             NaN   \n",
       "56642                 NaN                              NaN             NaN   \n",
       "56643                 NaN                              NaN             NaN   \n",
       "56644                 NaN                              NaN             NaN   \n",
       "\n",
       "       extreme_poverty  \n",
       "0                  NaN  \n",
       "1                  NaN  \n",
       "2                  NaN  \n",
       "3                  NaN  \n",
       "4                  NaN  \n",
       "...                ...  \n",
       "56640             10.0  \n",
       "56641             10.0  \n",
       "56642             10.0  \n",
       "56643             10.0  \n",
       "56644             10.0  \n",
       "\n",
       "[56645 rows x 35 columns]"
      ]
     },
     "execution_count": 10,
     "metadata": {},
     "output_type": "execute_result"
    }
   ],
   "source": [
    "newData"
   ]
  },
  {
   "cell_type": "code",
   "execution_count": 11,
   "metadata": {
    "cell_id": "00007-57c473b8-f9d6-449f-9171-174b2659eb0a",
    "deepnote_cell_type": "code",
    "execution_millis": 3751,
    "execution_start": 1606190072980,
    "output_cleared": false,
    "source_hash": "9752ea7f"
   },
   "outputs": [],
   "source": [
    "# Spitting data into testing and training.\n",
    "training = pd.DataFrame()\n",
    "testing = pd.DataFrame()\n",
    "\n",
    "# Split 20% for each location in the data.\n",
    "for i in newData['location'].value_counts().index:\n",
    "    train, test = train_test_split(newData[newData['location']==i], test_size=0.2, shuffle=False)\n",
    "    training = pd.concat([training,train])\n",
    "    testing = pd.concat([testing,test])\n"
   ]
  },
  {
   "cell_type": "code",
   "execution_count": 12,
   "metadata": {
    "cell_id": "00008-525b9dee-68d6-4fbf-8ddd-3badfc75aca4",
    "deepnote_cell_type": "code",
    "execution_millis": 21,
    "execution_start": 1606190076736,
    "output_cleared": false,
    "source_hash": "3ec3c77d"
   },
   "outputs": [],
   "source": [
    "training['train_data'] = 1\n",
    "testing['train_data'] = 0\n",
    "newData = pd.concat([training,testing])"
   ]
  },
  {
   "cell_type": "markdown",
   "metadata": {
    "cell_id": "00009-0bd4a2a2-51a9-4b73-ab06-b5d182bba8e2",
    "deepnote_cell_type": "markdown"
   },
   "source": [
    "### Data Exploration & Visualization"
   ]
  },
  {
   "cell_type": "code",
   "execution_count": null,
   "metadata": {
    "cell_id": "00010-a8879784-74f4-4435-8037-79614a508698",
    "deepnote_cell_type": "code"
   },
   "outputs": [],
   "source": [
    "training"
   ]
  },
  {
   "cell_type": "code",
   "execution_count": null,
   "metadata": {
    "cell_id": "00011-5801c276-ffbc-4412-aa90-5e9c3cac6270",
    "deepnote_cell_type": "code"
   },
   "outputs": [],
   "source": [
    "training.info()"
   ]
  },
  {
   "cell_type": "code",
   "execution_count": null,
   "metadata": {
    "cell_id": "00012-b5ca14a3-9c3d-47d1-90f2-ea1ff8cc66ae",
    "deepnote_cell_type": "code"
   },
   "outputs": [],
   "source": [
    "training.describe()"
   ]
  },
  {
   "cell_type": "code",
   "execution_count": null,
   "metadata": {
    "cell_id": "00013-6c4cf600-3a36-4378-a2a6-873f48b4be46",
    "deepnote_cell_type": "code"
   },
   "outputs": [],
   "source": [
    "training.describe().columns"
   ]
  },
  {
   "cell_type": "code",
   "execution_count": null,
   "metadata": {
    "cell_id": "00014-8c2d86bf-563c-48e0-9780-6d9bb5729702",
    "deepnote_cell_type": "code"
   },
   "outputs": [],
   "source": [
    "df_cat = training[['iso_code','continent','location','date']]\n",
    "df_num = training[['population', 'human_development_index', 'gdp_per_capita',\n",
    "       'total_cases', 'total_deaths', 'new_cases', 'new_deaths',\n",
    "       'new_cases_smoothed', 'new_deaths_smoothed', 'total_cases_per_million',\n",
    "       'total_deaths_per_million', 'new_cases_per_million',\n",
    "       'new_deaths_per_million', 'new_cases_smoothed_per_million',\n",
    "       'new_deaths_smoothed_per_million', 'diabetes_prevalence',\n",
    "       'cardiovasc_death_rate', 'median_age', 'handwashing_facilities',\n",
    "       'hospital_beds_per_thousand', 'life_expectancy', 'stringency_index',\n",
    "       'total_tests', 'new_tests', 'total_tests_per_thousand',\n",
    "       'new_tests_per_thousand', 'new_tests_smoothed',\n",
    "       'new_tests_smoothed_per_thousand', 'tests_per_case', 'extreme_poverty']]"
   ]
  },
  {
   "cell_type": "code",
   "execution_count": null,
   "metadata": {
    "cell_id": "00015-282f4dac-8beb-49d8-9dc5-551693439093",
    "deepnote_cell_type": "code"
   },
   "outputs": [],
   "source": [
    "colors = ['red','orange','blue','green','yellow','purple','darkblue','pink','lightblue']"
   ]
  },
  {
   "cell_type": "code",
   "execution_count": null,
   "metadata": {
    "cell_id": "00016-6e29fc22-9ffa-415f-9e64-7ac799d04895",
    "deepnote_cell_type": "code"
   },
   "outputs": [],
   "source": [
    "for i in df_num:\n",
    "    plt.hist(df_num[i],range=(df_num[i].min(),df_num[i].max()),color=colors[random.randrange(0,len(colors)-1)])\n",
    "    plt.title(\"Histogram of \"+i)\n",
    "    plt.ylabel('Frequency of Occurrence')\n",
    "    plt.xlabel(i)\n",
    "    plt.show()"
   ]
  },
  {
   "cell_type": "code",
   "execution_count": null,
   "metadata": {
    "cell_id": "00017-fd4ef7a6-53d4-40ec-913a-118b9ca4bfc0",
    "deepnote_cell_type": "code"
   },
   "outputs": [],
   "source": [
    "for i in df_num:\n",
    "    df_num[i].value_counts().plot(kind='bar')\n",
    "    plt.title(\"Bar Chart of \"+i)\n",
    "    plt.ylabel('Frequency of Occurrence')\n",
    "    plt.xlabel(i)\n",
    "    sns.despine\n",
    "    break"
   ]
  },
  {
   "cell_type": "code",
   "execution_count": null,
   "metadata": {
    "cell_id": "00018-33c3087d-b83f-4d63-b5f2-563ab5f021fa",
    "deepnote_cell_type": "code"
   },
   "outputs": [],
   "source": [
    "print(df_num.corr())"
   ]
  },
  {
   "cell_type": "code",
   "execution_count": null,
   "metadata": {
    "cell_id": "00019-9b967a0a-1e0d-4bcd-8897-c598ac92f0b6",
    "deepnote_cell_type": "code"
   },
   "outputs": [],
   "source": [
    "sns.heatmap(df_num.corr())"
   ]
  },
  {
   "cell_type": "code",
   "execution_count": null,
   "metadata": {
    "cell_id": "00020-93b1aa63-7bd2-43d2-8307-631b46647053",
    "deepnote_cell_type": "code"
   },
   "outputs": [],
   "source": [
    "for i in df_cat.columns:\n",
    "    sns.barplot(df_cat[i].value_counts().index , df_cat[i].value_counts()).set_title(i)\n",
    "    plt.show()"
   ]
  },
  {
   "cell_type": "code",
   "execution_count": null,
   "metadata": {
    "cell_id": "00021-95baf0aa-f0c8-43e7-9424-4a95a0a989cb",
    "deepnote_cell_type": "code"
   },
   "outputs": [],
   "source": [
    "for i in newData['location'].value_counts().index:\n",
    "    y_axis = newData[newData['location']== i]['new_deaths_smoothed']\n",
    "    x_axis = newData[newData['location']== i]['date']\n",
    "    plt.plot(x_axis,y_axis,color=colors[random.randrange(0,len(colors)-1)])\n",
    "    plt.title(\"Graph of the number of death in \"+i)\n",
    "    plt.ylabel('New Deaths')\n",
    "    plt.xlabel('Date')\n",
    "    plt.show()"
   ]
  },
  {
   "cell_type": "code",
   "execution_count": null,
   "metadata": {
    "cell_id": "00022-23e49c47-946d-4375-b6e4-7c53671de900",
    "deepnote_cell_type": "code"
   },
   "outputs": [],
   "source": [
    "for i in newData['continent'].value_counts().index:\n",
    "    for j in newData[newData['continent']==i]['location'].value_counts().index:\n",
    "        x_axis = newData[newData['location']== j]['date']\n",
    "        plt.plot(x_axis,newData[newData['location']== j]['new_deaths_smoothed'],label=j)\n",
    "    plt.xlabel('Date')\n",
    "    plt.ylabel('Number of New Death')\n",
    "    plt.legend(framealpha=1,bbox_to_anchor=(1.05, 1),loc='upper left');\n",
    "    plt.title('New death in '+i+' continent')\n",
    "    plt.show()"
   ]
  },
  {
   "cell_type": "code",
   "execution_count": null,
   "metadata": {
    "cell_id": "00023-06970acc-b576-4d0a-ad37-62ef058c0256",
    "deepnote_cell_type": "code"
   },
   "outputs": [],
   "source": [
    "for i in newData['location'].value_counts().index:\n",
    "    y_axis = newData[newData['location']== i]['new_deaths_smoothed']\n",
    "    x_axis = newData[newData['location']== i]['stringency_index']\n",
    "    plt.scatter(x_axis,y_axis,color=colors[random.randrange(0,len(colors)-1)])\n",
    "    plt.title(\"Correlation of \"+ \"the number of death and the Stringency Index in \"+i)\n",
    "    plt.ylabel('New Deaths')\n",
    "    plt.xlabel('Stringency Index')\n",
    "    plt.show()"
   ]
  },
  {
   "cell_type": "code",
   "execution_count": null,
   "metadata": {
    "cell_id": "00024-46c54246-b7e6-4532-a27c-76567a5d0066",
    "deepnote_cell_type": "code"
   },
   "outputs": [],
   "source": [
    "for i in newData['continent'].value_counts().index:\n",
    "    population = newData[newData['continent'] == i]['population'].value_counts().index\n",
    "    tick_label = newData[newData['continent'] == i]['location'].value_counts().index\n",
    "    x_coordinate = np.arange(1,len(tick_label)+1)\n",
    "    ax = sns.barplot(population, tick_label)\n",
    "    ax.set_title(\"Barplot of population in \"+ j +\" continent\")\n",
    "    ax.set_xlabel(\"Population\")\n",
    "    ax.set_ylabel(\"Location\")\n",
    "    plt.show()"
   ]
  },
  {
   "cell_type": "code",
   "execution_count": null,
   "metadata": {
    "cell_id": "00025-dc1c200f-28f2-49c2-932f-4a46ec90dcbe",
    "deepnote_cell_type": "code"
   },
   "outputs": [],
   "source": [
    "for i in newData['location'].value_counts().index:\n",
    "    y_axis = newData[newData['location']== i]['new_deaths_smoothed']\n",
    "    x_axis = newData[newData['location']== i]['tests_per_case']\n",
    "    plt.scatter(x_axis,y_axis,color=colors[random.randrange(0,len(colors)-1)])\n",
    "    plt.title(\"Correlation of \"+ \"the number of death and the number of Test per case \"+i)\n",
    "    plt.ylabel('New Deaths')\n",
    "    plt.xlabel('Test per case')\n",
    "    plt.show()"
   ]
  },
  {
   "cell_type": "code",
   "execution_count": null,
   "metadata": {
    "cell_id": "00026-a4ebfac1-1f04-4e24-985f-019c66f742a7",
    "deepnote_cell_type": "code"
   },
   "outputs": [],
   "source": [
    "pd.pivot_table(training, index = 'continent', columns = 'location', values = 'id' ,aggfunc ='count')"
   ]
  },
  {
   "cell_type": "code",
   "execution_count": null,
   "metadata": {
    "cell_id": "00027-fa8f0465-d0b6-4c8f-a596-667622771e37",
    "deepnote_cell_type": "code"
   },
   "outputs": [],
   "source": [
    "pd.pivot_table(training, index = 'continent', columns = 'new_deaths', values = 'id' ,aggfunc ='count')"
   ]
  },
  {
   "cell_type": "code",
   "execution_count": null,
   "metadata": {
    "cell_id": "00028-0fddb57d-135b-465f-9b54-29e50ea989b3",
    "deepnote_cell_type": "code"
   },
   "outputs": [],
   "source": [
    "extremePoverty_newDeaths_corr = newData[['extreme_poverty','new_deaths_smoothed']]\n",
    "extremePoverty_newDeaths_corr.dropna(subset=['extreme_poverty'],inplace = True)"
   ]
  },
  {
   "cell_type": "code",
   "execution_count": null,
   "metadata": {
    "cell_id": "00029-1a004472-87d1-4fa7-95b2-9ae65756734a",
    "deepnote_cell_type": "code"
   },
   "outputs": [],
   "source": [
    "sns.scatterplot(data=extremePoverty_newDeaths_corr ,x = 'extreme_poverty' , y = 'new_deaths_smoothed',hue=\"extreme_poverty\",marker=\"+\")"
   ]
  },
  {
   "cell_type": "code",
   "execution_count": null,
   "metadata": {
    "cell_id": "00030-34bb1c6f-e110-4482-9bfd-3afcb36c85b7",
    "deepnote_cell_type": "code"
   },
   "outputs": [],
   "source": [
    "pd.pivot_table(training, index = 'continent', values = ['population','new_deaths','handwashing_facilities','stringency_index','extreme_poverty','handwashing_facilities','tests_per_case','gdp_per_capita'])"
   ]
  },
  {
   "cell_type": "code",
   "execution_count": null,
   "metadata": {
    "cell_id": "00031-e459e532-e850-44a4-b3b1-6239e21d62c1",
    "deepnote_cell_type": "code"
   },
   "outputs": [],
   "source": [
    "newData.columns"
   ]
  },
  {
   "cell_type": "markdown",
   "metadata": {
    "cell_id": "00032-1b8e2a76-d47e-4699-86c4-3d132300d911",
    "deepnote_cell_type": "markdown"
   },
   "source": [
    "### Feature Engineering"
   ]
  },
  {
   "cell_type": "code",
   "execution_count": 13,
   "metadata": {
    "cell_id": "00033-1bc4fea3-57a2-4648-888e-c7b4f93df361",
    "deepnote_cell_type": "code",
    "execution_millis": 56,
    "execution_start": 1606190079044,
    "output_cleared": false,
    "source_hash": "cbac857a"
   },
   "outputs": [],
   "source": [
    "newData['date_to_integer'] = newData['date'].apply(lambda x : float(''.join(x.split('-'))) if str(x) else x)"
   ]
  },
  {
   "cell_type": "markdown",
   "metadata": {
    "cell_id": "00034-eefceebf-6343-413d-ad5e-3b4a9621be2b",
    "deepnote_cell_type": "markdown"
   },
   "source": [
    "### Data Preprocessing"
   ]
  },
  {
   "cell_type": "code",
   "execution_count": 14,
   "metadata": {
    "cell_id": "00035-9255ec25-6502-4e59-ab4c-34db326955d3",
    "deepnote_cell_type": "code",
    "execution_millis": 11,
    "execution_start": 1606190079471,
    "output_cleared": false,
    "source_hash": "2110041c"
   },
   "outputs": [],
   "source": [
    "newData['continent'] = newData['continent'].apply(lambda x : \"World\" if pd.isna(x) else x )"
   ]
  },
  {
   "cell_type": "code",
   "execution_count": 15,
   "metadata": {
    "cell_id": "00036-7af69be6-1b7c-4ce4-8de0-22a50deaa262",
    "deepnote_cell_type": "code",
    "execution_millis": 3249,
    "execution_start": 1606190079658,
    "output_cleared": false,
    "source_hash": "3c59d60a"
   },
   "outputs": [],
   "source": [
    "hdi_continent_mean = dict()\n",
    "hdi_location_mean = dict()\n",
    "gdp_location_mean = dict()\n",
    "\n",
    "for i in (newData['continent'].value_counts().index):\n",
    "    hdi_continent_mean[i] = newData[newData['continent'] == i]['human_development_index'].mean()\n",
    "\n",
    "for i in newData['location'].value_counts().index:\n",
    "    hdi_location_mean[i] = newData[newData['location'] == i]['human_development_index'].mean()\n",
    "\n",
    "for key,value in hdi_location_mean.items():\n",
    "    if pd.isna(value):\n",
    "        hdi_location_mean[key]= hdi_continent_mean[newData[newData['location']==key]['continent'].values[0]] \n",
    "        \n",
    "for i in newData['location'].value_counts().index:\n",
    "    if pd.isna(newData[newData['location']==i]['gdp_per_capita'].values[0]):\n",
    "        gdp_location_mean[i] = newData[newData['continent'] == newData[newData['location']==i]['continent'].values[0]]['gdp_per_capita'].mean()\n",
    "    else:\n",
    "        gdp_location_mean[i] = newData[newData['location']==i]['gdp_per_capita'].mean()\n",
    "        \n",
    "hdi_location_mean.pop('World')\n",
    "hdi_continent_mean.pop('World')\n",
    "hdi_location_mean['World'] = sum(hdi_location_mean.values())/len(hdi_location_mean)\n",
    "hdi_continent_mean['World'] = sum(hdi_continent_mean.values())/len(hdi_continent_mean)"
   ]
  },
  {
   "cell_type": "code",
   "execution_count": 16,
   "metadata": {
    "cell_id": "00037-cfc1eed9-7cd0-4237-9ec8-0e101736fbc5",
    "deepnote_cell_type": "code",
    "execution_millis": 550,
    "execution_start": 1606190082907,
    "output_cleared": false,
    "source_hash": "178d52a5"
   },
   "outputs": [],
   "source": [
    "newData['human_development_index'] = newData['location'].apply(lambda x:  hdi_location_mean[x])  \n",
    "newData['gdp_per_capita'] = newData['location'].apply(lambda x:  gdp_location_mean[x])\n",
    "newData['total_cases'] = newData['total_cases'].apply(lambda x: 0 if pd.isna(x) else x)\n",
    "newData['total_deaths'] = newData['total_deaths'].apply(lambda x: 0 if pd.isna(x) else x)\n",
    "newData['new_deaths'] = newData['new_deaths'].apply(lambda x: 0 if pd.isna(x) else x)\n",
    "newData['new_cases'] = newData['new_cases'].apply(lambda x: 0 if pd.isna(x) else x)\n",
    "newData['new_cases_smoothed'] = newData['new_cases_smoothed'].apply(lambda x: 0 if pd.isna(x) else x)\n",
    "newData['new_deaths_smoothed'] = newData['new_deaths_smoothed'].apply(lambda x: 0 if pd.isna(x) else x)\n",
    "newData['total_cases_per_million'] = newData['total_cases_per_million'].apply(lambda x: 0 if pd.isna(x) else x)\n",
    "newData['total_deaths_per_million'] = newData['total_deaths_per_million'].apply(lambda x: 0 if pd.isna(x) else x)\n",
    "newData['new_cases_per_million'] = newData['new_cases_per_million'].apply(lambda x: 0 if pd.isna(x) else x)\n",
    "newData['new_deaths_per_million'] = newData['new_deaths_per_million'].apply(lambda x: 0 if pd.isna(x) else x)\n",
    "newData['new_cases_smoothed_per_million'] = newData['new_cases_smoothed_per_million'].apply(lambda x: 0 if pd.isna(x) else x)\n",
    "newData['new_deaths_smoothed_per_million'] = newData['new_deaths_smoothed_per_million'].apply(lambda x: 0 if pd.isna(x) else x)\n",
    "newData['total_tests'] = newData['total_tests'].apply(lambda x: 0 if pd.isna(x) else x)\n",
    "newData['new_tests'] = newData['new_tests'].apply(lambda x: 0 if pd.isna(x) else x)\n",
    "newData['total_tests_per_thousand'] = newData['total_tests_per_thousand'].apply(lambda x: 0 if pd.isna(x) else x)\n",
    "newData['new_tests_per_thousand'] = newData['new_tests_per_thousand'].apply(lambda x: 0 if pd.isna(x) else x)\n",
    "newData['new_tests_smoothed'] = newData['new_tests_smoothed'].apply(lambda x: 0 if pd.isna(x) else x)\n",
    "newData['new_tests_smoothed_per_thousand'] = newData['new_tests_smoothed_per_thousand'].apply(lambda x: 0 if pd.isna(x) else x)\n",
    "newData['tests_per_case'] = newData['tests_per_case'].apply(lambda x: 0 if pd.isna(x) else x) "
   ]
  },
  {
   "cell_type": "code",
   "execution_count": 17,
   "metadata": {
    "cell_id": "00038-65bc9633-64f8-4bd0-a21c-01b49bbc765d",
    "deepnote_cell_type": "code",
    "execution_millis": 19193,
    "execution_start": 1606190083478,
    "output_cleared": false,
    "source_hash": "4924c32a"
   },
   "outputs": [],
   "source": [
    "diabetes_prevalence_location = dict()\n",
    "cardiovasc_death_rate_location = dict()\n",
    "median_age_location = dict()\n",
    "handwashing_facilities_location = dict()\n",
    "hospital_beds_per_thousand_location = dict()\n",
    "life_expectancy_location = dict()\n",
    "stringency_index_location = dict()\n",
    "extreme_poverty_location = dict()\n",
    "\n",
    "for i in newData['location'].value_counts().index:\n",
    "    diabetes_prevalence_location[i] = newData[newData['location']==i]['diabetes_prevalence'].values[0]\n",
    "    cardiovasc_death_rate_location[i] = newData[newData['location']==i]['cardiovasc_death_rate'].values[0]\n",
    "    median_age_location[i] = newData[newData['location']==i]['median_age'].values[0]\n",
    "    handwashing_facilities_location[i] = newData[newData['location']==i]['handwashing_facilities'].values[0]\n",
    "    hospital_beds_per_thousand_location[i] = newData[newData['location']==i]['hospital_beds_per_thousand'].values[0]\n",
    "    life_expectancy_location[i] = newData[newData['location']==i]['life_expectancy'].values[0]\n",
    "    stringency_index_location[i] = newData[newData['location']==i]['stringency_index'].values[0]\n",
    "    extreme_poverty_location[i] = newData[newData['location']==i]['extreme_poverty'].values[0]\n",
    "    \n",
    "    if pd.isna(newData[newData['location']==i]['diabetes_prevalence'].values[0]):\n",
    "        diabetes_prevalence_location[i] = newData[newData['continent'] == newData[newData['location']==i]['continent'].values[0]]['diabetes_prevalence'].median()\n",
    "    if pd.isna(newData[newData['location']==i]['cardiovasc_death_rate'].values[0]):\n",
    "        cardiovasc_death_rate_location[i] = newData[newData['continent'] == newData[newData['location']==i]['continent'].values[0]]['cardiovasc_death_rate'].median()\n",
    "    if pd.isna(newData[newData['location']==i]['median_age'].values[0]):\n",
    "        median_age_location[i] = newData[newData['continent'] == newData[newData['location']==i]['continent'].values[0]]['median_age'].median() \n",
    "    if pd.isna(newData[newData['location']==i]['handwashing_facilities'].values[0]):\n",
    "        handwashing_facilities_location[i] = newData[newData['continent'] == newData[newData['location']==i]['continent'].values[0]]['handwashing_facilities'].mean() \n",
    "    if pd.isna(newData[newData['location']==i]['hospital_beds_per_thousand'].values[0]):\n",
    "        hospital_beds_per_thousand_location[i] = newData[newData['continent'] == newData[newData['location']==i]['continent'].values[0]]['hospital_beds_per_thousand'].mean()\n",
    "    if pd.isna(newData[newData['location']==i]['life_expectancy'].values[0]):\n",
    "        life_expectancy_location[i] = newData[newData['continent'] == newData[newData['location']==i]['continent'].values[0]]['life_expectancy'].median()\n",
    "    if pd.isna(newData[newData['location']==i]['stringency_index'].values[0]):\n",
    "        stringency_index_location[i] = newData[newData['continent'] == newData[newData['location']==i]['continent'].values[0]]['stringency_index'].mean()\n",
    "    if pd.isna(newData[newData['location']==i]['extreme_poverty'].values[0]):\n",
    "        extreme_poverty_location[i] = newData[newData['continent'] == newData[newData['location']==i]['continent'].values[0]]['extreme_poverty'].mean()\n",
    "\n",
    "stringency_index_location.pop('World')\n",
    "stringency_index_location['World'] = sum(stringency_index_location.values())/len(stringency_index_location)"
   ]
  },
  {
   "cell_type": "code",
   "execution_count": 18,
   "metadata": {
    "cell_id": "00039-562c3687-01e7-4067-99b5-806a50a4d80f",
    "deepnote_cell_type": "code",
    "execution_millis": 107,
    "execution_start": 1606190102714,
    "output_cleared": false,
    "source_hash": "1f62eee8"
   },
   "outputs": [],
   "source": [
    "newData['diabetes_prevalence'] = newData['location'].apply(lambda x:  diabetes_prevalence_location[x])  \n",
    "newData['cardiovasc_death_rate'] = newData['location'].apply(lambda x:  cardiovasc_death_rate_location[x])  \n",
    "newData['median_age'] = newData['location'].apply(lambda x:  median_age_location[x])  \n",
    "newData['handwashing_facilities'] = newData['location'].apply(lambda x:  handwashing_facilities_location[x])  \n",
    "newData['hospital_beds_per_thousand'] = newData['location'].apply(lambda x:  hospital_beds_per_thousand_location[x])  \n",
    "newData['life_expectancy'] = newData['location'].apply(lambda x:  life_expectancy_location[x])  \n",
    "newData['stringency_index'] = newData['location'].apply(lambda x:  stringency_index_location[x])  \n",
    "newData['extreme_poverty'] = newData['location'].apply(lambda x:  extreme_poverty_location[x])\n",
    "newData['stringency_index'] = newData['location'].apply(lambda x:  stringency_index_location[x])"
   ]
  },
  {
   "cell_type": "code",
   "execution_count": 19,
   "metadata": {
    "cell_id": "00040-68ae1675-5b44-4ebd-947b-44405a3f443a",
    "deepnote_cell_type": "code",
    "execution_millis": 15,
    "execution_start": 1606190102826,
    "output_cleared": false,
    "source_hash": "6a82befe"
   },
   "outputs": [],
   "source": [
    "newData.drop(newData[newData['new_deaths_smoothed'] < 0].index, inplace = True) "
   ]
  },
  {
   "cell_type": "code",
   "execution_count": 20,
   "metadata": {
    "cell_id": "00041-b3d1aa4b-41ff-4f80-8d15-9acd5cde3d29",
    "deepnote_cell_type": "code",
    "execution_millis": 24,
    "execution_start": 1606190102847,
    "output_cleared": false,
    "source_hash": "bcbd0c7a"
   },
   "outputs": [
    {
     "name": "stdout",
     "output_type": "stream",
     "text": [
      "<class 'pandas.core.frame.DataFrame'>\n",
      "Int64Index: 56631 entries, 10925 to 54571\n",
      "Data columns (total 37 columns):\n",
      "id                                 56631 non-null int64\n",
      "iso_code                           56631 non-null object\n",
      "continent                          56631 non-null object\n",
      "location                           56631 non-null object\n",
      "population                         56631 non-null float64\n",
      "human_development_index            56631 non-null float64\n",
      "gdp_per_capita                     56631 non-null float64\n",
      "date                               56631 non-null object\n",
      "total_cases                        56631 non-null float64\n",
      "total_deaths                       56631 non-null float64\n",
      "new_cases                          56631 non-null float64\n",
      "new_deaths                         56631 non-null float64\n",
      "new_cases_smoothed                 56631 non-null float64\n",
      "new_deaths_smoothed                56631 non-null float64\n",
      "total_cases_per_million            56631 non-null float64\n",
      "total_deaths_per_million           56631 non-null float64\n",
      "new_cases_per_million              56631 non-null float64\n",
      "new_deaths_per_million             56631 non-null float64\n",
      "new_cases_smoothed_per_million     56631 non-null float64\n",
      "new_deaths_smoothed_per_million    56631 non-null float64\n",
      "diabetes_prevalence                56631 non-null float64\n",
      "cardiovasc_death_rate              56631 non-null float64\n",
      "median_age                         56631 non-null float64\n",
      "handwashing_facilities             56631 non-null float64\n",
      "hospital_beds_per_thousand         56631 non-null float64\n",
      "life_expectancy                    56631 non-null float64\n",
      "stringency_index                   56631 non-null float64\n",
      "total_tests                        56631 non-null float64\n",
      "new_tests                          56631 non-null float64\n",
      "total_tests_per_thousand           56631 non-null float64\n",
      "new_tests_per_thousand             56631 non-null float64\n",
      "new_tests_smoothed                 56631 non-null float64\n",
      "new_tests_smoothed_per_thousand    56631 non-null float64\n",
      "tests_per_case                     56631 non-null float64\n",
      "extreme_poverty                    56631 non-null float64\n",
      "train_data                         56631 non-null int64\n",
      "date_to_integer                    56631 non-null float64\n",
      "dtypes: float64(31), int64(2), object(4)\n",
      "memory usage: 16.4+ MB\n"
     ]
    }
   ],
   "source": [
    "newData.info()"
   ]
  },
  {
   "cell_type": "code",
   "execution_count": 21,
   "metadata": {
    "cell_id": "00042-dedc4f4d-f38c-461d-9197-bebd2f1fc161",
    "deepnote_cell_type": "code",
    "execution_millis": 173,
    "execution_start": 1606190102884,
    "output_cleared": false,
    "source_hash": "fb7d00a9"
   },
   "outputs": [
    {
     "data": {
      "text/plain": [
       "(45188, 240)"
      ]
     },
     "execution_count": 21,
     "metadata": {},
     "output_type": "execute_result"
    }
   ],
   "source": [
    "all_dummies = pd.get_dummies(newData[['location','date_to_integer','train_data','population', 'human_development_index', 'gdp_per_capita',\n",
    "       'total_cases', 'total_deaths', 'new_cases',\n",
    "       'new_cases_smoothed', 'total_cases_per_million', 'new_cases_per_million', 'new_cases_smoothed_per_million', 'diabetes_prevalence',\n",
    "       'cardiovasc_death_rate', 'median_age', 'handwashing_facilities',\n",
    "       'hospital_beds_per_thousand', 'life_expectancy', 'stringency_index',\n",
    "       'total_tests', 'new_tests', 'total_tests_per_thousand',\n",
    "       'new_tests_per_thousand', 'new_tests_smoothed',\n",
    "       'new_tests_smoothed_per_thousand', 'tests_per_case', 'extreme_poverty']])\n",
    "\n",
    "X_train = all_dummies[all_dummies['train_data']==1].drop(['train_data'],axis=1).drop(['total_deaths'],axis=1)\n",
    "X_test = all_dummies[all_dummies['train_data']==0].drop(['train_data'],axis=1).drop(['total_deaths'],axis=1)\n",
    "\n",
    "Y_train = newData[newData['train_data']==1]['total_deaths']\n",
    "Y_test = newData[newData['train_data']==0]['total_deaths']\n",
    "# Y_train = Y_train.astype('int')\n",
    "# Y_test = Y_test.astype('int')\n",
    "X_train.shape"
   ]
  },
  {
   "cell_type": "code",
   "execution_count": 22,
   "metadata": {
    "cell_id": "00043-bfd22fe9-2422-4c33-b8ea-3c9d02280e89",
    "deepnote_cell_type": "code",
    "execution_millis": 342,
    "execution_start": 1606190103063,
    "output_cleared": false,
    "source_hash": "e0c32994"
   },
   "outputs": [],
   "source": [
    "## Scale the data for our model\n",
    "from sklearn.preprocessing import StandardScaler\n",
    "scale = StandardScaler()\n",
    "all_dummies_scaled = all_dummies.copy()\n",
    "all_dummies_scaled[['date_to_integer','train_data','population', 'human_development_index', 'gdp_per_capita',\n",
    "       'total_cases', 'total_deaths', 'new_cases',\n",
    "       'new_cases_smoothed', 'total_cases_per_million', 'new_cases_per_million', 'new_cases_smoothed_per_million', 'diabetes_prevalence',\n",
    "       'cardiovasc_death_rate', 'median_age', 'handwashing_facilities',\n",
    "       'hospital_beds_per_thousand', 'life_expectancy', 'stringency_index',\n",
    "       'total_tests', 'new_tests', 'total_tests_per_thousand',\n",
    "       'new_tests_per_thousand', 'new_tests_smoothed',\n",
    "       'new_tests_smoothed_per_thousand', 'tests_per_case', 'extreme_poverty']]= scale.fit_transform(all_dummies_scaled[['date_to_integer','train_data','population', 'human_development_index', 'gdp_per_capita',\n",
    "       'total_cases', 'total_deaths', 'new_cases',\n",
    "       'new_cases_smoothed', 'total_cases_per_million', 'new_cases_per_million', 'new_cases_smoothed_per_million', 'diabetes_prevalence',\n",
    "       'cardiovasc_death_rate', 'median_age', 'handwashing_facilities',\n",
    "       'hospital_beds_per_thousand', 'life_expectancy', 'stringency_index',\n",
    "       'total_tests', 'new_tests', 'total_tests_per_thousand',\n",
    "       'new_tests_per_thousand', 'new_tests_smoothed',\n",
    "       'new_tests_smoothed_per_thousand', 'tests_per_case', 'extreme_poverty']])\n",
    "\n",
    "X_train_scaled = all_dummies_scaled[all_dummies_scaled['train_data'] == 1].drop(['train_data'],axis=1).drop(['total_deaths'],axis=1)\n",
    "X_test_scaled = all_dummies_scaled[all_dummies_scaled['train_data'] == 0].drop(['train_data'],axis=1).drop(['total_deaths'],axis=1)\n",
    "\n",
    "Y_train_scaled = all_dummies_scaled[all_dummies_scaled['train_data']==1]['total_deaths']\n",
    "Y_test_scaled = all_dummies_scaled[all_dummies_scaled['train_data']==0]['total_deaths']\n",
    "Y_train_scaled = Y_train_scaled.astype('int')\n",
    "Y_test_scaled = Y_test_scaled.astype('int')"
   ]
  },
  {
   "cell_type": "code",
   "execution_count": 23,
   "metadata": {},
   "outputs": [
    {
     "data": {
      "text/plain": [
       "(65, 240)"
      ]
     },
     "execution_count": 23,
     "metadata": {},
     "output_type": "execute_result"
    }
   ],
   "source": [
    "Indonesia_dummies = all_dummies[all_dummies['location_Indonesia']==1]\n",
    "\n",
    "X_Indonesia = Indonesia_dummies.drop(['train_data'],axis=1).drop(['total_deaths'],axis=1)\n",
    "Y_Indonesia = newData[newData['location']=='Indonesia']['total_deaths']\n",
    "\n",
    "X_train_Indonesia = Indonesia_dummies[Indonesia_dummies['train_data']==1].drop(['train_data'],axis=1).drop(['total_deaths'],axis=1)\n",
    "X_test_Indonesia = Indonesia_dummies[Indonesia_dummies['train_data']==0].drop(['train_data'],axis=1).drop(['total_deaths'],axis=1)\n",
    "\n",
    "Y_train_Indonesia = newData[newData['train_data']==1][newData[newData['train_data']==1][\"location\"]==\"Indonesia\"]['total_deaths']\n",
    "Y_test_Indonesia = newData[newData['train_data']==0][newData[newData['train_data']==0][\"location\"]==\"Indonesia\"]['total_deaths']\n",
    "\n",
    "X_test_Indonesia.shape"
   ]
  },
  {
   "cell_type": "code",
   "execution_count": 24,
   "metadata": {
    "cell_id": "00044-2c1feeb2-a845-4581-97ee-69c2d8c1a79a",
    "deepnote_cell_type": "code",
    "execution_millis": 460,
    "execution_start": 1606190103408,
    "output_cleared": false,
    "source_hash": "84e8ce6b"
   },
   "outputs": [
    {
     "data": {
      "text/html": [
       "<div>\n",
       "<style scoped>\n",
       "    .dataframe tbody tr th:only-of-type {\n",
       "        vertical-align: middle;\n",
       "    }\n",
       "\n",
       "    .dataframe tbody tr th {\n",
       "        vertical-align: top;\n",
       "    }\n",
       "\n",
       "    .dataframe thead th {\n",
       "        text-align: right;\n",
       "    }\n",
       "</style>\n",
       "<table border=\"1\" class=\"dataframe\">\n",
       "  <thead>\n",
       "    <tr style=\"text-align: right;\">\n",
       "      <th></th>\n",
       "      <th>date_to_integer</th>\n",
       "      <th>population</th>\n",
       "      <th>human_development_index</th>\n",
       "      <th>gdp_per_capita</th>\n",
       "      <th>total_cases</th>\n",
       "      <th>new_cases</th>\n",
       "      <th>new_cases_smoothed</th>\n",
       "      <th>total_cases_per_million</th>\n",
       "      <th>new_cases_per_million</th>\n",
       "      <th>new_cases_smoothed_per_million</th>\n",
       "      <th>...</th>\n",
       "      <th>location_Vanuatu</th>\n",
       "      <th>location_Vatican</th>\n",
       "      <th>location_Venezuela</th>\n",
       "      <th>location_Vietnam</th>\n",
       "      <th>location_Wallis and Futuna</th>\n",
       "      <th>location_Western Sahara</th>\n",
       "      <th>location_World</th>\n",
       "      <th>location_Yemen</th>\n",
       "      <th>location_Zambia</th>\n",
       "      <th>location_Zimbabwe</th>\n",
       "    </tr>\n",
       "  </thead>\n",
       "  <tbody>\n",
       "    <tr>\n",
       "      <td>10925</td>\n",
       "      <td>20191231.0</td>\n",
       "      <td>1.439324e+09</td>\n",
       "      <td>0.752</td>\n",
       "      <td>15308.712</td>\n",
       "      <td>27.0</td>\n",
       "      <td>27.0</td>\n",
       "      <td>0.0</td>\n",
       "      <td>0.019</td>\n",
       "      <td>0.019</td>\n",
       "      <td>0.0</td>\n",
       "      <td>...</td>\n",
       "      <td>0</td>\n",
       "      <td>0</td>\n",
       "      <td>0</td>\n",
       "      <td>0</td>\n",
       "      <td>0</td>\n",
       "      <td>0</td>\n",
       "      <td>0</td>\n",
       "      <td>0</td>\n",
       "      <td>0</td>\n",
       "      <td>0</td>\n",
       "    </tr>\n",
       "    <tr>\n",
       "      <td>10926</td>\n",
       "      <td>20200101.0</td>\n",
       "      <td>1.439324e+09</td>\n",
       "      <td>0.752</td>\n",
       "      <td>15308.712</td>\n",
       "      <td>27.0</td>\n",
       "      <td>0.0</td>\n",
       "      <td>0.0</td>\n",
       "      <td>0.019</td>\n",
       "      <td>0.000</td>\n",
       "      <td>0.0</td>\n",
       "      <td>...</td>\n",
       "      <td>0</td>\n",
       "      <td>0</td>\n",
       "      <td>0</td>\n",
       "      <td>0</td>\n",
       "      <td>0</td>\n",
       "      <td>0</td>\n",
       "      <td>0</td>\n",
       "      <td>0</td>\n",
       "      <td>0</td>\n",
       "      <td>0</td>\n",
       "    </tr>\n",
       "    <tr>\n",
       "      <td>10927</td>\n",
       "      <td>20200102.0</td>\n",
       "      <td>1.439324e+09</td>\n",
       "      <td>0.752</td>\n",
       "      <td>15308.712</td>\n",
       "      <td>27.0</td>\n",
       "      <td>0.0</td>\n",
       "      <td>0.0</td>\n",
       "      <td>0.019</td>\n",
       "      <td>0.000</td>\n",
       "      <td>0.0</td>\n",
       "      <td>...</td>\n",
       "      <td>0</td>\n",
       "      <td>0</td>\n",
       "      <td>0</td>\n",
       "      <td>0</td>\n",
       "      <td>0</td>\n",
       "      <td>0</td>\n",
       "      <td>0</td>\n",
       "      <td>0</td>\n",
       "      <td>0</td>\n",
       "      <td>0</td>\n",
       "    </tr>\n",
       "    <tr>\n",
       "      <td>10928</td>\n",
       "      <td>20200103.0</td>\n",
       "      <td>1.439324e+09</td>\n",
       "      <td>0.752</td>\n",
       "      <td>15308.712</td>\n",
       "      <td>44.0</td>\n",
       "      <td>17.0</td>\n",
       "      <td>0.0</td>\n",
       "      <td>0.031</td>\n",
       "      <td>0.012</td>\n",
       "      <td>0.0</td>\n",
       "      <td>...</td>\n",
       "      <td>0</td>\n",
       "      <td>0</td>\n",
       "      <td>0</td>\n",
       "      <td>0</td>\n",
       "      <td>0</td>\n",
       "      <td>0</td>\n",
       "      <td>0</td>\n",
       "      <td>0</td>\n",
       "      <td>0</td>\n",
       "      <td>0</td>\n",
       "    </tr>\n",
       "    <tr>\n",
       "      <td>10929</td>\n",
       "      <td>20200104.0</td>\n",
       "      <td>1.439324e+09</td>\n",
       "      <td>0.752</td>\n",
       "      <td>15308.712</td>\n",
       "      <td>44.0</td>\n",
       "      <td>0.0</td>\n",
       "      <td>0.0</td>\n",
       "      <td>0.031</td>\n",
       "      <td>0.000</td>\n",
       "      <td>0.0</td>\n",
       "      <td>...</td>\n",
       "      <td>0</td>\n",
       "      <td>0</td>\n",
       "      <td>0</td>\n",
       "      <td>0</td>\n",
       "      <td>0</td>\n",
       "      <td>0</td>\n",
       "      <td>0</td>\n",
       "      <td>0</td>\n",
       "      <td>0</td>\n",
       "      <td>0</td>\n",
       "    </tr>\n",
       "    <tr>\n",
       "      <td>...</td>\n",
       "      <td>...</td>\n",
       "      <td>...</td>\n",
       "      <td>...</td>\n",
       "      <td>...</td>\n",
       "      <td>...</td>\n",
       "      <td>...</td>\n",
       "      <td>...</td>\n",
       "      <td>...</td>\n",
       "      <td>...</td>\n",
       "      <td>...</td>\n",
       "      <td>...</td>\n",
       "      <td>...</td>\n",
       "      <td>...</td>\n",
       "      <td>...</td>\n",
       "      <td>...</td>\n",
       "      <td>...</td>\n",
       "      <td>...</td>\n",
       "      <td>...</td>\n",
       "      <td>...</td>\n",
       "      <td>...</td>\n",
       "      <td>...</td>\n",
       "    </tr>\n",
       "    <tr>\n",
       "      <td>32989</td>\n",
       "      <td>20201111.0</td>\n",
       "      <td>5.919400e+04</td>\n",
       "      <td>0.708</td>\n",
       "      <td>3819.202</td>\n",
       "      <td>1.0</td>\n",
       "      <td>0.0</td>\n",
       "      <td>0.0</td>\n",
       "      <td>16.894</td>\n",
       "      <td>0.000</td>\n",
       "      <td>0.0</td>\n",
       "      <td>...</td>\n",
       "      <td>0</td>\n",
       "      <td>0</td>\n",
       "      <td>0</td>\n",
       "      <td>0</td>\n",
       "      <td>0</td>\n",
       "      <td>0</td>\n",
       "      <td>0</td>\n",
       "      <td>0</td>\n",
       "      <td>0</td>\n",
       "      <td>0</td>\n",
       "    </tr>\n",
       "    <tr>\n",
       "      <td>54567</td>\n",
       "      <td>20201111.0</td>\n",
       "      <td>3.071500e+05</td>\n",
       "      <td>0.603</td>\n",
       "      <td>2921.909</td>\n",
       "      <td>1.0</td>\n",
       "      <td>1.0</td>\n",
       "      <td>0.0</td>\n",
       "      <td>3.256</td>\n",
       "      <td>3.256</td>\n",
       "      <td>0.0</td>\n",
       "      <td>...</td>\n",
       "      <td>1</td>\n",
       "      <td>0</td>\n",
       "      <td>0</td>\n",
       "      <td>0</td>\n",
       "      <td>0</td>\n",
       "      <td>0</td>\n",
       "      <td>0</td>\n",
       "      <td>0</td>\n",
       "      <td>0</td>\n",
       "      <td>0</td>\n",
       "    </tr>\n",
       "    <tr>\n",
       "      <td>54568</td>\n",
       "      <td>20201112.0</td>\n",
       "      <td>3.071500e+05</td>\n",
       "      <td>0.603</td>\n",
       "      <td>2921.909</td>\n",
       "      <td>1.0</td>\n",
       "      <td>0.0</td>\n",
       "      <td>0.0</td>\n",
       "      <td>3.256</td>\n",
       "      <td>0.000</td>\n",
       "      <td>0.0</td>\n",
       "      <td>...</td>\n",
       "      <td>1</td>\n",
       "      <td>0</td>\n",
       "      <td>0</td>\n",
       "      <td>0</td>\n",
       "      <td>0</td>\n",
       "      <td>0</td>\n",
       "      <td>0</td>\n",
       "      <td>0</td>\n",
       "      <td>0</td>\n",
       "      <td>0</td>\n",
       "    </tr>\n",
       "    <tr>\n",
       "      <td>54569</td>\n",
       "      <td>20201113.0</td>\n",
       "      <td>3.071500e+05</td>\n",
       "      <td>0.603</td>\n",
       "      <td>2921.909</td>\n",
       "      <td>1.0</td>\n",
       "      <td>0.0</td>\n",
       "      <td>0.0</td>\n",
       "      <td>3.256</td>\n",
       "      <td>0.000</td>\n",
       "      <td>0.0</td>\n",
       "      <td>...</td>\n",
       "      <td>1</td>\n",
       "      <td>0</td>\n",
       "      <td>0</td>\n",
       "      <td>0</td>\n",
       "      <td>0</td>\n",
       "      <td>0</td>\n",
       "      <td>0</td>\n",
       "      <td>0</td>\n",
       "      <td>0</td>\n",
       "      <td>0</td>\n",
       "    </tr>\n",
       "    <tr>\n",
       "      <td>54570</td>\n",
       "      <td>20201114.0</td>\n",
       "      <td>3.071500e+05</td>\n",
       "      <td>0.603</td>\n",
       "      <td>2921.909</td>\n",
       "      <td>1.0</td>\n",
       "      <td>0.0</td>\n",
       "      <td>0.0</td>\n",
       "      <td>3.256</td>\n",
       "      <td>0.000</td>\n",
       "      <td>0.0</td>\n",
       "      <td>...</td>\n",
       "      <td>1</td>\n",
       "      <td>0</td>\n",
       "      <td>0</td>\n",
       "      <td>0</td>\n",
       "      <td>0</td>\n",
       "      <td>0</td>\n",
       "      <td>0</td>\n",
       "      <td>0</td>\n",
       "      <td>0</td>\n",
       "      <td>0</td>\n",
       "    </tr>\n",
       "  </tbody>\n",
       "</table>\n",
       "<p>45188 rows × 240 columns</p>\n",
       "</div>"
      ],
      "text/plain": [
       "       date_to_integer    population  human_development_index  gdp_per_capita  \\\n",
       "10925       20191231.0  1.439324e+09                    0.752       15308.712   \n",
       "10926       20200101.0  1.439324e+09                    0.752       15308.712   \n",
       "10927       20200102.0  1.439324e+09                    0.752       15308.712   \n",
       "10928       20200103.0  1.439324e+09                    0.752       15308.712   \n",
       "10929       20200104.0  1.439324e+09                    0.752       15308.712   \n",
       "...                ...           ...                      ...             ...   \n",
       "32989       20201111.0  5.919400e+04                    0.708        3819.202   \n",
       "54567       20201111.0  3.071500e+05                    0.603        2921.909   \n",
       "54568       20201112.0  3.071500e+05                    0.603        2921.909   \n",
       "54569       20201113.0  3.071500e+05                    0.603        2921.909   \n",
       "54570       20201114.0  3.071500e+05                    0.603        2921.909   \n",
       "\n",
       "       total_cases  new_cases  new_cases_smoothed  total_cases_per_million  \\\n",
       "10925         27.0       27.0                 0.0                    0.019   \n",
       "10926         27.0        0.0                 0.0                    0.019   \n",
       "10927         27.0        0.0                 0.0                    0.019   \n",
       "10928         44.0       17.0                 0.0                    0.031   \n",
       "10929         44.0        0.0                 0.0                    0.031   \n",
       "...            ...        ...                 ...                      ...   \n",
       "32989          1.0        0.0                 0.0                   16.894   \n",
       "54567          1.0        1.0                 0.0                    3.256   \n",
       "54568          1.0        0.0                 0.0                    3.256   \n",
       "54569          1.0        0.0                 0.0                    3.256   \n",
       "54570          1.0        0.0                 0.0                    3.256   \n",
       "\n",
       "       new_cases_per_million  new_cases_smoothed_per_million  ...  \\\n",
       "10925                  0.019                             0.0  ...   \n",
       "10926                  0.000                             0.0  ...   \n",
       "10927                  0.000                             0.0  ...   \n",
       "10928                  0.012                             0.0  ...   \n",
       "10929                  0.000                             0.0  ...   \n",
       "...                      ...                             ...  ...   \n",
       "32989                  0.000                             0.0  ...   \n",
       "54567                  3.256                             0.0  ...   \n",
       "54568                  0.000                             0.0  ...   \n",
       "54569                  0.000                             0.0  ...   \n",
       "54570                  0.000                             0.0  ...   \n",
       "\n",
       "       location_Vanuatu  location_Vatican  location_Venezuela  \\\n",
       "10925                 0                 0                   0   \n",
       "10926                 0                 0                   0   \n",
       "10927                 0                 0                   0   \n",
       "10928                 0                 0                   0   \n",
       "10929                 0                 0                   0   \n",
       "...                 ...               ...                 ...   \n",
       "32989                 0                 0                   0   \n",
       "54567                 1                 0                   0   \n",
       "54568                 1                 0                   0   \n",
       "54569                 1                 0                   0   \n",
       "54570                 1                 0                   0   \n",
       "\n",
       "       location_Vietnam  location_Wallis and Futuna  location_Western Sahara  \\\n",
       "10925                 0                           0                        0   \n",
       "10926                 0                           0                        0   \n",
       "10927                 0                           0                        0   \n",
       "10928                 0                           0                        0   \n",
       "10929                 0                           0                        0   \n",
       "...                 ...                         ...                      ...   \n",
       "32989                 0                           0                        0   \n",
       "54567                 0                           0                        0   \n",
       "54568                 0                           0                        0   \n",
       "54569                 0                           0                        0   \n",
       "54570                 0                           0                        0   \n",
       "\n",
       "       location_World  location_Yemen  location_Zambia  location_Zimbabwe  \n",
       "10925               0               0                0                  0  \n",
       "10926               0               0                0                  0  \n",
       "10927               0               0                0                  0  \n",
       "10928               0               0                0                  0  \n",
       "10929               0               0                0                  0  \n",
       "...               ...             ...              ...                ...  \n",
       "32989               0               0                0                  0  \n",
       "54567               0               0                0                  0  \n",
       "54568               0               0                0                  0  \n",
       "54569               0               0                0                  0  \n",
       "54570               0               0                0                  0  \n",
       "\n",
       "[45188 rows x 240 columns]"
      ]
     },
     "execution_count": 24,
     "metadata": {},
     "output_type": "execute_result"
    }
   ],
   "source": [
    "X_train"
   ]
  },
  {
   "cell_type": "code",
   "execution_count": 25,
   "metadata": {
    "cell_id": "00045-a09d7758-8d30-4db4-aeda-7b3294cc7fe1",
    "deepnote_cell_type": "code",
    "execution_millis": 4,
    "execution_start": 1606190103873,
    "output_cleared": false,
    "source_hash": "d061965e"
   },
   "outputs": [
    {
     "data": {
      "text/plain": [
       "10925    0.0\n",
       "10926    0.0\n",
       "10927    0.0\n",
       "10928    0.0\n",
       "10929    0.0\n",
       "        ... \n",
       "32989    0.0\n",
       "54567    0.0\n",
       "54568    0.0\n",
       "54569    0.0\n",
       "54570    0.0\n",
       "Name: total_deaths, Length: 45188, dtype: float64"
      ]
     },
     "execution_count": 25,
     "metadata": {},
     "output_type": "execute_result"
    }
   ],
   "source": [
    "Y_train"
   ]
  },
  {
   "cell_type": "markdown",
   "metadata": {
    "cell_id": "00046-1bac5523-a054-4f7c-9498-c1df7fc89212",
    "deepnote_cell_type": "markdown"
   },
   "source": [
    "## Model Building & Evaluation"
   ]
  },
  {
   "cell_type": "code",
   "execution_count": 26,
   "metadata": {
    "cell_id": "00047-d0b2cb3e-63ec-4f6f-b741-ffbc9f4e03a3",
    "deepnote_cell_type": "code",
    "execution_millis": 23,
    "execution_start": 1606190103877,
    "output_cleared": false,
    "source_hash": "ad8c239"
   },
   "outputs": [],
   "source": [
    "from sklearn.model_selection import cross_val_score\n",
    "from sklearn.metrics import explained_variance_score\n",
    "\n",
    "from sklearn.linear_model import Ridge\n",
    "from sklearn.ensemble import GradientBoostingRegressor\n",
    "from sklearn.linear_model import LinearRegression\n",
    "from sklearn.linear_model import Lasso"
   ]
  },
  {
   "cell_type": "code",
   "execution_count": null,
   "metadata": {
    "cell_id": "00050-f30e57fb-bd75-4243-abea-158408322131",
    "deepnote_cell_type": "code",
    "execution_millis": 1033,
    "execution_start": 1606185416390,
    "output_cleared": false,
    "source_hash": "e59b4461"
   },
   "outputs": [],
   "source": [
    "linear = LinearRegression()\n",
    "\n",
    "linear.fit(X_train,Y_train)\n",
    "y_pred_linear = linear.predict(X_test)\n",
    "\n",
    "explained_variance_score(Y_test, y_pred_linear, multioutput='uniform_average')"
   ]
  },
  {
   "cell_type": "code",
   "execution_count": null,
   "metadata": {
    "cell_id": "00051-fa2f0946-c552-4f7e-b199-1158e1c3f80e",
    "deepnote_cell_type": "code",
    "execution_millis": 120884,
    "execution_start": 1606185420426,
    "output_cleared": false,
    "source_hash": "d64e422c"
   },
   "outputs": [],
   "source": [
    "gradient = GradientBoostingRegressor(n_estimators = 400, max_depth = 5, min_samples_split = 2,\n",
    "          learning_rate = 0.1, loss = 'ls')\n",
    "\n",
    "gradient.fit(X_train,Y_train)\n",
    "y_pred_gradient = gradient.predict(X_test)\n",
    "\n",
    "explained_variance_score(Y_test, y_pred_gradient, multioutput='uniform_average')"
   ]
  },
  {
   "cell_type": "code",
   "execution_count": null,
   "metadata": {
    "cell_id": "00052-4b2d5d6c-063f-47c9-8157-f4420fe4efc9",
    "deepnote_cell_type": "code",
    "execution_millis": 0,
    "execution_start": 1606190151674,
    "output_cleared": false,
    "scrolled": true,
    "source_hash": "c8cb8c0d"
   },
   "outputs": [],
   "source": [
    "ridge = Ridge()\n",
    "\n",
    "ridge.fit(X_train,Y_train)\n",
    "y_pred_ridge = ridge.predict(X_test)\n",
    "\n",
    "explained_variance_score(Y_test, y_pred_ridge, multioutput='uniform_average')"
   ]
  },
  {
   "cell_type": "code",
   "execution_count": null,
   "metadata": {},
   "outputs": [],
   "source": [
    "lasso = Lasso()\n",
    "\n",
    "lasso.fit(X_train,Y_train)\n",
    "y_pred_lasso = lasso.predict(X_test)\n",
    "\n",
    "explained_variance_score(Y_test, y_pred_lasso, multioutput='uniform_average')"
   ]
  },
  {
   "cell_type": "markdown",
   "metadata": {},
   "source": [
    "## Model Saving (Without Tuning)"
   ]
  },
  {
   "cell_type": "code",
   "execution_count": null,
   "metadata": {},
   "outputs": [],
   "source": [
    "pickle.dump(linear, open('linear_model', 'wb'))\n",
    "pickle.dump(gradient, open('gradient_model', 'wb'))\n",
    "pickle.dump(ridge, open('ridge_model', 'wb'))\n",
    "pickle.dump(lasso, open('lasso_model', 'wb'))"
   ]
  },
  {
   "cell_type": "markdown",
   "metadata": {},
   "source": [
    "## Model Loading (Without Tuning)"
   ]
  },
  {
   "cell_type": "code",
   "execution_count": null,
   "metadata": {},
   "outputs": [],
   "source": [
    "linear = pickle.load(open('linear_model', 'rb'))\n",
    "gradient = pickle.load(open('gradient_model', 'rb'))\n",
    "ridge = pickle.load(open('ridge_model', 'rb'))\n",
    "lasso = pickle.load(open('lasso_model', 'rb'))"
   ]
  },
  {
   "cell_type": "markdown",
   "metadata": {},
   "source": [
    "\n",
    "\n",
    "## Model Tuning & Evaluation"
   ]
  },
  {
   "cell_type": "code",
   "execution_count": 1,
   "metadata": {
    "cell_id": "00057-2914d1c0-8641-44e1-ace4-41e392d37b16",
    "deepnote_cell_type": "code",
    "execution_millis": 1,
    "execution_start": 1606144345633,
    "output_cleared": false,
    "source_hash": "53cdea25"
   },
   "outputs": [],
   "source": [
    "from sklearn.model_selection import GridSearchCV \n",
    "from sklearn.model_selection import RandomizedSearchCV "
   ]
  },
  {
   "cell_type": "code",
   "execution_count": 2,
   "metadata": {
    "cell_id": "00058-d381137c-6706-46fa-9896-90b28d1bdd18",
    "deepnote_cell_type": "code",
    "execution_millis": 0,
    "execution_start": 1606144356637,
    "output_cleared": false,
    "source_hash": "bcb7ccba"
   },
   "outputs": [],
   "source": [
    "def clf_performance(classifier, model_name):\n",
    "    print(model_name)\n",
    "    print('Best Parameters: ' + str(classifier.best_params_))"
   ]
  },
  {
   "cell_type": "code",
   "execution_count": 57,
   "metadata": {
    "cell_id": "00060-fcbca0a4-2caf-4501-9551-99d2b2907e5e",
    "deepnote_cell_type": "code",
    "execution_millis": 945,
    "execution_start": 1606144369895,
    "output_cleared": false,
    "source_hash": "adf9c54c"
   },
   "outputs": [
    {
     "name": "stdout",
     "output_type": "stream",
     "text": [
      "Fitting 3 folds for each of 8 candidates, totalling 24 fits\n"
     ]
    },
    {
     "name": "stderr",
     "output_type": "stream",
     "text": [
      "/opt/anaconda3/lib/python3.7/site-packages/sklearn/model_selection/_split.py:1978: FutureWarning: The default value of cv will change from 3 to 5 in version 0.22. Specify it explicitly to silence this warning.\n",
      "  warnings.warn(CV_WARNING, FutureWarning)\n",
      "[Parallel(n_jobs=-1)]: Using backend LokyBackend with 12 concurrent workers.\n",
      "[Parallel(n_jobs=-1)]: Done  24 out of  24 | elapsed:    8.6s finished\n"
     ]
    },
    {
     "name": "stdout",
     "output_type": "stream",
     "text": [
      "Linear Regression\n",
      "Best Parameters: {'copy_X': True, 'fit_intercept': True, 'normalize': False}\n"
     ]
    }
   ],
   "source": [
    "linear = LinearRegression()\n",
    "param_grid = {'fit_intercept':[True,False],\n",
    "              'normalize':[True,False],\n",
    "              'copy_X':[True,False],\n",
    "}\n",
    "clf_linear = GridSearchCV(linear, param_grid = param_grid , verbose = True , n_jobs = -1)\n",
    "best_clf_linear = clf_linear.fit(X_train,Y_train)\n",
    "clf_performance(best_clf_linear,'Linear Regression')"
   ]
  },
  {
   "cell_type": "code",
   "execution_count": 28,
   "metadata": {
    "cell_id": "00061-3ac530be-bb91-42df-973b-7a8b5e1eb3f5",
    "deepnote_cell_type": "code",
    "execution_millis": 914559,
    "execution_start": 1606144917754,
    "output_cleared": false,
    "source_hash": "1becc1af"
   },
   "outputs": [
    {
     "name": "stderr",
     "output_type": "stream",
     "text": [
      "/opt/anaconda3/lib/python3.7/site-packages/sklearn/model_selection/_split.py:1978: FutureWarning: The default value of cv will change from 3 to 5 in version 0.22. Specify it explicitly to silence this warning.\n",
      "  warnings.warn(CV_WARNING, FutureWarning)\n",
      "[Parallel(n_jobs=-1)]: Using backend LokyBackend with 12 concurrent workers.\n"
     ]
    },
    {
     "name": "stdout",
     "output_type": "stream",
     "text": [
      "Fitting 3 folds for each of 1024 candidates, totalling 3072 fits\n"
     ]
    },
    {
     "ename": "KeyboardInterrupt",
     "evalue": "",
     "output_type": "error",
     "traceback": [
      "\u001b[0;31m---------------------------------------------------------------------------\u001b[0m",
      "\u001b[0;31mKeyboardInterrupt\u001b[0m                         Traceback (most recent call last)",
      "\u001b[0;32m<ipython-input-28-6c7bec8d19f0>\u001b[0m in \u001b[0;36m<module>\u001b[0;34m\u001b[0m\n\u001b[1;32m      7\u001b[0m }\n\u001b[1;32m      8\u001b[0m \u001b[0mclf_gbr\u001b[0m \u001b[0;34m=\u001b[0m \u001b[0mGridSearchCV\u001b[0m\u001b[0;34m(\u001b[0m\u001b[0mgbr\u001b[0m\u001b[0;34m,\u001b[0m \u001b[0mparam_grid\u001b[0m \u001b[0;34m=\u001b[0m \u001b[0mparam_grid\u001b[0m\u001b[0;34m,\u001b[0m \u001b[0mverbose\u001b[0m \u001b[0;34m=\u001b[0m \u001b[0;32mTrue\u001b[0m \u001b[0;34m,\u001b[0m \u001b[0mn_jobs\u001b[0m \u001b[0;34m=\u001b[0m \u001b[0;34m-\u001b[0m\u001b[0;36m1\u001b[0m\u001b[0;34m)\u001b[0m\u001b[0;34m\u001b[0m\u001b[0;34m\u001b[0m\u001b[0m\n\u001b[0;32m----> 9\u001b[0;31m \u001b[0mbest_clf_gbr\u001b[0m  \u001b[0;34m=\u001b[0m \u001b[0mclf_gbr\u001b[0m\u001b[0;34m.\u001b[0m\u001b[0mfit\u001b[0m\u001b[0;34m(\u001b[0m\u001b[0mX_train\u001b[0m\u001b[0;34m,\u001b[0m\u001b[0mY_train\u001b[0m\u001b[0;34m)\u001b[0m\u001b[0;34m\u001b[0m\u001b[0;34m\u001b[0m\u001b[0m\n\u001b[0m\u001b[1;32m     10\u001b[0m \u001b[0mclf_performance\u001b[0m\u001b[0;34m(\u001b[0m\u001b[0mbest_clf_gbr\u001b[0m\u001b[0;34m,\u001b[0m\u001b[0;34m'Gradient Boost Regression'\u001b[0m\u001b[0;34m)\u001b[0m\u001b[0;34m\u001b[0m\u001b[0;34m\u001b[0m\u001b[0m\n",
      "\u001b[0;32m/opt/anaconda3/lib/python3.7/site-packages/sklearn/model_selection/_search.py\u001b[0m in \u001b[0;36mfit\u001b[0;34m(self, X, y, groups, **fit_params)\u001b[0m\n\u001b[1;32m    686\u001b[0m                 \u001b[0;32mreturn\u001b[0m \u001b[0mresults\u001b[0m\u001b[0;34m\u001b[0m\u001b[0;34m\u001b[0m\u001b[0m\n\u001b[1;32m    687\u001b[0m \u001b[0;34m\u001b[0m\u001b[0m\n\u001b[0;32m--> 688\u001b[0;31m             \u001b[0mself\u001b[0m\u001b[0;34m.\u001b[0m\u001b[0m_run_search\u001b[0m\u001b[0;34m(\u001b[0m\u001b[0mevaluate_candidates\u001b[0m\u001b[0;34m)\u001b[0m\u001b[0;34m\u001b[0m\u001b[0;34m\u001b[0m\u001b[0m\n\u001b[0m\u001b[1;32m    689\u001b[0m \u001b[0;34m\u001b[0m\u001b[0m\n\u001b[1;32m    690\u001b[0m         \u001b[0;31m# For multi-metric evaluation, store the best_index_, best_params_ and\u001b[0m\u001b[0;34m\u001b[0m\u001b[0;34m\u001b[0m\u001b[0;34m\u001b[0m\u001b[0m\n",
      "\u001b[0;32m/opt/anaconda3/lib/python3.7/site-packages/sklearn/model_selection/_search.py\u001b[0m in \u001b[0;36m_run_search\u001b[0;34m(self, evaluate_candidates)\u001b[0m\n\u001b[1;32m   1147\u001b[0m     \u001b[0;32mdef\u001b[0m \u001b[0m_run_search\u001b[0m\u001b[0;34m(\u001b[0m\u001b[0mself\u001b[0m\u001b[0;34m,\u001b[0m \u001b[0mevaluate_candidates\u001b[0m\u001b[0;34m)\u001b[0m\u001b[0;34m:\u001b[0m\u001b[0;34m\u001b[0m\u001b[0;34m\u001b[0m\u001b[0m\n\u001b[1;32m   1148\u001b[0m         \u001b[0;34m\"\"\"Search all candidates in param_grid\"\"\"\u001b[0m\u001b[0;34m\u001b[0m\u001b[0;34m\u001b[0m\u001b[0m\n\u001b[0;32m-> 1149\u001b[0;31m         \u001b[0mevaluate_candidates\u001b[0m\u001b[0;34m(\u001b[0m\u001b[0mParameterGrid\u001b[0m\u001b[0;34m(\u001b[0m\u001b[0mself\u001b[0m\u001b[0;34m.\u001b[0m\u001b[0mparam_grid\u001b[0m\u001b[0;34m)\u001b[0m\u001b[0;34m)\u001b[0m\u001b[0;34m\u001b[0m\u001b[0;34m\u001b[0m\u001b[0m\n\u001b[0m\u001b[1;32m   1150\u001b[0m \u001b[0;34m\u001b[0m\u001b[0m\n\u001b[1;32m   1151\u001b[0m \u001b[0;34m\u001b[0m\u001b[0m\n",
      "\u001b[0;32m/opt/anaconda3/lib/python3.7/site-packages/sklearn/model_selection/_search.py\u001b[0m in \u001b[0;36mevaluate_candidates\u001b[0;34m(candidate_params)\u001b[0m\n\u001b[1;32m    665\u001b[0m                                \u001b[0;32mfor\u001b[0m \u001b[0mparameters\u001b[0m\u001b[0;34m,\u001b[0m \u001b[0;34m(\u001b[0m\u001b[0mtrain\u001b[0m\u001b[0;34m,\u001b[0m \u001b[0mtest\u001b[0m\u001b[0;34m)\u001b[0m\u001b[0;34m\u001b[0m\u001b[0;34m\u001b[0m\u001b[0m\n\u001b[1;32m    666\u001b[0m                                in product(candidate_params,\n\u001b[0;32m--> 667\u001b[0;31m                                           cv.split(X, y, groups)))\n\u001b[0m\u001b[1;32m    668\u001b[0m \u001b[0;34m\u001b[0m\u001b[0m\n\u001b[1;32m    669\u001b[0m                 \u001b[0;32mif\u001b[0m \u001b[0mlen\u001b[0m\u001b[0;34m(\u001b[0m\u001b[0mout\u001b[0m\u001b[0;34m)\u001b[0m \u001b[0;34m<\u001b[0m \u001b[0;36m1\u001b[0m\u001b[0;34m:\u001b[0m\u001b[0;34m\u001b[0m\u001b[0;34m\u001b[0m\u001b[0m\n",
      "\u001b[0;32m/opt/anaconda3/lib/python3.7/site-packages/joblib/parallel.py\u001b[0m in \u001b[0;36m__call__\u001b[0;34m(self, iterable)\u001b[0m\n\u001b[1;32m    932\u001b[0m \u001b[0;34m\u001b[0m\u001b[0m\n\u001b[1;32m    933\u001b[0m             \u001b[0;32mwith\u001b[0m \u001b[0mself\u001b[0m\u001b[0;34m.\u001b[0m\u001b[0m_backend\u001b[0m\u001b[0;34m.\u001b[0m\u001b[0mretrieval_context\u001b[0m\u001b[0;34m(\u001b[0m\u001b[0;34m)\u001b[0m\u001b[0;34m:\u001b[0m\u001b[0;34m\u001b[0m\u001b[0;34m\u001b[0m\u001b[0m\n\u001b[0;32m--> 934\u001b[0;31m                 \u001b[0mself\u001b[0m\u001b[0;34m.\u001b[0m\u001b[0mretrieve\u001b[0m\u001b[0;34m(\u001b[0m\u001b[0;34m)\u001b[0m\u001b[0;34m\u001b[0m\u001b[0;34m\u001b[0m\u001b[0m\n\u001b[0m\u001b[1;32m    935\u001b[0m             \u001b[0;31m# Make sure that we get a last message telling us we are done\u001b[0m\u001b[0;34m\u001b[0m\u001b[0;34m\u001b[0m\u001b[0;34m\u001b[0m\u001b[0m\n\u001b[1;32m    936\u001b[0m             \u001b[0melapsed_time\u001b[0m \u001b[0;34m=\u001b[0m \u001b[0mtime\u001b[0m\u001b[0;34m.\u001b[0m\u001b[0mtime\u001b[0m\u001b[0;34m(\u001b[0m\u001b[0;34m)\u001b[0m \u001b[0;34m-\u001b[0m \u001b[0mself\u001b[0m\u001b[0;34m.\u001b[0m\u001b[0m_start_time\u001b[0m\u001b[0;34m\u001b[0m\u001b[0;34m\u001b[0m\u001b[0m\n",
      "\u001b[0;32m/opt/anaconda3/lib/python3.7/site-packages/joblib/parallel.py\u001b[0m in \u001b[0;36mretrieve\u001b[0;34m(self)\u001b[0m\n\u001b[1;32m    831\u001b[0m             \u001b[0;32mtry\u001b[0m\u001b[0;34m:\u001b[0m\u001b[0;34m\u001b[0m\u001b[0;34m\u001b[0m\u001b[0m\n\u001b[1;32m    832\u001b[0m                 \u001b[0;32mif\u001b[0m \u001b[0mgetattr\u001b[0m\u001b[0;34m(\u001b[0m\u001b[0mself\u001b[0m\u001b[0;34m.\u001b[0m\u001b[0m_backend\u001b[0m\u001b[0;34m,\u001b[0m \u001b[0;34m'supports_timeout'\u001b[0m\u001b[0;34m,\u001b[0m \u001b[0;32mFalse\u001b[0m\u001b[0;34m)\u001b[0m\u001b[0;34m:\u001b[0m\u001b[0;34m\u001b[0m\u001b[0;34m\u001b[0m\u001b[0m\n\u001b[0;32m--> 833\u001b[0;31m                     \u001b[0mself\u001b[0m\u001b[0;34m.\u001b[0m\u001b[0m_output\u001b[0m\u001b[0;34m.\u001b[0m\u001b[0mextend\u001b[0m\u001b[0;34m(\u001b[0m\u001b[0mjob\u001b[0m\u001b[0;34m.\u001b[0m\u001b[0mget\u001b[0m\u001b[0;34m(\u001b[0m\u001b[0mtimeout\u001b[0m\u001b[0;34m=\u001b[0m\u001b[0mself\u001b[0m\u001b[0;34m.\u001b[0m\u001b[0mtimeout\u001b[0m\u001b[0;34m)\u001b[0m\u001b[0;34m)\u001b[0m\u001b[0;34m\u001b[0m\u001b[0;34m\u001b[0m\u001b[0m\n\u001b[0m\u001b[1;32m    834\u001b[0m                 \u001b[0;32melse\u001b[0m\u001b[0;34m:\u001b[0m\u001b[0;34m\u001b[0m\u001b[0;34m\u001b[0m\u001b[0m\n\u001b[1;32m    835\u001b[0m                     \u001b[0mself\u001b[0m\u001b[0;34m.\u001b[0m\u001b[0m_output\u001b[0m\u001b[0;34m.\u001b[0m\u001b[0mextend\u001b[0m\u001b[0;34m(\u001b[0m\u001b[0mjob\u001b[0m\u001b[0;34m.\u001b[0m\u001b[0mget\u001b[0m\u001b[0;34m(\u001b[0m\u001b[0;34m)\u001b[0m\u001b[0;34m)\u001b[0m\u001b[0;34m\u001b[0m\u001b[0;34m\u001b[0m\u001b[0m\n",
      "\u001b[0;32m/opt/anaconda3/lib/python3.7/site-packages/joblib/_parallel_backends.py\u001b[0m in \u001b[0;36mwrap_future_result\u001b[0;34m(future, timeout)\u001b[0m\n\u001b[1;32m    519\u001b[0m         AsyncResults.get from multiprocessing.\"\"\"\n\u001b[1;32m    520\u001b[0m         \u001b[0;32mtry\u001b[0m\u001b[0;34m:\u001b[0m\u001b[0;34m\u001b[0m\u001b[0;34m\u001b[0m\u001b[0m\n\u001b[0;32m--> 521\u001b[0;31m             \u001b[0;32mreturn\u001b[0m \u001b[0mfuture\u001b[0m\u001b[0;34m.\u001b[0m\u001b[0mresult\u001b[0m\u001b[0;34m(\u001b[0m\u001b[0mtimeout\u001b[0m\u001b[0;34m=\u001b[0m\u001b[0mtimeout\u001b[0m\u001b[0;34m)\u001b[0m\u001b[0;34m\u001b[0m\u001b[0;34m\u001b[0m\u001b[0m\n\u001b[0m\u001b[1;32m    522\u001b[0m         \u001b[0;32mexcept\u001b[0m \u001b[0mLokyTimeoutError\u001b[0m\u001b[0;34m:\u001b[0m\u001b[0;34m\u001b[0m\u001b[0;34m\u001b[0m\u001b[0m\n\u001b[1;32m    523\u001b[0m             \u001b[0;32mraise\u001b[0m \u001b[0mTimeoutError\u001b[0m\u001b[0;34m(\u001b[0m\u001b[0;34m)\u001b[0m\u001b[0;34m\u001b[0m\u001b[0;34m\u001b[0m\u001b[0m\n",
      "\u001b[0;32m/opt/anaconda3/lib/python3.7/concurrent/futures/_base.py\u001b[0m in \u001b[0;36mresult\u001b[0;34m(self, timeout)\u001b[0m\n\u001b[1;32m    428\u001b[0m                 \u001b[0;32mreturn\u001b[0m \u001b[0mself\u001b[0m\u001b[0;34m.\u001b[0m\u001b[0m__get_result\u001b[0m\u001b[0;34m(\u001b[0m\u001b[0;34m)\u001b[0m\u001b[0;34m\u001b[0m\u001b[0;34m\u001b[0m\u001b[0m\n\u001b[1;32m    429\u001b[0m \u001b[0;34m\u001b[0m\u001b[0m\n\u001b[0;32m--> 430\u001b[0;31m             \u001b[0mself\u001b[0m\u001b[0;34m.\u001b[0m\u001b[0m_condition\u001b[0m\u001b[0;34m.\u001b[0m\u001b[0mwait\u001b[0m\u001b[0;34m(\u001b[0m\u001b[0mtimeout\u001b[0m\u001b[0;34m)\u001b[0m\u001b[0;34m\u001b[0m\u001b[0;34m\u001b[0m\u001b[0m\n\u001b[0m\u001b[1;32m    431\u001b[0m \u001b[0;34m\u001b[0m\u001b[0m\n\u001b[1;32m    432\u001b[0m             \u001b[0;32mif\u001b[0m \u001b[0mself\u001b[0m\u001b[0;34m.\u001b[0m\u001b[0m_state\u001b[0m \u001b[0;32min\u001b[0m \u001b[0;34m[\u001b[0m\u001b[0mCANCELLED\u001b[0m\u001b[0;34m,\u001b[0m \u001b[0mCANCELLED_AND_NOTIFIED\u001b[0m\u001b[0;34m]\u001b[0m\u001b[0;34m:\u001b[0m\u001b[0;34m\u001b[0m\u001b[0;34m\u001b[0m\u001b[0m\n",
      "\u001b[0;32m/opt/anaconda3/lib/python3.7/threading.py\u001b[0m in \u001b[0;36mwait\u001b[0;34m(self, timeout)\u001b[0m\n\u001b[1;32m    294\u001b[0m         \u001b[0;32mtry\u001b[0m\u001b[0;34m:\u001b[0m    \u001b[0;31m# restore state no matter what (e.g., KeyboardInterrupt)\u001b[0m\u001b[0;34m\u001b[0m\u001b[0;34m\u001b[0m\u001b[0m\n\u001b[1;32m    295\u001b[0m             \u001b[0;32mif\u001b[0m \u001b[0mtimeout\u001b[0m \u001b[0;32mis\u001b[0m \u001b[0;32mNone\u001b[0m\u001b[0;34m:\u001b[0m\u001b[0;34m\u001b[0m\u001b[0;34m\u001b[0m\u001b[0m\n\u001b[0;32m--> 296\u001b[0;31m                 \u001b[0mwaiter\u001b[0m\u001b[0;34m.\u001b[0m\u001b[0macquire\u001b[0m\u001b[0;34m(\u001b[0m\u001b[0;34m)\u001b[0m\u001b[0;34m\u001b[0m\u001b[0;34m\u001b[0m\u001b[0m\n\u001b[0m\u001b[1;32m    297\u001b[0m                 \u001b[0mgotit\u001b[0m \u001b[0;34m=\u001b[0m \u001b[0;32mTrue\u001b[0m\u001b[0;34m\u001b[0m\u001b[0;34m\u001b[0m\u001b[0m\n\u001b[1;32m    298\u001b[0m             \u001b[0;32melse\u001b[0m\u001b[0;34m:\u001b[0m\u001b[0;34m\u001b[0m\u001b[0;34m\u001b[0m\u001b[0m\n",
      "\u001b[0;31mKeyboardInterrupt\u001b[0m: "
     ]
    }
   ],
   "source": [
    "gbr = GradientBoostingRegressor()\n",
    "param_grid = {'n_estimators' : [350,400,450,500],\n",
    "              'max_depth':[5,10,15,20],\n",
    "              'min_samples_split' :[2,5,7,10],\n",
    "              'learning_rate' : [0.1,0.5,1,2],\n",
    "              'loss' : ['ls','lad','huber','quantile']\n",
    "}\n",
    "clf_gbr = GridSearchCV(gbr, param_grid = param_grid, verbose = True , n_jobs = -1)\n",
    "best_clf_gbr  = clf_gbr.fit(X_train,Y_train)\n",
    "clf_performance(best_clf_gbr,'Gradient Boost Regression')"
   ]
  },
  {
   "cell_type": "code",
   "execution_count": 27,
   "metadata": {
    "cell_id": "00062-c5b3d3ea-9be0-4b7a-8b44-b65c9c7fc003",
    "deepnote_cell_type": "code",
    "execution_millis": 11965,
    "execution_start": 1606146004729,
    "output_cleared": false,
    "source_hash": "6c288d8a"
   },
   "outputs": [
    {
     "name": "stdout",
     "output_type": "stream",
     "text": [
      "Fitting 3 folds for each of 48 candidates, totalling 144 fits\n"
     ]
    },
    {
     "name": "stderr",
     "output_type": "stream",
     "text": [
      "/opt/anaconda3/lib/python3.7/site-packages/sklearn/model_selection/_split.py:1978: FutureWarning: The default value of cv will change from 3 to 5 in version 0.22. Specify it explicitly to silence this warning.\n",
      "  warnings.warn(CV_WARNING, FutureWarning)\n",
      "[Parallel(n_jobs=-1)]: Using backend LokyBackend with 12 concurrent workers.\n",
      "[Parallel(n_jobs=-1)]: Done  26 tasks      | elapsed:    9.8s\n",
      "[Parallel(n_jobs=-1)]: Done 144 out of 144 | elapsed:   21.6s finished\n"
     ]
    },
    {
     "name": "stdout",
     "output_type": "stream",
     "text": [
      "Ridge Regression\n",
      "Best Parameters: {'alpha': 0.5, 'copy_X': True, 'fit_intercept': True, 'max_iter': 2000, 'normalize': True, 'solver': 'auto'}\n"
     ]
    }
   ],
   "source": [
    "ridge = Ridge()\n",
    "param_grid = {'alpha' : [0.1,0,2,0.5,1,2],\n",
    "              'fit_intercept':[True,False],\n",
    "              'normalize' :[True,False],\n",
    "              'copy_X' : [True,False],\n",
    "              'max_iter' : [2000],\n",
    "              'solver':['auto']\n",
    "}\n",
    "clf_ridge = GridSearchCV(ridge, param_grid = param_grid, verbose = True ,n_jobs= -1)\n",
    "best_clf_ridge  = clf_ridge.fit(X_train,Y_train)\n",
    "clf_performance(best_clf_ridge,'Ridge Regression')"
   ]
  },
  {
   "cell_type": "code",
   "execution_count": null,
   "metadata": {
    "cell_id": "00066-9412ff1c-b069-46c3-be3a-276765081f68",
    "deepnote_cell_type": "code",
    "execution_millis": 11,
    "execution_start": 1606126435639,
    "output_cleared": false,
    "source_hash": "99706a18"
   },
   "outputs": [],
   "source": [
    "# Tuned Models\n",
    "tuned_linear = best_clf_linear.best_estimator_\n",
    "tuned_gradient = best_clf_gradient.best_estimator_\n",
    "tuned_ridge = best_clf_ridge.best_estimator_"
   ]
  },
  {
   "cell_type": "markdown",
   "metadata": {
    "cell_id": "00071-98eabe29-ac15-44d3-bb4c-a61815ee72ea",
    "deepnote_cell_type": "markdown"
   },
   "source": [
    "## Model Fitting & Saving"
   ]
  },
  {
   "cell_type": "code",
   "execution_count": null,
   "metadata": {
    "cell_id": "00072-972eb3d5-55cc-4699-8cb8-6a73ff74f14c",
    "deepnote_cell_type": "code"
   },
   "outputs": [],
   "source": [
    "tuned_linear.fit(X_train,Y_train)\n",
    "tuned_gradient.fit(X_train,Y_train)\n",
    "tuned_ridge.fit(X_train,Y_train)\n",
    "\n",
    "pickle.dump(tuned_lr, open('tuned_linear_model', 'wb'))\n",
    "pickle.dump(tuned_gradient, open('tuned_gradient_model', 'wb'))\n",
    "pickle.dump(tuned_ridge, open('tuned_ridge_model', 'wb'))"
   ]
  },
  {
   "cell_type": "markdown",
   "metadata": {
    "cell_id": "00073-582e0abd-d2d9-41fb-97fc-829bffe8300e",
    "deepnote_cell_type": "markdown"
   },
   "source": [
    "## Model Loading & Predictions"
   ]
  },
  {
   "cell_type": "code",
   "execution_count": null,
   "metadata": {
    "cell_id": "00074-1faf1bc1-0774-4198-8346-849da6ccb2cf",
    "deepnote_cell_type": "code"
   },
   "outputs": [],
   "source": [
    "tuned_linear = pickle.load(open('tuned_linear_model', 'rb'))\n",
    "tuned_gradient = pickle.load(open('tuned_gradient_model', 'rb'))\n",
    "tuned_ridge = pickle.load(open('tuned_ridge_model', 'rb'))"
   ]
  },
  {
   "cell_type": "code",
   "execution_count": null,
   "metadata": {
    "cell_id": "00075-e6e0219f-3182-4e8f-94c2-c8cc12b6debb",
    "deepnote_cell_type": "code"
   },
   "outputs": [],
   "source": [
    "tuned_linear_prediction = tuned_linear.predict(X_test).astype(int)\n",
    "tuned_gradient_prediction = tuned_gradient.predict(X_test).astype(int)\n",
    "tuned_ridge_prediction = tuned_ridge.predict(X_test).astype(int)"
   ]
  },
  {
   "cell_type": "code",
   "execution_count": null,
   "metadata": {
    "cell_id": "00076-fa041b80-589f-4aee-99eb-97189ab2ae4e",
    "deepnote_cell_type": "code"
   },
   "outputs": [],
   "source": [
    "result_comparison = {'ID':testing['id'],'linear':tuned_linear_prediction,'gradient':tuned_gradient_prediction,'ridge':tuned_ridge_prediction,'Actual':Y_train}\n",
    "result_comparison = pd.DataFrame(data=result_comparison)"
   ]
  },
  {
   "cell_type": "code",
   "execution_count": null,
   "metadata": {
    "cell_id": "00077-bed3f449-7dea-48e5-8739-6e47fa3fa316",
    "deepnote_cell_type": "code"
   },
   "outputs": [],
   "source": [
    "result_comparison['difference_linear_gradient'] = result_comparison.apply(lambda x : 1 if x['linear'] != x['gradient'] else 0, axis = 1)\n",
    "result_comparison['difference_gradient_ridge'] = result_comparison.apply(lambda x : 1 if x['gradient'] != x['ridge'] else 0, axis = 1)"
   ]
  },
  {
   "cell_type": "code",
   "execution_count": null,
   "metadata": {
    "cell_id": "00078-9882d81d-e9a3-44e6-8302-799117afd3ee",
    "deepnote_cell_type": "code"
   },
   "outputs": [],
   "source": [
    "diff_linear_gradient = result_comparison['difference_linear_gradient'].value_counts()\n",
    "diff_gradient_ridge = result_comparison['difference_gradient_ridge'].value_counts()\n",
    "\n",
    "print('Value difference between Tuned Linear Regression and Tuned Gradient Boosting Regression :',diff_linear_gradient.values[1])\n",
    "print('Value difference between Tuned Gradient Boosting Regression and Tuned Ridge Regression :',diff_gradient_ridge.values[1])"
   ]
  },
  {
   "cell_type": "code",
   "execution_count": null,
   "metadata": {},
   "outputs": [],
   "source": []
  },
  {
   "cell_type": "code",
   "execution_count": null,
   "metadata": {},
   "outputs": [],
   "source": []
  }
 ],
 "metadata": {
  "deepnote_execution_queue": [],
  "deepnote_notebook_id": "163ed261-f3a4-4851-84f4-53c07de3ffdf",
  "kernelspec": {
   "display_name": "Python 3",
   "language": "python",
   "name": "python3"
  },
  "language_info": {
   "codemirror_mode": {
    "name": "ipython",
    "version": 3
   },
   "file_extension": ".py",
   "mimetype": "text/x-python",
   "name": "python",
   "nbconvert_exporter": "python",
   "pygments_lexer": "ipython3",
   "version": "3.7.4"
  }
 },
 "nbformat": 4,
 "nbformat_minor": 2
}
